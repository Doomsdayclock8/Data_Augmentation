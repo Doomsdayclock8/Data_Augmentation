{
 "cells": [
  {
   "cell_type": "markdown",
   "id": "3424a997",
   "metadata": {},
   "source": [
    "# AutoDiff Model"
   ]
  },
  {
   "cell_type": "code",
   "execution_count": 2,
   "id": "b9477996",
   "metadata": {},
   "outputs": [],
   "source": [
    "import sys\n",
    "import os\n",
    "\n",
    "# Define the path to your folder\n",
    "folder_path = r\"C:\\Users\\Tawfique\\Thesis\\Data_Augmentation\\Other Models\\AutoDiffusion\"\n",
    "\n",
    "# Add the folder to sys.path\n",
    "sys.path.append(folder_path)"
   ]
  },
  {
   "cell_type": "code",
   "execution_count": 3,
   "id": "f4075527",
   "metadata": {},
   "outputs": [
    {
     "name": "stdout",
     "output_type": "stream",
     "text": [
      "Real_Data/diabetes.csv\n"
     ]
    },
    {
     "data": {
      "application/vnd.jupyter.widget-view+json": {
       "model_id": "df0f5625d76d47989911e0e9824b10f0",
       "version_major": 2,
       "version_minor": 0
      },
      "text/plain": [
       "  0%|          | 0/100 [00:00<?, ?it/s]"
      ]
     },
     "metadata": {},
     "output_type": "display_data"
    },
    {
     "data": {
      "application/vnd.jupyter.widget-view+json": {
       "model_id": "7efd5fdbd49245609d19d797a99f4ead",
       "version_major": 2,
       "version_minor": 0
      },
      "text/plain": [
       "  0%|          | 0/100 [00:00<?, ?it/s]"
      ]
     },
     "metadata": {},
     "output_type": "display_data"
    },
    {
     "name": "stderr",
     "output_type": "stream",
     "text": [
      "c:\\Users\\Tawfique\\Thesis\\Data_Augmentation\\Other Models\\AutoDiffusion\\TabDDPMdiff.py:270: UserWarning: To copy construct from a tensor, it is recommended to use sourceTensor.clone().detach() or sourceTensor.clone().detach().requires_grad_(True), rather than torch.tensor(sourceTensor).\n",
      "  t = torch.tensor(t)\n",
      "c:\\Users\\Tawfique\\Thesis\\Data_Augmentation\\Other Models\\AutoDiffusion\\TabDDPMdiff.py:276: UserWarning: To copy construct from a tensor, it is recommended to use sourceTensor.clone().detach() or sourceTensor.clone().detach().requires_grad_(True), rather than torch.tensor(sourceTensor).\n",
      "  t = torch.tensor(t)\n"
     ]
    }
   ],
   "source": [
    "import numpy as np\n",
    "#import process_edited as pce\n",
    "import process_GQ as pce\n",
    "import autoencoder as ae\n",
    "import diffusion as diff\n",
    "import TabDDPMdiff as TabDiff\n",
    "import pandas as pd\n",
    "import torch\n",
    "import os\n",
    "import time\n",
    "import numpy as np\n",
    "strings_set = {'diabetes'}\n",
    "# strings_set = {'abalone', 'adult', 'Churn_Modelling','faults', 'indian_liver_patient', \n",
    "#                'insurance', 'News', 'Obesity', 'Shoppers', 'Titanic', 'wilt', 'Bean', 'nursery', 'Magic', 'HTRU'}\n",
    "Model = 'AutoDiff'\n",
    "\n",
    "for string in strings_set:\n",
    "    filename = f'Real_Data/{string}.csv'\n",
    "    # Read dataframe\n",
    "    print(filename)\n",
    "    real_df = pd.read_csv(filename)\n",
    "    #real_df = real_df.drop('url', axis=1)\n",
    "    # Step 2: Inspect the data and check for class imbalance\n",
    "    # Assuming the last column is the label, and the rest are features\n",
    "    X = real_df.iloc[:, :-1].values  # Features\n",
    "    y = real_df.iloc[:, -1].values  # Labels (binary classification)\n",
    "     # Separate the minority class\n",
    "    real_minortiy = real_df[y == 1]\n",
    "    \n",
    "    threshold = 0.01 # Threshold for mixed-type variables\n",
    "    parser = pce.DataFrameParser().fit(real_minortiy, threshold)\n",
    "    ################################################################################################################\n",
    "    # Auto-encoder hyper-parameters\n",
    "    device = 'cuda' #@param {'type':'string'}\n",
    "    n_epochs = 100 #@param {'type':'integer'}\n",
    "    eps = 1e-5 #@param {type:\"number\"}\n",
    "    weight_decay = 1e-6 #@param {'type':'number'}\n",
    "    maximum_learning_rate = 1e-2 #@param {'type':'number'}\n",
    "    lr = 2e-4 #@param {'type':'number'}\n",
    "    hidden_size = 250\n",
    "    num_layers = 3\n",
    "    batch_size = 50\n",
    "\n",
    "    ds = ae.train_autoencoder(real_minortiy, hidden_size, num_layers, lr, weight_decay, n_epochs, batch_size, threshold)\n",
    "    latent_features = ds[1].detach()\n",
    "\n",
    "    ################################################################################################################\n",
    "    # diffusion hyper-parameters\n",
    "    diff_n_epochs = 100 #@param {'type':'integer'}\n",
    "    hidden_dims = (256, 512, 1024, 512, 256) #@param {type:\"raw\"}\n",
    "    converted_table_dim = latent_features.shape[1] #@param {'type':'integer'}\n",
    "    sigma = 20  #@param {'type':'integer'} \n",
    "    num_batches_per_epoch = 50 #@param {'type':'number'}\n",
    "    batch_size = 50 #@param {'type':'integer'}\n",
    "    T = 100  #@param {'type':'integer'}\n",
    "\n",
    "    score = TabDiff.train_diffusion(latent_features, T, eps, sigma, lr, \n",
    "                        num_batches_per_epoch, maximum_learning_rate, weight_decay, diff_n_epochs, batch_size)\n",
    "\n",
    "############################################################################################################### "
   ]
  },
  {
   "cell_type": "markdown",
   "id": "76dc8da1",
   "metadata": {},
   "source": [
    "### Same code with timer decorator"
   ]
  },
  {
   "cell_type": "code",
   "execution_count": 1,
   "id": "da6ddba8",
   "metadata": {},
   "outputs": [
    {
     "name": "stdout",
     "output_type": "stream",
     "text": [
      "Processing file: Real_Data/diabetes.csv\n"
     ]
    },
    {
     "data": {
      "application/vnd.jupyter.widget-view+json": {
       "model_id": "766a03ebd91240e898586e6d9438ec9a",
       "version_major": 2,
       "version_minor": 0
      },
      "text/plain": [
       "  0%|          | 0/100 [00:00<?, ?it/s]"
      ]
     },
     "metadata": {},
     "output_type": "display_data"
    },
    {
     "data": {
      "application/vnd.jupyter.widget-view+json": {
       "model_id": "32a57c419cd9455789955248b3e1979e",
       "version_major": 2,
       "version_minor": 0
      },
      "text/plain": [
       "  0%|          | 0/100 [00:00<?, ?it/s]"
      ]
     },
     "metadata": {},
     "output_type": "display_data"
    },
    {
     "name": "stderr",
     "output_type": "stream",
     "text": [
      "c:\\Users\\Tawfique\\Thesis\\Data_Augmentation\\Other Models\\AutoDiffusion\\TabDDPMdiff.py:270: UserWarning: To copy construct from a tensor, it is recommended to use sourceTensor.clone().detach() or sourceTensor.clone().detach().requires_grad_(True), rather than torch.tensor(sourceTensor).\n",
      "  t = torch.tensor(t)\n",
      "c:\\Users\\Tawfique\\Thesis\\Data_Augmentation\\Other Models\\AutoDiffusion\\TabDDPMdiff.py:276: UserWarning: To copy construct from a tensor, it is recommended to use sourceTensor.clone().detach() or sourceTensor.clone().detach().requires_grad_(True), rather than torch.tensor(sourceTensor).\n",
      "  t = torch.tensor(t)\n"
     ]
    },
    {
     "name": "stdout",
     "output_type": "stream",
     "text": [
      "Training completed for dataset: diabetes\n",
      "process_and_train ran in 25.49 seconds\n"
     ]
    },
    {
     "data": {
      "text/plain": [
       "MLPDiffusion(\n",
       "  (mlp): MLP(\n",
       "    (blocks): ModuleList(\n",
       "      (0): Block(\n",
       "        (linear): Linear(in_features=128, out_features=256, bias=True)\n",
       "        (activation): ReLU()\n",
       "        (dropout): Dropout(p=0.0, inplace=False)\n",
       "      )\n",
       "      (1): Block(\n",
       "        (linear): Linear(in_features=256, out_features=256, bias=True)\n",
       "        (activation): ReLU()\n",
       "        (dropout): Dropout(p=0.0, inplace=False)\n",
       "      )\n",
       "    )\n",
       "    (head): Linear(in_features=256, out_features=13, bias=True)\n",
       "  )\n",
       "  (proj): Linear(in_features=13, out_features=128, bias=True)\n",
       "  (time_embed): Sequential(\n",
       "    (0): Linear(in_features=128, out_features=128, bias=True)\n",
       "    (1): SiLU()\n",
       "    (2): Linear(in_features=128, out_features=128, bias=True)\n",
       "  )\n",
       ")"
      ]
     },
     "execution_count": 1,
     "metadata": {},
     "output_type": "execute_result"
    }
   ],
   "source": [
    "import numpy as np\n",
    "import process_GQ as pce\n",
    "import autoencoder as ae\n",
    "import TabDDPMdiff as TabDiff\n",
    "import pandas as pd\n",
    "import torch\n",
    "import time\n",
    "\n",
    "# Decorator to measure execution time\n",
    "def timer(func):\n",
    "    def wrapper(*args, **kwargs):\n",
    "        start = time.time()\n",
    "        result = func(*args, **kwargs)\n",
    "        end = time.time()\n",
    "        print(f\"{func.__name__} ran in {end - start:.2f} seconds\")\n",
    "        return result\n",
    "    return wrapper\n",
    "\n",
    "@timer\n",
    "def process_and_train(strings_set, model, threshold=0.01, device='cuda'):\n",
    "    for string in strings_set:\n",
    "        filename = f'Real_Data/{string}.csv'\n",
    "        # Read dataframe\n",
    "        print(f\"Processing file: {filename}\")\n",
    "        real_df = pd.read_csv(filename)\n",
    "\n",
    "        # Features and labels (binary classification, assuming last column is label)\n",
    "        X = real_df.iloc[:, :-1].values\n",
    "        y = real_df.iloc[:, -1].values\n",
    "\n",
    "        # Separate the minority class\n",
    "        real_minortiy = real_df[y == 1]\n",
    "        \n",
    "        # Parse the minority data\n",
    "        parser = pce.DataFrameParser().fit(real_minortiy, threshold)\n",
    "        \n",
    "        # Auto-encoder hyper-parameters\n",
    "        n_epochs = 100\n",
    "        eps = 1e-5\n",
    "        weight_decay = 1e-6\n",
    "        maximum_learning_rate = 1e-2\n",
    "        lr = 2e-4\n",
    "        hidden_size = 250\n",
    "        num_layers = 3\n",
    "        batch_size = 50\n",
    "\n",
    "        # Train the autoencoder\n",
    "        ds = ae.train_autoencoder(real_minortiy, hidden_size, num_layers, lr, weight_decay, n_epochs, batch_size, threshold)\n",
    "        latent_features = ds[1].detach()\n",
    "\n",
    "        # Diffusion hyper-parameters\n",
    "        diff_n_epochs = 100\n",
    "        hidden_dims = (256, 512, 1024, 512, 256)\n",
    "        converted_table_dim = latent_features.shape[1]\n",
    "        sigma = 20\n",
    "        num_batches_per_epoch = 50\n",
    "        T = 100\n",
    "\n",
    "        # Train diffusion model\n",
    "        score = TabDiff.train_diffusion(latent_features, T, eps, sigma, lr,\n",
    "                                        num_batches_per_epoch, maximum_learning_rate, weight_decay, diff_n_epochs, batch_size)\n",
    "        print(f\"Training completed for dataset: {string}\")\n",
    "        return score\n",
    "\n",
    "# Set parameters and execute the function\n",
    "strings_set = {'diabetes'}\n",
    "Model = 'AutoDiff'\n",
    "\n",
    "process_and_train(strings_set, Model)\n"
   ]
  },
  {
   "cell_type": "code",
   "execution_count": 5,
   "id": "9de496f4",
   "metadata": {},
   "outputs": [
    {
     "data": {
      "text/plain": [
       "TabDDPMdiff.MLPDiffusion"
      ]
     },
     "execution_count": 5,
     "metadata": {},
     "output_type": "execute_result"
    }
   ],
   "source": [
    "type(score)"
   ]
  },
  {
   "cell_type": "code",
   "execution_count": 6,
   "id": "35b9f00b",
   "metadata": {},
   "outputs": [
    {
     "data": {
      "application/vnd.jupyter.widget-view+json": {
       "model_id": "9cf645bb3cde42f0b2988926128093b1",
       "version_major": 2,
       "version_minor": 0
      },
      "text/plain": [
       "  0%|          | 0/300 [00:00<?, ?it/s]"
      ]
     },
     "metadata": {},
     "output_type": "display_data"
    },
    {
     "name": "stderr",
     "output_type": "stream",
     "text": [
      "c:\\Users\\Tawfique\\Thesis\\Data_Augmentation\\Other Models\\AutoDiffusion\\diffusion.py:17: UserWarning: To copy construct from a tensor, it is recommended to use sourceTensor.clone().detach() or sourceTensor.clone().detach().requires_grad_(True), rather than torch.tensor(sourceTensor).\n",
      "  t = torch.tensor(t)\n",
      "c:\\Users\\Tawfique\\Thesis\\Data_Augmentation\\Other Models\\AutoDiffusion\\diffusion.py:24: UserWarning: To copy construct from a tensor, it is recommended to use sourceTensor.clone().detach() or sourceTensor.clone().detach().requires_grad_(True), rather than torch.tensor(sourceTensor).\n",
      "  t = torch.tensor(t)\n"
     ]
    }
   ],
   "source": [
    "T = 300; N = latent_features.shape[0]; P = latent_features.shape[1]\n",
    "sample = diff.Euler_Maruyama_sampling(score, T, N, P, device)"
   ]
  },
  {
   "cell_type": "code",
   "execution_count": 8,
   "id": "bf0f0796",
   "metadata": {},
   "outputs": [
    {
     "name": "stdout",
     "output_type": "stream",
     "text": [
      "<class 'torch.Tensor'>\n"
     ]
    },
    {
     "data": {
      "text/plain": [
       "torch.Size([268, 13])"
      ]
     },
     "execution_count": 8,
     "metadata": {},
     "output_type": "execute_result"
    }
   ],
   "source": [
    "print(type(sample))\n",
    "sample.shape"
   ]
  },
  {
   "cell_type": "code",
   "execution_count": null,
   "id": "f44dd7d9",
   "metadata": {},
   "outputs": [
    {
     "data": {
      "application/vnd.jupyter.widget-view+json": {
       "model_id": "d4f266a702e54e918dc64650f32a0805",
       "version_major": 2,
       "version_minor": 0
      },
      "text/plain": [
       "  0%|          | 0/300 [00:00<?, ?it/s]"
      ]
     },
     "metadata": {},
     "output_type": "display_data"
    },
    {
     "name": "stderr",
     "output_type": "stream",
     "text": [
      "c:\\Users\\Tawfique\\Thesis\\AutoDiffusion\\Codes + Descriptions\\diffusion.py:17: UserWarning: To copy construct from a tensor, it is recommended to use sourceTensor.clone().detach() or sourceTensor.clone().detach().requires_grad_(True), rather than torch.tensor(sourceTensor).\n",
      "  t = torch.tensor(t)\n",
      "c:\\Users\\Tawfique\\Thesis\\AutoDiffusion\\Codes + Descriptions\\diffusion.py:24: UserWarning: To copy construct from a tensor, it is recommended to use sourceTensor.clone().detach() or sourceTensor.clone().detach().requires_grad_(True), rather than torch.tensor(sourceTensor).\n",
      "  t = torch.tensor(t)\n"
     ]
    }
   ],
   "source": [
    "duration = end_time - start_time\n",
    "\n",
    "time_duration.append(duration)\n",
    "\n",
    "gen_output = ds[0](sample, ds[2], ds[3])\n",
    "gen_df = pce.convert_to_table(real_minortiy, gen_output, threshold)\n",
    "selected_samples = gen_df.sample(n=100, random_state=42)  # For reproducibility\n",
    "# Syn _df will be the dataset after augmentation\n",
    "syn_df = pd.concat([real_df, selected_samples], ignore_index=True)\n",
    "output_directory = os.getcwd()+f'/{string}/'\n",
    "filename = f'{Model}_{string}_Augmented.csv'\n",
    "\n",
    "output_file = os.path.join(output_directory, filename)\n",
    "syn_df.to_csv(output_file, index=False) "
   ]
  },
  {
   "cell_type": "markdown",
   "id": "82aa8700",
   "metadata": {},
   "source": [
    "#### Access Real & Syntetic Dataset that are already Stored"
   ]
  },
  {
   "cell_type": "markdown",
   "id": "5cb3c9a5",
   "metadata": {},
   "source": [
    "##### No need to run the model if you already have run it once for the dataset"
   ]
  },
  {
   "cell_type": "code",
   "execution_count": 35,
   "id": "b45c33d0",
   "metadata": {},
   "outputs": [
    {
     "data": {
      "text/html": [
       "<div>\n",
       "<style scoped>\n",
       "    .dataframe tbody tr th:only-of-type {\n",
       "        vertical-align: middle;\n",
       "    }\n",
       "\n",
       "    .dataframe tbody tr th {\n",
       "        vertical-align: top;\n",
       "    }\n",
       "\n",
       "    .dataframe thead th {\n",
       "        text-align: right;\n",
       "    }\n",
       "</style>\n",
       "<table border=\"1\" class=\"dataframe\">\n",
       "  <thead>\n",
       "    <tr style=\"text-align: right;\">\n",
       "      <th></th>\n",
       "      <th>Pregnancies</th>\n",
       "      <th>Glucose</th>\n",
       "      <th>BloodPressure</th>\n",
       "      <th>SkinThickness</th>\n",
       "      <th>Insulin</th>\n",
       "      <th>BMI</th>\n",
       "      <th>DiabetesPedigreeFunction</th>\n",
       "      <th>Age</th>\n",
       "      <th>Outcome</th>\n",
       "    </tr>\n",
       "  </thead>\n",
       "  <tbody>\n",
       "    <tr>\n",
       "      <th>0</th>\n",
       "      <td>6</td>\n",
       "      <td>148.000000</td>\n",
       "      <td>72.000000</td>\n",
       "      <td>35.000000</td>\n",
       "      <td>0.000000</td>\n",
       "      <td>33.600000</td>\n",
       "      <td>0.627000</td>\n",
       "      <td>50.000000</td>\n",
       "      <td>1.0</td>\n",
       "    </tr>\n",
       "    <tr>\n",
       "      <th>1</th>\n",
       "      <td>1</td>\n",
       "      <td>85.000000</td>\n",
       "      <td>66.000000</td>\n",
       "      <td>29.000000</td>\n",
       "      <td>0.000000</td>\n",
       "      <td>26.600000</td>\n",
       "      <td>0.351000</td>\n",
       "      <td>31.000000</td>\n",
       "      <td>0.0</td>\n",
       "    </tr>\n",
       "    <tr>\n",
       "      <th>2</th>\n",
       "      <td>8</td>\n",
       "      <td>183.000000</td>\n",
       "      <td>64.000000</td>\n",
       "      <td>0.000000</td>\n",
       "      <td>0.000000</td>\n",
       "      <td>23.300000</td>\n",
       "      <td>0.672000</td>\n",
       "      <td>32.000000</td>\n",
       "      <td>1.0</td>\n",
       "    </tr>\n",
       "    <tr>\n",
       "      <th>3</th>\n",
       "      <td>1</td>\n",
       "      <td>89.000000</td>\n",
       "      <td>66.000000</td>\n",
       "      <td>23.000000</td>\n",
       "      <td>94.000000</td>\n",
       "      <td>28.100000</td>\n",
       "      <td>0.167000</td>\n",
       "      <td>21.000000</td>\n",
       "      <td>0.0</td>\n",
       "    </tr>\n",
       "    <tr>\n",
       "      <th>4</th>\n",
       "      <td>0</td>\n",
       "      <td>137.000000</td>\n",
       "      <td>40.000000</td>\n",
       "      <td>35.000000</td>\n",
       "      <td>168.000000</td>\n",
       "      <td>43.100000</td>\n",
       "      <td>2.288000</td>\n",
       "      <td>33.000000</td>\n",
       "      <td>1.0</td>\n",
       "    </tr>\n",
       "    <tr>\n",
       "      <th>...</th>\n",
       "      <td>...</td>\n",
       "      <td>...</td>\n",
       "      <td>...</td>\n",
       "      <td>...</td>\n",
       "      <td>...</td>\n",
       "      <td>...</td>\n",
       "      <td>...</td>\n",
       "      <td>...</td>\n",
       "      <td>...</td>\n",
       "    </tr>\n",
       "    <tr>\n",
       "      <th>863</th>\n",
       "      <td>5</td>\n",
       "      <td>119.976410</td>\n",
       "      <td>68.000000</td>\n",
       "      <td>40.702263</td>\n",
       "      <td>150.123917</td>\n",
       "      <td>32.379799</td>\n",
       "      <td>0.551422</td>\n",
       "      <td>37.227985</td>\n",
       "      <td>1.0</td>\n",
       "    </tr>\n",
       "    <tr>\n",
       "      <th>864</th>\n",
       "      <td>3</td>\n",
       "      <td>109.848259</td>\n",
       "      <td>82.000000</td>\n",
       "      <td>18.275486</td>\n",
       "      <td>0.000000</td>\n",
       "      <td>37.481720</td>\n",
       "      <td>2.130903</td>\n",
       "      <td>40.087616</td>\n",
       "      <td>1.0</td>\n",
       "    </tr>\n",
       "    <tr>\n",
       "      <th>865</th>\n",
       "      <td>10</td>\n",
       "      <td>130.651215</td>\n",
       "      <td>0.020425</td>\n",
       "      <td>0.000000</td>\n",
       "      <td>0.000000</td>\n",
       "      <td>32.296051</td>\n",
       "      <td>0.446737</td>\n",
       "      <td>33.716751</td>\n",
       "      <td>1.0</td>\n",
       "    </tr>\n",
       "    <tr>\n",
       "      <th>866</th>\n",
       "      <td>12</td>\n",
       "      <td>146.035049</td>\n",
       "      <td>70.000000</td>\n",
       "      <td>4.396682</td>\n",
       "      <td>0.000000</td>\n",
       "      <td>31.104616</td>\n",
       "      <td>0.252130</td>\n",
       "      <td>58.464581</td>\n",
       "      <td>1.0</td>\n",
       "    </tr>\n",
       "    <tr>\n",
       "      <th>867</th>\n",
       "      <td>2</td>\n",
       "      <td>117.392639</td>\n",
       "      <td>80.000000</td>\n",
       "      <td>0.000000</td>\n",
       "      <td>0.000000</td>\n",
       "      <td>33.051941</td>\n",
       "      <td>0.242164</td>\n",
       "      <td>45.813839</td>\n",
       "      <td>1.0</td>\n",
       "    </tr>\n",
       "  </tbody>\n",
       "</table>\n",
       "<p>868 rows × 9 columns</p>\n",
       "</div>"
      ],
      "text/plain": [
       "     Pregnancies     Glucose  BloodPressure  SkinThickness     Insulin  \\\n",
       "0              6  148.000000      72.000000      35.000000    0.000000   \n",
       "1              1   85.000000      66.000000      29.000000    0.000000   \n",
       "2              8  183.000000      64.000000       0.000000    0.000000   \n",
       "3              1   89.000000      66.000000      23.000000   94.000000   \n",
       "4              0  137.000000      40.000000      35.000000  168.000000   \n",
       "..           ...         ...            ...            ...         ...   \n",
       "863            5  119.976410      68.000000      40.702263  150.123917   \n",
       "864            3  109.848259      82.000000      18.275486    0.000000   \n",
       "865           10  130.651215       0.020425       0.000000    0.000000   \n",
       "866           12  146.035049      70.000000       4.396682    0.000000   \n",
       "867            2  117.392639      80.000000       0.000000    0.000000   \n",
       "\n",
       "           BMI  DiabetesPedigreeFunction        Age  Outcome  \n",
       "0    33.600000                  0.627000  50.000000      1.0  \n",
       "1    26.600000                  0.351000  31.000000      0.0  \n",
       "2    23.300000                  0.672000  32.000000      1.0  \n",
       "3    28.100000                  0.167000  21.000000      0.0  \n",
       "4    43.100000                  2.288000  33.000000      1.0  \n",
       "..         ...                       ...        ...      ...  \n",
       "863  32.379799                  0.551422  37.227985      1.0  \n",
       "864  37.481720                  2.130903  40.087616      1.0  \n",
       "865  32.296051                  0.446737  33.716751      1.0  \n",
       "866  31.104616                  0.252130  58.464581      1.0  \n",
       "867  33.051941                  0.242164  45.813839      1.0  \n",
       "\n",
       "[868 rows x 9 columns]"
      ]
     },
     "execution_count": 35,
     "metadata": {},
     "output_type": "execute_result"
    }
   ],
   "source": [
    "import numpy as np\n",
    "import pandas as pd\n",
    "\n",
    "string = 'diabetes'\n",
    "Model = 'AutoDiff'\n",
    "\n",
    "filename = f'Real_Data/{string}.csv'\n",
    "real_df = pd.read_csv(filename)\n",
    "syn_filename = f'{string}/{Model}_{string}_Augmented.csv'\n",
    "\n",
    "syn_df = pd.read_csv(syn_filename)\n",
    "\n",
    "syn_df"
   ]
  },
  {
   "cell_type": "code",
   "execution_count": 36,
   "id": "498bc733",
   "metadata": {},
   "outputs": [
    {
     "name": "stdout",
     "output_type": "stream",
     "text": [
      "Class distribution before augmentation: {0: 500, 1: 268}\n",
      "Class distribution before augmentation: {0: 500, 1: 268}\n",
      "Recall score (original data): 0.6625\n",
      "Recall score (generated data): 0.8625\n",
      "F1 score (original data): 0.6503\n",
      "F1 score (generated data): 0.8023\n",
      "Classification Report (original data):\n",
      "               precision    recall  f1-score   support\n",
      "\n",
      "           0       0.82      0.80      0.81       151\n",
      "           1       0.64      0.66      0.65        80\n",
      "\n",
      "    accuracy                           0.75       231\n",
      "   macro avg       0.73      0.73      0.73       231\n",
      "weighted avg       0.76      0.75      0.75       231\n",
      "\n",
      "Classification Report (generated data):\n",
      "               precision    recall  f1-score   support\n",
      "\n",
      "           0       0.92      0.85      0.88       151\n",
      "           1       0.75      0.86      0.80        80\n",
      "\n",
      "    accuracy                           0.85       231\n",
      "   macro avg       0.84      0.86      0.84       231\n",
      "weighted avg       0.86      0.85      0.85       231\n",
      "\n",
      "Number of fake samples generated: 100\n"
     ]
    }
   ],
   "source": [
    "import pandas as pd\n",
    "from sklearn.model_selection import train_test_split\n",
    "from sklearn.metrics import classification_report, precision_score, recall_score, f1_score\n",
    "import numpy as np\n",
    "import matplotlib.pyplot as plt\n",
    "from ForestDiffusion import ForestDiffusionModel\n",
    "from sklearn.ensemble import RandomForestClassifier\n",
    "from sklearn.metrics import recall_score, f1_score\n",
    "# Load datasets\n",
    "string = 'diabetes'\n",
    "Model = 'AutoDiff'\n",
    "\n",
    "filename = f'Real_Data/{string}.csv'\n",
    "real_df = pd.read_csv(filename)\n",
    "syn_filename = f'{string}/{Model}_{string}_Augmented.csv'\n",
    "\n",
    "real_df = pd.read_csv(filename)\n",
    "augmented_df = pd.read_csv(syn_filename)\n",
    "\n",
    "X = real_df.iloc[:, :-1].values  # Features\n",
    "y = real_df.iloc[:, -1].values \n",
    "# Check and print the original class distribution\n",
    "unique, counts = np.unique(y, return_counts=True)\n",
    "class_dist_before = dict(zip(unique, counts))\n",
    "print(f\"Class distribution before augmentation: {class_dist_before}\")# Labels (binary classification)\n",
    "\n",
    "X_balanced = augmented_df.iloc[:, :-1].values  # Features\n",
    "y_balanced = augmented_df.iloc[:, -1].values  # Labels (binary classification)\n",
    "\n",
    "# Check and print the original class distribution\n",
    "unique, counts = np.unique(y, return_counts=True)\n",
    "class_dist_before = dict(zip(unique, counts))\n",
    "print(f\"Class distribution before augmentation: {class_dist_before}\")\n",
    "\n",
    "# Step 6: Split the dataset into training and test sets (original and balanced)\n",
    "X_train_orig, X_test_orig, y_train_orig, y_test_orig = train_test_split(X, y, test_size=0.3, random_state=42)\n",
    "X_train_bal, X_test_bal, y_train_bal, y_test_bal = train_test_split(X_balanced, y_balanced, test_size=0.3, random_state=42)\n",
    "\n",
    "# Step 7: Train a simple classifier on both original and generated datasets\n",
    "clf_orig = RandomForestClassifier(random_state=42)\n",
    "clf_orig.fit(X_train_orig, y_train_orig)\n",
    "\n",
    "clf_bal = RandomForestClassifier(random_state=42)\n",
    "clf_bal.fit(X_train_bal, y_train_bal)\n",
    "\n",
    "# Step 8: Predict and calculate recall and F1 scores\n",
    "y_pred_orig = clf_orig.predict(X_test_orig)\n",
    "y_pred_bal = clf_bal.predict(X_test_orig)\n",
    "\n",
    "recall_orig = recall_score(y_test_orig, y_pred_orig)\n",
    "recalls_bal = recall_score(y_test_orig, y_pred_bal)\n",
    "\n",
    "f1_orig = f1_score(y_test_orig, y_pred_orig)\n",
    "f1_bal = f1_score(y_test_orig, y_pred_bal)\n",
    "\n",
    "# Step 9: Print the performance metrics\n",
    "print(f\"Recall score (original data): {recall_orig:.4f}\")\n",
    "print(f\"Recall score (generated data): {recalls_bal:.4f}\")\n",
    "print(f\"F1 score (original data): {f1_orig:.4f}\")\n",
    "print(f\"F1 score (generated data): {f1_bal:.4f}\")\n",
    "print(\"Classification Report (original data):\\n\", classification_report(y_test_orig, y_pred_orig))\n",
    "print(\"Classification Report (generated data):\\n\", classification_report(y_test_orig, y_pred_bal))\n",
    "\n",
    "\n",
    "print(f\"Number of fake samples generated: {len(augmented_df)-len(real_df)}\")"
   ]
  },
  {
   "cell_type": "markdown",
   "id": "933d316b",
   "metadata": {},
   "source": [
    "# Forest Diffusion"
   ]
  },
  {
   "cell_type": "markdown",
   "id": "52b0a4dd",
   "metadata": {},
   "source": [
    "#### 100 minority instances generation"
   ]
  },
  {
   "cell_type": "code",
   "execution_count": null,
   "id": "2449e8f1",
   "metadata": {},
   "outputs": [
    {
     "name": "stdout",
     "output_type": "stream",
     "text": [
      "Class distribution before augmentation: {0: 500, 1: 268}\n"
     ]
    },
    {
     "data": {
      "image/png": "[encoded data removed]",
      "text/plain": [
       "<Figure size 1000x500 with 1 Axes>"
      ]
     },
     "metadata": {},
     "output_type": "display_data"
    },
    {
     "data": {
      "image/png": "[encoded data removed]",
      "text/plain": [
       "<Figure size 640x480 with 1 Axes>"
      ]
     },
     "metadata": {},
     "output_type": "display_data"
    },
    {
     "name": "stdout",
     "output_type": "stream",
     "text": [
      "Class distribution after augmentation: {0.0: 500, 1.0: 368}\n",
      "Recall score (original data): 0.6625\n",
      "Recall score (generated data): 0.8000\n",
      "F1 score (original data): 0.6503\n",
      "F1 score (generated data): 0.7665\n",
      "Classification Report (original data):\n",
      "               precision    recall  f1-score   support\n",
      "\n",
      "           0       0.82      0.80      0.81       151\n",
      "           1       0.64      0.66      0.65        80\n",
      "\n",
      "    accuracy                           0.75       231\n",
      "   macro avg       0.73      0.73      0.73       231\n",
      "weighted avg       0.76      0.75      0.75       231\n",
      "\n",
      "Classification Report (generated data):\n",
      "               precision    recall  f1-score   support\n",
      "\n",
      "           0       0.89      0.85      0.87       151\n",
      "           1       0.74      0.80      0.77        80\n",
      "\n",
      "    accuracy                           0.83       231\n",
      "   macro avg       0.81      0.82      0.82       231\n",
      "weighted avg       0.84      0.83      0.83       231\n",
      "\n",
      "Number of fake samples generated: 100\n"
     ]
    }
   ],
   "source": [
    "import pandas as pd\n",
    "from sklearn.model_selection import train_test_split\n",
    "from sklearn.metrics import classification_report, precision_score, recall_score, f1_score\n",
    "import numpy as np\n",
    "import matplotlib.pyplot as plt\n",
    "from ForestDiffusion import ForestDiffusionModel\n",
    "from sklearn.ensemble import RandomForestClassifier\n",
    "from sklearn.metrics import recall_score, f1_score\n",
    "\n",
    "# Step 1: Load the CSV file\n",
    "strings_set = {'diabetes'}\n",
    "filename = f'Real_Data/{string}.csv'\n",
    "data = pd.read_csv(filename)\n",
    "\n",
    "# Step 2: Inspect the data and check for class imbalance\n",
    "# Assuming the last column is the label, and the rest are features\n",
    "X = data.iloc[:, :-1].values  # Features\n",
    "y = data.iloc[:, -1].values  # Labels (binary classification)\n",
    "\n",
    "# Check and print the original class distribution\n",
    "unique, counts = np.unique(y, return_counts=True)\n",
    "class_dist_before = dict(zip(unique, counts))\n",
    "print(f\"Class distribution before augmentation: {class_dist_before}\")\n",
    "\n",
    "# Separate the minority class\n",
    "X_minority = X[y == 1]\n",
    "# Identify integer columns\n",
    "int_columns = data.select_dtypes(include=['int']).columns\n",
    "int_indexes = []\n",
    "for col in int_columns:\n",
    "    col_index = data.columns.get_loc(col)\n",
    "    int_indexes.append(col_index)\n",
    "# Step 4: Upsample the minority class using ForestDiffusionModel\n",
    "forest_model = ForestDiffusionModel(X_minority, label_y=None, n_t=50, duplicate_K=100, bin_indexes=[], cat_indexes=[], int_indexes=int_indexes, diffusion_type='flow', n_jobs=-1)\n",
    "X_minority_fake = forest_model.generate(batch_size=100)  # Adjust the batch size to create a balanced dataset\n",
    "\n",
    "# Add generated samples to the main imbalanced dataset\n",
    "X_balanced = np.concatenate((X, X_minority_fake), axis=0)\n",
    "y_balanced = np.concatenate((y, np.ones(X_minority_fake.shape[0])), axis=0)\n",
    "\n",
    "\n",
    "# Check and print the class distribution after augmentation\n",
    "unique_bal, counts_bal = np.unique(y_balanced, return_counts=True)\n",
    "class_dist_after = dict(zip(unique_bal, counts_bal))\n",
    "print(f\"Class distribution after augmentation: {class_dist_after}\")\n",
    "\n",
    "# Step 6: Split the dataset into training and test sets (original and balanced)\n",
    "X_train_orig, X_test_orig, y_train_orig, y_test_orig = train_test_split(X, y, test_size=0.3, random_state=42)\n",
    "X_train_bal, X_test_bal, y_train_bal, y_test_bal = train_test_split(X_balanced, y_balanced, test_size=0.3, random_state=42)\n",
    "\n",
    "# Step 7: Train a simple classifier on both original and generated datasets\n",
    "clf_orig = RandomForestClassifier(random_state=42)\n",
    "clf_orig.fit(X_train_orig, y_train_orig)\n",
    "\n",
    "clf_bal = RandomForestClassifier(random_state=42)\n",
    "clf_bal.fit(X_train_bal, y_train_bal)\n",
    "\n",
    "# Step 8: Predict and calculate recall and F1 scores\n",
    "y_pred_orig = clf_orig.predict(X_test_orig)\n",
    "y_pred_bal = clf_bal.predict(X_test_orig)\n",
    "\n",
    "recall_orig = recall_score(y_test_orig, y_pred_orig)\n",
    "recalls_bal = recall_score(y_test_orig, y_pred_bal)\n",
    "\n",
    "f1_orig = f1_score(y_test_orig, y_pred_orig)\n",
    "f1_bal = f1_score(y_test_orig, y_pred_bal)\n",
    "\n",
    "# Step 9: Print the performance metrics\n",
    "print(f\"Recall score (original data): {recall_orig:.4f}\")\n",
    "print(f\"Recall score (generated data): {recalls_bal:.4f}\")\n",
    "print(f\"F1 score (original data): {f1_orig:.4f}\")\n",
    "print(f\"F1 score (generated data): {f1_bal:.4f}\")\n",
    "print(\"Report_Forest Diffusion (original data):\\n\", classification_report(y_test_orig, y_pred_orig))\n",
    "print(\"Report_Forest Diffusion (generated data):\\n\", classification_report(y_test_orig, y_pred_bal))\n",
    "\n",
    "# Step 10: Print the number of fake samples generated\n",
    "print(f\"Number of fake samples generated: {len(X_minority_fake)}\")"
   ]
  },
  {
   "cell_type": "markdown",
   "id": "6e4bdb24",
   "metadata": {},
   "source": [
    "# Attemp: Autoencoder on Forest"
   ]
  },
  {
   "cell_type": "code",
   "execution_count": null,
   "id": "2a0b6e6d",
   "metadata": {},
   "outputs": [],
   "source": [
    "import numpy as np\n",
    "#import process_edited as pce\n",
    "import process_GQ as pce\n",
    "import autoencoder as ae\n",
    "import diffusion as diff\n",
    "import TabDDPMdiff as TabDiff\n",
    "import pandas as pd\n",
    "import torch\n",
    "import os\n",
    "import time\n",
    "import numpy as np\n",
    "strings_set = {'diabetes'}\n",
    "# strings_set = {'abalone', 'adult', 'Churn_Modelling','faults', 'indian_liver_patient', \n",
    "#                'insurance', 'News', 'Obesity', 'Shoppers', 'Titanic', 'wilt', 'Bean', 'nursery', 'Magic', 'HTRU'}\n",
    "Model = 'AutoDiff'\n",
    "\n",
    "for string in strings_set:\n",
    "    filename = f'Real_Data/{string}.csv'\n",
    "    # Read dataframe\n",
    "    print(filename)\n",
    "    real_df = pd.read_csv(filename)\n",
    "    #real_df = real_df.drop('url', axis=1)\n",
    "    # Step 2: Inspect the data and check for class imbalance\n",
    "    # Assuming the last column is the label, and the rest are features\n",
    "    X = real_df.iloc[:, :-1].values  # Features\n",
    "    y = real_df.iloc[:, -1].values  # Labels (binary classification)\n",
    "     # Separate the minority class\n",
    "    real_minortiy = real_df[y == 1]\n",
    "    \n",
    "    threshold = 0.01 # Threshold for mixed-type variables\n",
    "    parser = pce.DataFrameParser().fit(real_minortiy, threshold)\n",
    "    ################################################################################################################\n",
    "    # Auto-encoder hyper-parameters\n",
    "    device = 'cuda' #@param {'type':'string'}\n",
    "    n_epochs = 5000 #@param {'type':'integer'}\n",
    "    eps = 1e-5 #@param {type:\"number\"}\n",
    "    weight_decay = 1e-6 #@param {'type':'number'}\n",
    "    maximum_learning_rate = 1e-2 #@param {'type':'number'}\n",
    "    lr = 2e-4 #@param {'type':'number'}\n",
    "    hidden_size = 250\n",
    "    num_layers = 3\n",
    "    batch_size = 50\n",
    "\n",
    "    ds = ae.train_autoencoder(real_minortiy, hidden_size, num_layers, lr, weight_decay, n_epochs, batch_size, threshold)\n",
    "    latent_features = ds[1].detach()\n",
    "\n",
    "    ################################################################################################################\n",
    "    # diffusion hyper-parameters\n",
    "    diff_n_epochs = 5000 #@param {'type':'integer'}\n",
    "    hidden_dims = (256, 512, 1024, 512, 256) #@param {type:\"raw\"}\n",
    "    converted_table_dim = latent_features.shape[1] #@param {'type':'integer'}\n",
    "    sigma = 20  #@param {'type':'integer'} \n",
    "    num_batches_per_epoch = 50 #@param {'type':'number'}\n",
    "    batch_size = 50 #@param {'type':'integer'}\n",
    "    T = 100  #@param {'type':'integer'}\n",
    "\n",
    "    score = TabDiff.train_diffusion(latent_features, T, eps, sigma, lr, \\\n",
    "                        num_batches_per_epoch, maximum_learning_rate, weight_decay, diff_n_epochs, batch_size)\n",
    "\n",
    "############################################################################################################### "
   ]
  }
 ],
 "metadata": {
  "kernelspec": {
   "display_name": "LlamaENVpip",
   "language": "python",
   "name": "python3"
  },
  "language_info": {
   "codemirror_mode": {
    "name": "ipython",
    "version": 3
   },
   "file_extension": ".py",
   "mimetype": "text/x-python",
   "name": "python",
   "nbconvert_exporter": "python",
   "pygments_lexer": "ipython3",
   "version": "3.11.10"
  }
 },
 "nbformat": 4,
 "nbformat_minor": 5
}
