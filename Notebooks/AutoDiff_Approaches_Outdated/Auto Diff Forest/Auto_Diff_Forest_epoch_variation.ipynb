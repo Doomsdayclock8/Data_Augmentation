{
 "cells": [
  {
   "cell_type": "code",
   "execution_count": 1,
   "metadata": {},
   "outputs": [],
   "source": [
    "import sys\n",
    "import os\n",
    "\n",
    "# Define the path to your folder\n",
    "folder_path = f'..\\\\..\\\\..\\\\Models\\\\AutoDiffusion' \n",
    "\n",
    "# Add the folder to sys.path\n",
    "sys.path.append(folder_path)"
   ]
  },
  {
   "cell_type": "code",
   "execution_count": 2,
   "metadata": {},
   "outputs": [],
   "source": [
    "import numpy as np\n",
    "#import process_edited as pce\n",
    "import process_GQ as pce\n",
    "import autoencoder as ae\n",
    "import diffusion as diff\n",
    "import TabDDPMdiff as TabDiff\n",
    "import pandas as pd\n",
    "import torch\n",
    "import os\n",
    "import time\n",
    "import numpy as np"
   ]
  },
  {
   "cell_type": "code",
   "execution_count": 3,
   "metadata": {},
   "outputs": [
    {
     "name": "stdout",
     "output_type": "stream",
     "text": [
      "Recall Score for AutoDiff Autoencoder & ForestDIffusion for diabetes dataset\n"
     ]
    },
    {
     "data": {
      "application/vnd.jupyter.widget-view+json": {
       "model_id": "12767dc660684d2a97c0a4beed3080b2",
       "version_major": 2,
       "version_minor": 0
      },
      "text/plain": [
       "  0%|          | 0/100 [00:00<?, ?it/s]"
      ]
     },
     "metadata": {},
     "output_type": "display_data"
    },
    {
     "name": "stdout",
     "output_type": "stream",
     "text": [
      "Class distribution before augmentation: {0: 500, 1: 268}\n",
      "Class distribution after augmentation: {0.0: 500, 1.0: 536}\n",
      "Recall Score for AutoDiff Autoencoder & ForestDIffusion for diabetes dataset\n"
     ]
    },
    {
     "data": {
      "application/vnd.jupyter.widget-view+json": {
       "model_id": "e9570db14082429b9d48e9ad5d01efbb",
       "version_major": 2,
       "version_minor": 0
      },
      "text/plain": [
       "  0%|          | 0/400 [00:00<?, ?it/s]"
      ]
     },
     "metadata": {},
     "output_type": "display_data"
    },
    {
     "name": "stdout",
     "output_type": "stream",
     "text": [
      "Class distribution before augmentation: {0: 500, 1: 268}\n",
      "Class distribution after augmentation: {0.0: 500, 1.0: 536}\n",
      "Recall Score for AutoDiff Autoencoder & ForestDIffusion for diabetes dataset\n"
     ]
    },
    {
     "data": {
      "application/vnd.jupyter.widget-view+json": {
       "model_id": "8eb32d342749473398d25e849c31bf3a",
       "version_major": 2,
       "version_minor": 0
      },
      "text/plain": [
       "  0%|          | 0/700 [00:00<?, ?it/s]"
      ]
     },
     "metadata": {},
     "output_type": "display_data"
    },
    {
     "name": "stdout",
     "output_type": "stream",
     "text": [
      "Class distribution before augmentation: {0: 500, 1: 268}\n",
      "Class distribution after augmentation: {0.0: 500, 1.0: 536}\n",
      "Recall Score for AutoDiff Autoencoder & ForestDIffusion for diabetes dataset\n"
     ]
    },
    {
     "data": {
      "application/vnd.jupyter.widget-view+json": {
       "model_id": "9465a80d05d04ba49108769b72d6aade",
       "version_major": 2,
       "version_minor": 0
      },
      "text/plain": [
       "  0%|          | 0/1000 [00:00<?, ?it/s]"
      ]
     },
     "metadata": {},
     "output_type": "display_data"
    },
    {
     "name": "stdout",
     "output_type": "stream",
     "text": [
      "Class distribution before augmentation: {0: 500, 1: 268}\n",
      "Class distribution after augmentation: {0.0: 500, 1.0: 536}\n",
      "Recall Score for AutoDiff Autoencoder & ForestDIffusion for diabetes dataset\n"
     ]
    },
    {
     "data": {
      "application/vnd.jupyter.widget-view+json": {
       "model_id": "4c767937c9bb4a80b3fbfb3b33c299e7",
       "version_major": 2,
       "version_minor": 0
      },
      "text/plain": [
       "  0%|          | 0/1500 [00:00<?, ?it/s]"
      ]
     },
     "metadata": {},
     "output_type": "display_data"
    },
    {
     "name": "stdout",
     "output_type": "stream",
     "text": [
      "Class distribution before augmentation: {0: 500, 1: 268}\n",
      "Class distribution after augmentation: {0.0: 500, 1.0: 536}\n",
      "Recall Score for AutoDiff Autoencoder & ForestDIffusion for diabetes dataset\n"
     ]
    },
    {
     "data": {
      "application/vnd.jupyter.widget-view+json": {
       "model_id": "5332b8aa5f624a17a558a96fcf231a7f",
       "version_major": 2,
       "version_minor": 0
      },
      "text/plain": [
       "  0%|          | 0/2000 [00:00<?, ?it/s]"
      ]
     },
     "metadata": {},
     "output_type": "display_data"
    },
    {
     "name": "stdout",
     "output_type": "stream",
     "text": [
      "Class distribution before augmentation: {0: 500, 1: 268}\n",
      "Class distribution after augmentation: {0.0: 500, 1.0: 536}\n",
      "Recall Score for AutoDiff Autoencoder & ForestDIffusion for diabetes dataset\n"
     ]
    },
    {
     "data": {
      "application/vnd.jupyter.widget-view+json": {
       "model_id": "ec81c63a83a64cf091415ec5005078d5",
       "version_major": 2,
       "version_minor": 0
      },
      "text/plain": [
       "  0%|          | 0/2500 [00:00<?, ?it/s]"
      ]
     },
     "metadata": {},
     "output_type": "display_data"
    },
    {
     "name": "stdout",
     "output_type": "stream",
     "text": [
      "Class distribution before augmentation: {0: 500, 1: 268}\n",
      "Class distribution after augmentation: {0.0: 500, 1.0: 536}\n",
      "Recall Score for AutoDiff Autoencoder & ForestDIffusion for diabetes dataset\n"
     ]
    },
    {
     "data": {
      "application/vnd.jupyter.widget-view+json": {
       "model_id": "8962951a2f9743e79c21e1bf5fd6a7d1",
       "version_major": 2,
       "version_minor": 0
      },
      "text/plain": [
       "  0%|          | 0/3000 [00:00<?, ?it/s]"
      ]
     },
     "metadata": {},
     "output_type": "display_data"
    },
    {
     "name": "stdout",
     "output_type": "stream",
     "text": [
      "Class distribution before augmentation: {0: 500, 1: 268}\n",
      "Class distribution after augmentation: {0.0: 500, 1.0: 536}\n",
      "Recall Score for AutoDiff Autoencoder & ForestDIffusion for diabetes dataset\n"
     ]
    },
    {
     "data": {
      "application/vnd.jupyter.widget-view+json": {
       "model_id": "b2ae63342129463ba301bdda33d3e9c8",
       "version_major": 2,
       "version_minor": 0
      },
      "text/plain": [
       "  0%|          | 0/3500 [00:00<?, ?it/s]"
      ]
     },
     "metadata": {},
     "output_type": "display_data"
    },
    {
     "name": "stdout",
     "output_type": "stream",
     "text": [
      "Class distribution before augmentation: {0: 500, 1: 268}\n",
      "Class distribution after augmentation: {0.0: 500, 1.0: 536}\n",
      "Recall Score for AutoDiff Autoencoder & ForestDIffusion for diabetes dataset\n"
     ]
    },
    {
     "data": {
      "application/vnd.jupyter.widget-view+json": {
       "model_id": "f13afe3479e54ee997449d8f5fa365b7",
       "version_major": 2,
       "version_minor": 0
      },
      "text/plain": [
       "  0%|          | 0/5000 [00:00<?, ?it/s]"
      ]
     },
     "metadata": {},
     "output_type": "display_data"
    },
    {
     "name": "stdout",
     "output_type": "stream",
     "text": [
      "Class distribution before augmentation: {0: 500, 1: 268}\n",
      "Class distribution after augmentation: {0.0: 500, 1.0: 536}\n",
      "Recall Score for AutoDiff Autoencoder & ForestDIffusion for diabetes dataset\n"
     ]
    },
    {
     "data": {
      "application/vnd.jupyter.widget-view+json": {
       "model_id": "f0433f12822947e5998d2474e6e3bcc7",
       "version_major": 2,
       "version_minor": 0
      },
      "text/plain": [
       "  0%|          | 0/10000 [00:00<?, ?it/s]"
      ]
     },
     "metadata": {},
     "output_type": "display_data"
    },
    {
     "name": "stdout",
     "output_type": "stream",
     "text": [
      "Class distribution before augmentation: {0: 500, 1: 268}\n",
      "Class distribution after augmentation: {0.0: 500, 1.0: 536}\n"
     ]
    },
    {
     "data": {
      "image/png": "[encoded data removed]",
      "text/plain": [
       "<Figure size 640x480 with 1 Axes>"
      ]
     },
     "metadata": {},
     "output_type": "display_data"
    },
    {
     "name": "stdout",
     "output_type": "stream",
     "text": [
      "     Dataset Epochs on Auto Encoder  Recall_Original  Recall_Generated\n",
      "0   diabetes                    100           0.6625            0.7875\n",
      "1   diabetes                    400           0.6625            0.8500\n",
      "2   diabetes                    700           0.6625            0.8750\n",
      "3   diabetes                   1000           0.6625            0.8750\n",
      "4   diabetes                   1500           0.6625            0.8750\n",
      "5   diabetes                   2000           0.6625            0.8750\n",
      "6   diabetes                   2500           0.6625            0.8500\n",
      "7   diabetes                   3000           0.6625            0.8750\n",
      "8   diabetes                   3500           0.6625            0.9000\n",
      "9   diabetes                   5000           0.6625            0.8625\n",
      "10  diabetes                  10000           0.6625            0.9000\n"
     ]
    }
   ],
   "source": [
    "strings_set = ['diabetes']\n",
    "\n",
    "Model = 'AutoDiff'\n",
    "metrics_list = []\n",
    "\n",
    "epoch_list = [100, 400, 700, 1000,1500,2000,2500,3000,3500,5000,10000]\n",
    "\n",
    "sample_size_percent = 100\n",
    "for dataset in strings_set:\n",
    "    recall_list = []\n",
    "    for epoch in epoch_list:\n",
    "        \n",
    "        print(f\"Recall Score for AutoDiff Autoencoder & ForestDIffusion for {dataset} dataset\")\n",
    "        file_path = f'..\\\\..\\\\..\\\\Datasets\\\\Original Data\\\\{dataset}.csv'\n",
    "        # Read dataframe\n",
    "        # print(file_path)\n",
    "        real_df = pd.read_csv(file_path)\n",
    "        #real_df = real_df.drop('url', axis=1)\n",
    "        # # Step 2: Inspect the data and check for class imbalance\n",
    "        # # Assuming the last column is the label, and the rest are features\n",
    "        X = real_df.iloc[:, :-1].values  # Features\n",
    "        y = real_df.iloc[:, -1].values  # Labels (binary classification)\n",
    "        #  # Separate the minority class\n",
    "        # Find the minority class\n",
    "        \n",
    "        real_minortiy = real_df[y == 1]\n",
    "\n",
    "        threshold = 0.01 # Threshold for mixed-type variables\n",
    "        parser = pce.DataFrameParser().fit(real_minortiy, threshold)\n",
    "        ################################################################################################################\n",
    "        # Auto-encoder hyper-parameters\n",
    "        device = 'cuda' #@param {'type':'string'}\n",
    "        n_epochs = epoch #@param {'type':'integer'}\n",
    "        eps = 1e-5 #@param {type:\"number\"}\n",
    "        weight_decay = 1e-6 #@param {'type':'number'}\n",
    "        maximum_learning_rate = 1e-2 #@param {'type':'number'}\n",
    "        lr = 2e-4 #@param {'type':'number'}\n",
    "        hidden_size = 250\n",
    "        num_layers = 3\n",
    "        batch_size = real_minortiy.shape[0] # Full batch\n",
    "\n",
    "        ds = ae.train_autoencoder(real_minortiy, hidden_size, num_layers, lr, weight_decay, n_epochs, batch_size, threshold)\n",
    "        latent_features = ds[1].detach()\n",
    "\n",
    "        from ForestDiffusion import ForestDiffusionModel\n",
    "\n",
    "\n",
    "        # Convert to NumPy array\n",
    "        array = latent_features.detach().cpu().numpy()\n",
    "        forest_model = ForestDiffusionModel(array, label_y=None, n_t=50, duplicate_K=100, bin_indexes=[], cat_indexes=[], int_indexes=[], diffusion_type='flow', n_jobs=-1)\n",
    "        minority_fake = forest_model.generate(batch_size=len(real_minortiy)) # Adjust the batch size to create a balanced dataset\n",
    "        sample=torch.tensor(minority_fake, dtype=torch.float32)\n",
    "        sample.shape\n",
    "        gen_output = ds[0](sample, ds[2], ds[3])\n",
    "        gen_df = pce.convert_to_table(real_minortiy, gen_output, threshold)\n",
    "\n",
    "        output_directory =  f'..\\\\..\\\\..\\\\Datasets\\\\Synthetic Data\\\\'\n",
    "        filename = f'{Model}+Forest_{dataset}_Synthetic.csv'\n",
    "        output_file = os.path.join(output_directory, filename)\n",
    "        # gen_df.to_csv(output_file, index=False) \n",
    "\n",
    "\n",
    "        # Select a random sample of the generated data\n",
    "        num_samples_to_generate = len(real_minortiy)*sample_size_percent // 100\n",
    "        selected_samples = gen_df.sample(n=num_samples_to_generate, random_state=42)  # For reproducibility\n",
    "        # Syn _df will be the dataset after augmentation\n",
    "        syn_df = pd.concat([real_df, selected_samples], ignore_index=True)\n",
    "\n",
    "\n",
    "        augmented_output_directory =  f'..\\\\..\\\\..\\\\Datasets\\\\Augmented Data\\\\'\n",
    "        filename = f'{Model}+Forest_{dataset}_Augmented.csv'\n",
    "        augmented_output_file = os.path.join(augmented_output_directory, filename)\n",
    "        # syn_df.to_csv(augmented_output_file, index=False) \n",
    "\n",
    "        import pandas as pd\n",
    "        from sklearn.model_selection import train_test_split\n",
    "        from sklearn.metrics import classification_report, precision_score, recall_score, f1_score\n",
    "        import numpy as np\n",
    "        import matplotlib.pyplot as plt\n",
    "        from ForestDiffusion import ForestDiffusionModel\n",
    "        from sklearn.ensemble import RandomForestClassifier\n",
    "        from sklearn.metrics import recall_score, f1_score\n",
    "\n",
    "        # real_df = pd.read_csv(filename)\n",
    "        # syn_filename = f'{string}/{Model}_{string}_Augmented.csv'\n",
    "\n",
    "        # augmented_df = pd.read_csv(syn_filename)\n",
    "        augmented_df=syn_df\n",
    "\n",
    "        X = real_df.iloc[:, :-1].values  # Features\n",
    "        y = real_df.iloc[:, -1].values \n",
    "        # Check and print the original class distribution\n",
    "        unique, counts = np.unique(y, return_counts=True)\n",
    "        class_dist_before = dict(zip(unique, counts))\n",
    "        print(f\"Class distribution before augmentation: {class_dist_before}\")# Labels (binary classification)\n",
    "\n",
    "        X_balanced = augmented_df.iloc[:, :-1].values  # Features\n",
    "        y_balanced = augmented_df.iloc[:, -1].values  # Labels (binary classification)\n",
    "\n",
    "        # Check and print the Augmented class distribution\n",
    "        unique, counts = np.unique(y_balanced, return_counts=True)\n",
    "        class_dist_after = dict(zip(unique, counts))\n",
    "        print(f\"Class distribution after augmentation: {class_dist_after}\")\n",
    "\n",
    "        # Step 6: Split the dataset into training and test sets (original and balanced)\n",
    "        X_train_orig, X_test_orig, y_train_orig, y_test_orig = train_test_split(X, y, test_size=0.3, random_state=42)\n",
    "        X_train_bal, X_test_bal, y_train_bal, y_test_bal = train_test_split(X_balanced, y_balanced, test_size=0.3, random_state=42)\n",
    "\n",
    "        # Step 7: Train a simple classifier on both original and generated datasets\n",
    "        clf_orig = RandomForestClassifier(random_state=42)\n",
    "        clf_orig.fit(X_train_orig, y_train_orig)\n",
    "\n",
    "        clf_bal = RandomForestClassifier(random_state=42)\n",
    "        clf_bal.fit(X_train_bal, y_train_bal)\n",
    "\n",
    "        # Step 8: Predict and calculate recall and F1 scores\n",
    "        y_pred_orig = clf_orig.predict(X_test_orig)\n",
    "        y_pred_bal = clf_bal.predict(X_test_orig)\n",
    "\n",
    "        prec_orig = precision_score(y_test_orig, y_pred_orig)\n",
    "        prec_bal = precision_score(y_test_orig, y_pred_bal)\n",
    "        \n",
    "        recall_orig = recall_score(y_test_orig, y_pred_orig)\n",
    "        recalls_bal = recall_score(y_test_orig, y_pred_bal)\n",
    "\n",
    "        # f1_orig = f1_score(y_test_orig, y_pred_orig)\n",
    "        # f1_bal = f1_score(y_test_orig, y_pred_bal)\n",
    "\n",
    "        # Step 9: Print and store the performance metrics\n",
    "        # Store metrics in a dictionary\n",
    "        metrics = {\n",
    "        \"Dataset\": dataset,\n",
    "        \"Epochs on Auto Encoder\":f'{epoch}',\n",
    "        \"Recall_Original\": recall_orig,\n",
    "        \"Recall_Generated\": recalls_bal,\n",
    "        \n",
    "        }\n",
    "\n",
    "        # Append the dictionary to the list\n",
    "        metrics_list.append(metrics)\n",
    "        recall_list.append(recalls_bal)\n",
    "\n",
    "        # print(f\"Precision score (original data): {prec_orig:.4f}\")\n",
    "        # print(f\"Precision score (generated data): {prec_bal:.4f}\")\n",
    "        # print(f\"Recall score (original data): {recall_orig:.4f}\")\n",
    "        # print(f\"Recall score (generated data): {recalls_bal:.4f}\")\n",
    "        # print(f\"F1 score (original data): {f1_orig:.4f}\")\n",
    "        # print(f\"F1 score (generated data): {f1_bal:.4f}\")\n",
    "        # print(\"Classification Report (original data):\\n\", classification_report(y_test_orig, y_pred_orig))\n",
    "        # print(\"Classification Report (generated data):\\n\", classification_report(y_test_orig, y_pred_bal))\n",
    "\n",
    "\n",
    "        # print(f\"Number of fake samples generated: {len(augmented_df)-len(real_df)}\")\n",
    "    import matplotlib.pyplot as plt\n",
    "\n",
    "    # Create the plot\n",
    "    plt.plot(epoch_list, recall_list, marker='o', linestyle='-', color='b', label='Recall Score (Minor Class)')\n",
    "    # plt.plot(batch_size_list, major_class_data_recall_score_list, marker='o', linestyle='-', color='r', label='Recall Score (Major Class)')\n",
    "    # Adding title and labels\n",
    "    plt.title('Recall Score vs epochs on Autoencoder \\n at 100% Augmentation Ratio (AutoDiffandForest)')\n",
    "    plt.xlabel('Epochs')\n",
    "    plt.ylabel('Recall Score (Augmented Data)')\n",
    "    plt.legend(loc=\"upper left\")\n",
    "\n",
    "    # Show the grid\n",
    "    plt.grid()\n",
    "\n",
    "    # Display the plot\n",
    "    \n",
    "    diagram_name=f'Recall Score vs epochs on Autoencoder for {dataset} dataset(AutoDiffandForest).png'\n",
    "    plt.savefig(diagram_name)\n",
    "    plt.show()\n",
    "    \n",
    "    \n",
    "import pandas as pd\n",
    "metrics_df = pd.DataFrame(metrics_list)\n",
    "\n",
    "# Save the DataFrame to a CSV file\n",
    "metrics_df.to_csv(\"Auto_Diff_Forest_Different No. of Epochs at 100 percent augmentaion ratio.csv\", index=False)\n",
    "\n",
    "# Print the DataFrame\n",
    "print(metrics_df)"
   ]
  },
  {
   "cell_type": "code",
   "execution_count": 4,
   "metadata": {},
   "outputs": [
    {
     "name": "stdout",
     "output_type": "stream",
     "text": [
      "Recall Score for AutoDiff Autoencoder & ForestDIffusion for HTRU dataset\n"
     ]
    },
    {
     "data": {
      "application/vnd.jupyter.widget-view+json": {
       "model_id": "810f32f3fc924779b532e6cc39ba1450",
       "version_major": 2,
       "version_minor": 0
      },
      "text/plain": [
       "  0%|          | 0/100 [00:00<?, ?it/s]"
      ]
     },
     "metadata": {},
     "output_type": "display_data"
    },
    {
     "name": "stdout",
     "output_type": "stream",
     "text": [
      "Class distribution before augmentation: {0: 16259, 1: 1639}\n",
      "Class distribution after augmentation: {0.0: 16259, 1.0: 3278}\n",
      "Recall Score for AutoDiff Autoencoder & ForestDIffusion for HTRU dataset\n"
     ]
    },
    {
     "data": {
      "application/vnd.jupyter.widget-view+json": {
       "model_id": "011895121744417f984f2e01df1de64c",
       "version_major": 2,
       "version_minor": 0
      },
      "text/plain": [
       "  0%|          | 0/400 [00:00<?, ?it/s]"
      ]
     },
     "metadata": {},
     "output_type": "display_data"
    },
    {
     "name": "stdout",
     "output_type": "stream",
     "text": [
      "Class distribution before augmentation: {0: 16259, 1: 1639}\n",
      "Class distribution after augmentation: {0.0: 16259, 1.0: 3278}\n",
      "Recall Score for AutoDiff Autoencoder & ForestDIffusion for HTRU dataset\n"
     ]
    },
    {
     "data": {
      "application/vnd.jupyter.widget-view+json": {
       "model_id": "fd0592db7815480b8b3f67f6dd31c41a",
       "version_major": 2,
       "version_minor": 0
      },
      "text/plain": [
       "  0%|          | 0/700 [00:00<?, ?it/s]"
      ]
     },
     "metadata": {},
     "output_type": "display_data"
    },
    {
     "name": "stdout",
     "output_type": "stream",
     "text": [
      "Class distribution before augmentation: {0: 16259, 1: 1639}\n",
      "Class distribution after augmentation: {0.0: 16259, 1.0: 3278}\n",
      "Recall Score for AutoDiff Autoencoder & ForestDIffusion for HTRU dataset\n"
     ]
    },
    {
     "data": {
      "application/vnd.jupyter.widget-view+json": {
       "model_id": "b0cdcdc258ad4b12afb16567d9a7206a",
       "version_major": 2,
       "version_minor": 0
      },
      "text/plain": [
       "  0%|          | 0/1000 [00:00<?, ?it/s]"
      ]
     },
     "metadata": {},
     "output_type": "display_data"
    },
    {
     "name": "stdout",
     "output_type": "stream",
     "text": [
      "Class distribution before augmentation: {0: 16259, 1: 1639}\n",
      "Class distribution after augmentation: {0.0: 16259, 1.0: 3278}\n",
      "Recall Score for AutoDiff Autoencoder & ForestDIffusion for HTRU dataset\n"
     ]
    },
    {
     "data": {
      "application/vnd.jupyter.widget-view+json": {
       "model_id": "7d69303f7eaf4ff4831815aacefb60cf",
       "version_major": 2,
       "version_minor": 0
      },
      "text/plain": [
       "  0%|          | 0/1500 [00:00<?, ?it/s]"
      ]
     },
     "metadata": {},
     "output_type": "display_data"
    },
    {
     "name": "stdout",
     "output_type": "stream",
     "text": [
      "Class distribution before augmentation: {0: 16259, 1: 1639}\n",
      "Class distribution after augmentation: {0.0: 16259, 1.0: 3278}\n",
      "Recall Score for AutoDiff Autoencoder & ForestDIffusion for HTRU dataset\n"
     ]
    },
    {
     "data": {
      "application/vnd.jupyter.widget-view+json": {
       "model_id": "c05afc4becee45f188bb3c59974b0d4e",
       "version_major": 2,
       "version_minor": 0
      },
      "text/plain": [
       "  0%|          | 0/2000 [00:00<?, ?it/s]"
      ]
     },
     "metadata": {},
     "output_type": "display_data"
    },
    {
     "name": "stdout",
     "output_type": "stream",
     "text": [
      "Class distribution before augmentation: {0: 16259, 1: 1639}\n",
      "Class distribution after augmentation: {0.0: 16259, 1.0: 3278}\n",
      "Recall Score for AutoDiff Autoencoder & ForestDIffusion for HTRU dataset\n"
     ]
    },
    {
     "data": {
      "application/vnd.jupyter.widget-view+json": {
       "model_id": "3b8d3a320cc548228c398ec3960580b8",
       "version_major": 2,
       "version_minor": 0
      },
      "text/plain": [
       "  0%|          | 0/2500 [00:00<?, ?it/s]"
      ]
     },
     "metadata": {},
     "output_type": "display_data"
    },
    {
     "name": "stdout",
     "output_type": "stream",
     "text": [
      "Class distribution before augmentation: {0: 16259, 1: 1639}\n",
      "Class distribution after augmentation: {0.0: 16259, 1.0: 3278}\n",
      "Recall Score for AutoDiff Autoencoder & ForestDIffusion for HTRU dataset\n"
     ]
    },
    {
     "data": {
      "application/vnd.jupyter.widget-view+json": {
       "model_id": "16b49f57945f493d8f6b1a4b37e23b4e",
       "version_major": 2,
       "version_minor": 0
      },
      "text/plain": [
       "  0%|          | 0/3000 [00:00<?, ?it/s]"
      ]
     },
     "metadata": {},
     "output_type": "display_data"
    },
    {
     "name": "stdout",
     "output_type": "stream",
     "text": [
      "Class distribution before augmentation: {0: 16259, 1: 1639}\n",
      "Class distribution after augmentation: {0.0: 16259, 1.0: 3278}\n",
      "Recall Score for AutoDiff Autoencoder & ForestDIffusion for HTRU dataset\n"
     ]
    },
    {
     "data": {
      "application/vnd.jupyter.widget-view+json": {
       "model_id": "854e6cf9165e4d28ab2971032a1efa2c",
       "version_major": 2,
       "version_minor": 0
      },
      "text/plain": [
       "  0%|          | 0/3500 [00:00<?, ?it/s]"
      ]
     },
     "metadata": {},
     "output_type": "display_data"
    },
    {
     "name": "stdout",
     "output_type": "stream",
     "text": [
      "Class distribution before augmentation: {0: 16259, 1: 1639}\n",
      "Class distribution after augmentation: {0.0: 16259, 1.0: 3278}\n",
      "Recall Score for AutoDiff Autoencoder & ForestDIffusion for HTRU dataset\n"
     ]
    },
    {
     "data": {
      "application/vnd.jupyter.widget-view+json": {
       "model_id": "e25953d68e054b9884844dc637504024",
       "version_major": 2,
       "version_minor": 0
      },
      "text/plain": [
       "  0%|          | 0/5000 [00:00<?, ?it/s]"
      ]
     },
     "metadata": {},
     "output_type": "display_data"
    },
    {
     "name": "stdout",
     "output_type": "stream",
     "text": [
      "Class distribution before augmentation: {0: 16259, 1: 1639}\n",
      "Class distribution after augmentation: {0.0: 16259, 1.0: 3278}\n",
      "Recall Score for AutoDiff Autoencoder & ForestDIffusion for HTRU dataset\n"
     ]
    },
    {
     "data": {
      "application/vnd.jupyter.widget-view+json": {
       "model_id": "1d251ca16f1b423ea48341b15ec60d55",
       "version_major": 2,
       "version_minor": 0
      },
      "text/plain": [
       "  0%|          | 0/10000 [00:00<?, ?it/s]"
      ]
     },
     "metadata": {},
     "output_type": "display_data"
    },
    {
     "name": "stdout",
     "output_type": "stream",
     "text": [
      "Class distribution before augmentation: {0: 16259, 1: 1639}\n",
      "Class distribution after augmentation: {0.0: 16259, 1.0: 3278}\n"
     ]
    },
    {
     "data": {
      "image/png": "[encoded data removed]",
      "text/plain": [
       "<Figure size 640x480 with 1 Axes>"
      ]
     },
     "metadata": {},
     "output_type": "display_data"
    },
    {
     "name": "stdout",
     "output_type": "stream",
     "text": [
      "   Dataset Epochs on Auto Encoder  Recall_Original  Recall_Generated\n",
      "0     HTRU                    100         0.835391          0.899177\n",
      "1     HTRU                    400         0.835391          0.919753\n",
      "2     HTRU                    700         0.835391          0.927984\n",
      "3     HTRU                   1000         0.835391          0.923868\n",
      "4     HTRU                   1500         0.835391          0.921811\n",
      "5     HTRU                   2000         0.835391          0.927984\n",
      "6     HTRU                   2500         0.835391          0.923868\n",
      "7     HTRU                   3000         0.835391          0.925926\n",
      "8     HTRU                   3500         0.835391          0.927984\n",
      "9     HTRU                   5000         0.835391          0.925926\n",
      "10    HTRU                  10000         0.835391          0.923868\n"
     ]
    }
   ],
   "source": [
    "strings_set = ['HTRU']\n",
    "\n",
    "Model = 'AutoDiff'\n",
    "metrics_list = []\n",
    "\n",
    "epoch_list = [100, 400, 700, 1000,1500,2000,2500,3000,3500,5000,10000]\n",
    "\n",
    "sample_size_percent = 100\n",
    "for dataset in strings_set:\n",
    "    recall_list = []\n",
    "    for epoch in epoch_list:\n",
    "        \n",
    "        print(f\"Recall Score for AutoDiff Autoencoder & ForestDIffusion for {dataset} dataset\")\n",
    "        file_path = f'..\\\\..\\\\..\\\\Datasets\\\\Original Data\\\\{dataset}.csv'\n",
    "        # Read dataframe\n",
    "        # print(file_path)\n",
    "        real_df = pd.read_csv(file_path)\n",
    "        #real_df = real_df.drop('url', axis=1)\n",
    "        # # Step 2: Inspect the data and check for class imbalance\n",
    "        # # Assuming the last column is the label, and the rest are features\n",
    "        X = real_df.iloc[:, :-1].values  # Features\n",
    "        y = real_df.iloc[:, -1].values  # Labels (binary classification)\n",
    "        #  # Separate the minority class\n",
    "        # Find the minority class\n",
    "        \n",
    "        real_minortiy = real_df[y == 1]\n",
    "\n",
    "        threshold = 0.01 # Threshold for mixed-type variables\n",
    "        parser = pce.DataFrameParser().fit(real_minortiy, threshold)\n",
    "        ################################################################################################################\n",
    "        # Auto-encoder hyper-parameters\n",
    "        device = 'cuda' #@param {'type':'string'}\n",
    "        n_epochs = epoch #@param {'type':'integer'}\n",
    "        eps = 1e-5 #@param {type:\"number\"}\n",
    "        weight_decay = 1e-6 #@param {'type':'number'}\n",
    "        maximum_learning_rate = 1e-2 #@param {'type':'number'}\n",
    "        lr = 2e-4 #@param {'type':'number'}\n",
    "        hidden_size = 250\n",
    "        num_layers = 3\n",
    "        batch_size = real_minortiy.shape[0] # Full batch\n",
    "\n",
    "        ds = ae.train_autoencoder(real_minortiy, hidden_size, num_layers, lr, weight_decay, n_epochs, batch_size, threshold)\n",
    "        latent_features = ds[1].detach()\n",
    "\n",
    "        from ForestDiffusion import ForestDiffusionModel\n",
    "\n",
    "\n",
    "        # Convert to NumPy array\n",
    "        array = latent_features.detach().cpu().numpy()\n",
    "        forest_model = ForestDiffusionModel(array, label_y=None, n_t=50, duplicate_K=100, bin_indexes=[], cat_indexes=[], int_indexes=[], diffusion_type='flow', n_jobs=-1)\n",
    "        minority_fake = forest_model.generate(batch_size=len(real_minortiy)) # Adjust the batch size to create a balanced dataset\n",
    "        sample=torch.tensor(minority_fake, dtype=torch.float32)\n",
    "        sample.shape\n",
    "        gen_output = ds[0](sample, ds[2], ds[3])\n",
    "        gen_df = pce.convert_to_table(real_minortiy, gen_output, threshold)\n",
    "\n",
    "        output_directory =  f'..\\\\..\\\\..\\\\Datasets\\\\Synthetic Data\\\\'\n",
    "        filename = f'{Model}+Forest_{dataset}_Synthetic.csv'\n",
    "        output_file = os.path.join(output_directory, filename)\n",
    "        # gen_df.to_csv(output_file, index=False) \n",
    "\n",
    "\n",
    "        # Select a random sample of the generated data\n",
    "        num_samples_to_generate = len(real_minortiy)*sample_size_percent // 100\n",
    "        selected_samples = gen_df.sample(n=num_samples_to_generate, random_state=42)  # For reproducibility\n",
    "        # Syn _df will be the dataset after augmentation\n",
    "        syn_df = pd.concat([real_df, selected_samples], ignore_index=True)\n",
    "\n",
    "\n",
    "        augmented_output_directory =  f'..\\\\..\\\\..\\\\Datasets\\\\Augmented Data\\\\'\n",
    "        filename = f'{Model}+Forest_{dataset}_Augmented.csv'\n",
    "        augmented_output_file = os.path.join(augmented_output_directory, filename)\n",
    "        # syn_df.to_csv(augmented_output_file, index=False) \n",
    "\n",
    "        import pandas as pd\n",
    "        from sklearn.model_selection import train_test_split\n",
    "        from sklearn.metrics import classification_report, precision_score, recall_score, f1_score\n",
    "        import numpy as np\n",
    "        import matplotlib.pyplot as plt\n",
    "        from ForestDiffusion import ForestDiffusionModel\n",
    "        from sklearn.ensemble import RandomForestClassifier\n",
    "        from sklearn.metrics import recall_score, f1_score\n",
    "\n",
    "        # real_df = pd.read_csv(filename)\n",
    "        # syn_filename = f'{string}/{Model}_{string}_Augmented.csv'\n",
    "\n",
    "        # augmented_df = pd.read_csv(syn_filename)\n",
    "        augmented_df=syn_df\n",
    "\n",
    "        X = real_df.iloc[:, :-1].values  # Features\n",
    "        y = real_df.iloc[:, -1].values \n",
    "        # Check and print the original class distribution\n",
    "        unique, counts = np.unique(y, return_counts=True)\n",
    "        class_dist_before = dict(zip(unique, counts))\n",
    "        print(f\"Class distribution before augmentation: {class_dist_before}\")# Labels (binary classification)\n",
    "\n",
    "        X_balanced = augmented_df.iloc[:, :-1].values  # Features\n",
    "        y_balanced = augmented_df.iloc[:, -1].values  # Labels (binary classification)\n",
    "\n",
    "        # Check and print the Augmented class distribution\n",
    "        unique, counts = np.unique(y_balanced, return_counts=True)\n",
    "        class_dist_after = dict(zip(unique, counts))\n",
    "        print(f\"Class distribution after augmentation: {class_dist_after}\")\n",
    "\n",
    "        # Step 6: Split the dataset into training and test sets (original and balanced)\n",
    "        X_train_orig, X_test_orig, y_train_orig, y_test_orig = train_test_split(X, y, test_size=0.3, random_state=42)\n",
    "        X_train_bal, X_test_bal, y_train_bal, y_test_bal = train_test_split(X_balanced, y_balanced, test_size=0.3, random_state=42)\n",
    "\n",
    "        # Step 7: Train a simple classifier on both original and generated datasets\n",
    "        clf_orig = RandomForestClassifier(random_state=42)\n",
    "        clf_orig.fit(X_train_orig, y_train_orig)\n",
    "\n",
    "        clf_bal = RandomForestClassifier(random_state=42)\n",
    "        clf_bal.fit(X_train_bal, y_train_bal)\n",
    "\n",
    "        # Step 8: Predict and calculate recall and F1 scores\n",
    "        y_pred_orig = clf_orig.predict(X_test_orig)\n",
    "        y_pred_bal = clf_bal.predict(X_test_orig)\n",
    "\n",
    "        prec_orig = precision_score(y_test_orig, y_pred_orig)\n",
    "        prec_bal = precision_score(y_test_orig, y_pred_bal)\n",
    "        \n",
    "        recall_orig = recall_score(y_test_orig, y_pred_orig)\n",
    "        recalls_bal = recall_score(y_test_orig, y_pred_bal)\n",
    "\n",
    "        # f1_orig = f1_score(y_test_orig, y_pred_orig)\n",
    "        # f1_bal = f1_score(y_test_orig, y_pred_bal)\n",
    "\n",
    "        # Step 9: Print and store the performance metrics\n",
    "        # Store metrics in a dictionary\n",
    "        metrics = {\n",
    "        \"Dataset\": dataset,\n",
    "        \"Epochs on Auto Encoder\":f'{epoch}',\n",
    "        \"Recall_Original\": recall_orig,\n",
    "        \"Recall_Generated\": recalls_bal,\n",
    "        \n",
    "        }\n",
    "\n",
    "        # Append the dictionary to the list\n",
    "        metrics_list.append(metrics)\n",
    "        recall_list.append(recalls_bal)\n",
    "\n",
    "        # print(f\"Precision score (original data): {prec_orig:.4f}\")\n",
    "        # print(f\"Precision score (generated data): {prec_bal:.4f}\")\n",
    "        # print(f\"Recall score (original data): {recall_orig:.4f}\")\n",
    "        # print(f\"Recall score (generated data): {recalls_bal:.4f}\")\n",
    "        # print(f\"F1 score (original data): {f1_orig:.4f}\")\n",
    "        # print(f\"F1 score (generated data): {f1_bal:.4f}\")\n",
    "        # print(\"Classification Report (original data):\\n\", classification_report(y_test_orig, y_pred_orig))\n",
    "        # print(\"Classification Report (generated data):\\n\", classification_report(y_test_orig, y_pred_bal))\n",
    "\n",
    "\n",
    "        # print(f\"Number of fake samples generated: {len(augmented_df)-len(real_df)}\")\n",
    "    import matplotlib.pyplot as plt\n",
    "\n",
    "    # Create the plot\n",
    "    plt.plot(epoch_list, recall_list, marker='o', linestyle='-', color='b', label='Recall Score (Minor Class)')\n",
    "    # plt.plot(batch_size_list, major_class_data_recall_score_list, marker='o', linestyle='-', color='r', label='Recall Score (Major Class)')\n",
    "    # Adding title and labels\n",
    "    plt.title('Recall Score vs epochs on Autoencoder \\n at 100% Augmentation Ratio (AutoDiffandForest)')\n",
    "    plt.xlabel('Epochs')\n",
    "    plt.ylabel('Recall Score (Augmented Data)')\n",
    "    plt.legend(loc=\"upper left\")\n",
    "\n",
    "    # Show the grid\n",
    "    plt.grid()\n",
    "\n",
    "    # Display the plot\n",
    "    \n",
    "    diagram_name=f'Recall Score vs epochs on Autoencoder for {dataset} dataset(AutoDiffandForest).png'\n",
    "    plt.savefig(diagram_name)\n",
    "    plt.show()\n",
    "    \n",
    "    \n",
    "import pandas as pd\n",
    "metrics_df = pd.DataFrame(metrics_list)\n",
    "\n",
    "# Save the DataFrame to a CSV file\n",
    "metrics_df.to_csv(\"Auto_Diff_Forest_Different No. of Epochs at 100 percent augmentaion ratio.csv\", index=False)\n",
    "\n",
    "# Print the DataFrame\n",
    "print(metrics_df)"
   ]
  },
  {
   "cell_type": "code",
   "execution_count": 5,
   "metadata": {},
   "outputs": [
    {
     "name": "stdout",
     "output_type": "stream",
     "text": [
      "Recall Score for AutoDiff Autoencoder & ForestDIffusion for mammography dataset\n"
     ]
    },
    {
     "data": {
      "application/vnd.jupyter.widget-view+json": {
       "model_id": "3a74fb218c174555a28470e552122e53",
       "version_major": 2,
       "version_minor": 0
      },
      "text/plain": [
       "  0%|          | 0/100 [00:00<?, ?it/s]"
      ]
     },
     "metadata": {},
     "output_type": "display_data"
    },
    {
     "name": "stdout",
     "output_type": "stream",
     "text": [
      "Class distribution before augmentation: {-1: 10923, 1: 260}\n",
      "Class distribution after augmentation: {-1.0: 10923, 1.0: 520}\n",
      "Recall Score for AutoDiff Autoencoder & ForestDIffusion for mammography dataset\n"
     ]
    },
    {
     "data": {
      "application/vnd.jupyter.widget-view+json": {
       "model_id": "ab982438a3864fb9891009d5485f717d",
       "version_major": 2,
       "version_minor": 0
      },
      "text/plain": [
       "  0%|          | 0/400 [00:00<?, ?it/s]"
      ]
     },
     "metadata": {},
     "output_type": "display_data"
    },
    {
     "name": "stdout",
     "output_type": "stream",
     "text": [
      "Class distribution before augmentation: {-1: 10923, 1: 260}\n",
      "Class distribution after augmentation: {-1.0: 10923, 1.0: 520}\n",
      "Recall Score for AutoDiff Autoencoder & ForestDIffusion for mammography dataset\n"
     ]
    },
    {
     "data": {
      "application/vnd.jupyter.widget-view+json": {
       "model_id": "528dabb48cde4f819785ebeb500b0e35",
       "version_major": 2,
       "version_minor": 0
      },
      "text/plain": [
       "  0%|          | 0/700 [00:00<?, ?it/s]"
      ]
     },
     "metadata": {},
     "output_type": "display_data"
    },
    {
     "name": "stdout",
     "output_type": "stream",
     "text": [
      "Class distribution before augmentation: {-1: 10923, 1: 260}\n",
      "Class distribution after augmentation: {-1.0: 10923, 1.0: 520}\n",
      "Recall Score for AutoDiff Autoencoder & ForestDIffusion for mammography dataset\n"
     ]
    },
    {
     "data": {
      "application/vnd.jupyter.widget-view+json": {
       "model_id": "5ce40c9f18164536a6749cb444cede69",
       "version_major": 2,
       "version_minor": 0
      },
      "text/plain": [
       "  0%|          | 0/1000 [00:00<?, ?it/s]"
      ]
     },
     "metadata": {},
     "output_type": "display_data"
    },
    {
     "name": "stdout",
     "output_type": "stream",
     "text": [
      "Class distribution before augmentation: {-1: 10923, 1: 260}\n",
      "Class distribution after augmentation: {-1.0: 10923, 1.0: 520}\n",
      "Recall Score for AutoDiff Autoencoder & ForestDIffusion for mammography dataset\n"
     ]
    },
    {
     "data": {
      "application/vnd.jupyter.widget-view+json": {
       "model_id": "c4e8b7bd72b84093b2b023e7a518b51f",
       "version_major": 2,
       "version_minor": 0
      },
      "text/plain": [
       "  0%|          | 0/1500 [00:00<?, ?it/s]"
      ]
     },
     "metadata": {},
     "output_type": "display_data"
    },
    {
     "name": "stdout",
     "output_type": "stream",
     "text": [
      "Class distribution before augmentation: {-1: 10923, 1: 260}\n",
      "Class distribution after augmentation: {-1.0: 10923, 1.0: 520}\n",
      "Recall Score for AutoDiff Autoencoder & ForestDIffusion for mammography dataset\n"
     ]
    },
    {
     "data": {
      "application/vnd.jupyter.widget-view+json": {
       "model_id": "4d82f3f946054f6c8eaed00eed6569fb",
       "version_major": 2,
       "version_minor": 0
      },
      "text/plain": [
       "  0%|          | 0/2000 [00:00<?, ?it/s]"
      ]
     },
     "metadata": {},
     "output_type": "display_data"
    },
    {
     "name": "stdout",
     "output_type": "stream",
     "text": [
      "Class distribution before augmentation: {-1: 10923, 1: 260}\n",
      "Class distribution after augmentation: {-1.0: 10923, 1.0: 520}\n",
      "Recall Score for AutoDiff Autoencoder & ForestDIffusion for mammography dataset\n"
     ]
    },
    {
     "data": {
      "application/vnd.jupyter.widget-view+json": {
       "model_id": "64b2d73aeb16419b92d73cd94ca4c6fe",
       "version_major": 2,
       "version_minor": 0
      },
      "text/plain": [
       "  0%|          | 0/2500 [00:00<?, ?it/s]"
      ]
     },
     "metadata": {},
     "output_type": "display_data"
    },
    {
     "name": "stdout",
     "output_type": "stream",
     "text": [
      "Class distribution before augmentation: {-1: 10923, 1: 260}\n",
      "Class distribution after augmentation: {-1.0: 10923, 1.0: 520}\n",
      "Recall Score for AutoDiff Autoencoder & ForestDIffusion for mammography dataset\n"
     ]
    },
    {
     "data": {
      "application/vnd.jupyter.widget-view+json": {
       "model_id": "16975865f55947518554bb7fa350b119",
       "version_major": 2,
       "version_minor": 0
      },
      "text/plain": [
       "  0%|          | 0/3000 [00:00<?, ?it/s]"
      ]
     },
     "metadata": {},
     "output_type": "display_data"
    },
    {
     "name": "stdout",
     "output_type": "stream",
     "text": [
      "Class distribution before augmentation: {-1: 10923, 1: 260}\n",
      "Class distribution after augmentation: {-1.0: 10923, 1.0: 520}\n",
      "Recall Score for AutoDiff Autoencoder & ForestDIffusion for mammography dataset\n"
     ]
    },
    {
     "data": {
      "application/vnd.jupyter.widget-view+json": {
       "model_id": "645604a32b0b46d087f9ad0926dd43e6",
       "version_major": 2,
       "version_minor": 0
      },
      "text/plain": [
       "  0%|          | 0/3500 [00:00<?, ?it/s]"
      ]
     },
     "metadata": {},
     "output_type": "display_data"
    },
    {
     "name": "stdout",
     "output_type": "stream",
     "text": [
      "Class distribution before augmentation: {-1: 10923, 1: 260}\n",
      "Class distribution after augmentation: {-1.0: 10923, 1.0: 520}\n",
      "Recall Score for AutoDiff Autoencoder & ForestDIffusion for mammography dataset\n"
     ]
    },
    {
     "data": {
      "application/vnd.jupyter.widget-view+json": {
       "model_id": "c0d7f00915de4288968472cef806538f",
       "version_major": 2,
       "version_minor": 0
      },
      "text/plain": [
       "  0%|          | 0/5000 [00:00<?, ?it/s]"
      ]
     },
     "metadata": {},
     "output_type": "display_data"
    },
    {
     "name": "stdout",
     "output_type": "stream",
     "text": [
      "Class distribution before augmentation: {-1: 10923, 1: 260}\n",
      "Class distribution after augmentation: {-1.0: 10923, 1.0: 520}\n",
      "Recall Score for AutoDiff Autoencoder & ForestDIffusion for mammography dataset\n"
     ]
    },
    {
     "data": {
      "application/vnd.jupyter.widget-view+json": {
       "model_id": "80fcb9a448b940df8c2c09b606b84727",
       "version_major": 2,
       "version_minor": 0
      },
      "text/plain": [
       "  0%|          | 0/10000 [00:00<?, ?it/s]"
      ]
     },
     "metadata": {},
     "output_type": "display_data"
    },
    {
     "name": "stdout",
     "output_type": "stream",
     "text": [
      "Class distribution before augmentation: {-1: 10923, 1: 260}\n",
      "Class distribution after augmentation: {-1.0: 10923, 1.0: 520}\n"
     ]
    },
    {
     "data": {
      "image/png": "[encoded data removed]",
      "text/plain": [
       "<Figure size 640x480 with 1 Axes>"
      ]
     },
     "metadata": {},
     "output_type": "display_data"
    },
    {
     "name": "stdout",
     "output_type": "stream",
     "text": [
      "        Dataset Epochs on Auto Encoder  Recall_Original  Recall_Generated\n",
      "0   mammography                    100         0.594595          0.702703\n",
      "1   mammography                    400         0.594595          0.824324\n",
      "2   mammography                    700         0.594595          0.783784\n",
      "3   mammography                   1000         0.594595          0.824324\n",
      "4   mammography                   1500         0.594595          0.810811\n",
      "5   mammography                   2000         0.594595          0.824324\n",
      "6   mammography                   2500         0.594595          0.824324\n",
      "7   mammography                   3000         0.594595          0.824324\n",
      "8   mammography                   3500         0.594595          0.837838\n",
      "9   mammography                   5000         0.594595          0.824324\n",
      "10  mammography                  10000         0.594595          0.797297\n"
     ]
    }
   ],
   "source": [
    "strings_set = ['mammography']\n",
    "\n",
    "Model = 'AutoDiff'\n",
    "metrics_list = []\n",
    "\n",
    "epoch_list = [100, 400, 700, 1000,1500,2000,2500,3000,3500,5000,10000]\n",
    "\n",
    "sample_size_percent = 100\n",
    "for dataset in strings_set:\n",
    "    recall_list = []\n",
    "    for epoch in epoch_list:\n",
    "        \n",
    "        print(f\"Recall Score for AutoDiff Autoencoder & ForestDIffusion for {dataset} dataset\")\n",
    "        file_path = f'..\\\\..\\\\..\\\\Datasets\\\\Original Data\\\\{dataset}.csv'\n",
    "        # Read dataframe\n",
    "        # print(file_path)\n",
    "        real_df = pd.read_csv(file_path)\n",
    "        #real_df = real_df.drop('url', axis=1)\n",
    "        # # Step 2: Inspect the data and check for class imbalance\n",
    "        # # Assuming the last column is the label, and the rest are features\n",
    "        X = real_df.iloc[:, :-1].values  # Features\n",
    "        y = real_df.iloc[:, -1].values  # Labels (binary classification)\n",
    "        #  # Separate the minority class\n",
    "        # Find the minority class\n",
    "        \n",
    "        real_minortiy = real_df[y == 1]\n",
    "\n",
    "        threshold = 0.01 # Threshold for mixed-type variables\n",
    "        parser = pce.DataFrameParser().fit(real_minortiy, threshold)\n",
    "        ################################################################################################################\n",
    "        # Auto-encoder hyper-parameters\n",
    "        device = 'cuda' #@param {'type':'string'}\n",
    "        n_epochs = epoch #@param {'type':'integer'}\n",
    "        eps = 1e-5 #@param {type:\"number\"}\n",
    "        weight_decay = 1e-6 #@param {'type':'number'}\n",
    "        maximum_learning_rate = 1e-2 #@param {'type':'number'}\n",
    "        lr = 2e-4 #@param {'type':'number'}\n",
    "        hidden_size = 250\n",
    "        num_layers = 3\n",
    "        batch_size = real_minortiy.shape[0] # Full batch\n",
    "\n",
    "        ds = ae.train_autoencoder(real_minortiy, hidden_size, num_layers, lr, weight_decay, n_epochs, batch_size, threshold)\n",
    "        latent_features = ds[1].detach()\n",
    "\n",
    "        from ForestDiffusion import ForestDiffusionModel\n",
    "\n",
    "\n",
    "        # Convert to NumPy array\n",
    "        array = latent_features.detach().cpu().numpy()\n",
    "        forest_model = ForestDiffusionModel(array, label_y=None, n_t=50, duplicate_K=100, bin_indexes=[], cat_indexes=[], int_indexes=[], diffusion_type='flow', n_jobs=-1)\n",
    "        minority_fake = forest_model.generate(batch_size=len(real_minortiy)) # Adjust the batch size to create a balanced dataset\n",
    "        sample=torch.tensor(minority_fake, dtype=torch.float32)\n",
    "        sample.shape\n",
    "        gen_output = ds[0](sample, ds[2], ds[3])\n",
    "        gen_df = pce.convert_to_table(real_minortiy, gen_output, threshold)\n",
    "\n",
    "        output_directory =  f'..\\\\..\\\\..\\\\Datasets\\\\Synthetic Data\\\\'\n",
    "        filename = f'{Model}+Forest_{dataset}_Synthetic.csv'\n",
    "        output_file = os.path.join(output_directory, filename)\n",
    "        # gen_df.to_csv(output_file, index=False) \n",
    "\n",
    "\n",
    "        # Select a random sample of the generated data\n",
    "        num_samples_to_generate = len(real_minortiy)*sample_size_percent // 100\n",
    "        selected_samples = gen_df.sample(n=num_samples_to_generate, random_state=42)  # For reproducibility\n",
    "        # Syn _df will be the dataset after augmentation\n",
    "        syn_df = pd.concat([real_df, selected_samples], ignore_index=True)\n",
    "\n",
    "\n",
    "        augmented_output_directory =  f'..\\\\..\\\\..\\\\Datasets\\\\Augmented Data\\\\'\n",
    "        filename = f'{Model}+Forest_{dataset}_Augmented.csv'\n",
    "        augmented_output_file = os.path.join(augmented_output_directory, filename)\n",
    "        # syn_df.to_csv(augmented_output_file, index=False) \n",
    "\n",
    "        import pandas as pd\n",
    "        from sklearn.model_selection import train_test_split\n",
    "        from sklearn.metrics import classification_report, precision_score, recall_score, f1_score\n",
    "        import numpy as np\n",
    "        import matplotlib.pyplot as plt\n",
    "        from ForestDiffusion import ForestDiffusionModel\n",
    "        from sklearn.ensemble import RandomForestClassifier\n",
    "        from sklearn.metrics import recall_score, f1_score\n",
    "\n",
    "        # real_df = pd.read_csv(filename)\n",
    "        # syn_filename = f'{string}/{Model}_{string}_Augmented.csv'\n",
    "\n",
    "        # augmented_df = pd.read_csv(syn_filename)\n",
    "        augmented_df=syn_df\n",
    "\n",
    "        X = real_df.iloc[:, :-1].values  # Features\n",
    "        y = real_df.iloc[:, -1].values \n",
    "        # Check and print the original class distribution\n",
    "        unique, counts = np.unique(y, return_counts=True)\n",
    "        class_dist_before = dict(zip(unique, counts))\n",
    "        print(f\"Class distribution before augmentation: {class_dist_before}\")# Labels (binary classification)\n",
    "\n",
    "        X_balanced = augmented_df.iloc[:, :-1].values  # Features\n",
    "        y_balanced = augmented_df.iloc[:, -1].values  # Labels (binary classification)\n",
    "\n",
    "        # Check and print the Augmented class distribution\n",
    "        unique, counts = np.unique(y_balanced, return_counts=True)\n",
    "        class_dist_after = dict(zip(unique, counts))\n",
    "        print(f\"Class distribution after augmentation: {class_dist_after}\")\n",
    "\n",
    "        # Step 6: Split the dataset into training and test sets (original and balanced)\n",
    "        X_train_orig, X_test_orig, y_train_orig, y_test_orig = train_test_split(X, y, test_size=0.3, random_state=42)\n",
    "        X_train_bal, X_test_bal, y_train_bal, y_test_bal = train_test_split(X_balanced, y_balanced, test_size=0.3, random_state=42)\n",
    "\n",
    "        # Step 7: Train a simple classifier on both original and generated datasets\n",
    "        clf_orig = RandomForestClassifier(random_state=42)\n",
    "        clf_orig.fit(X_train_orig, y_train_orig)\n",
    "\n",
    "        clf_bal = RandomForestClassifier(random_state=42)\n",
    "        clf_bal.fit(X_train_bal, y_train_bal)\n",
    "\n",
    "        # Step 8: Predict and calculate recall and F1 scores\n",
    "        y_pred_orig = clf_orig.predict(X_test_orig)\n",
    "        y_pred_bal = clf_bal.predict(X_test_orig)\n",
    "\n",
    "        prec_orig = precision_score(y_test_orig, y_pred_orig)\n",
    "        prec_bal = precision_score(y_test_orig, y_pred_bal)\n",
    "        \n",
    "        recall_orig = recall_score(y_test_orig, y_pred_orig)\n",
    "        recalls_bal = recall_score(y_test_orig, y_pred_bal)\n",
    "\n",
    "        # f1_orig = f1_score(y_test_orig, y_pred_orig)\n",
    "        # f1_bal = f1_score(y_test_orig, y_pred_bal)\n",
    "\n",
    "        # Step 9: Print and store the performance metrics\n",
    "        # Store metrics in a dictionary\n",
    "        metrics = {\n",
    "        \"Dataset\": dataset,\n",
    "        \"Epochs on Auto Encoder\":f'{epoch}',\n",
    "        \"Recall_Original\": recall_orig,\n",
    "        \"Recall_Generated\": recalls_bal,\n",
    "        \n",
    "        }\n",
    "\n",
    "        # Append the dictionary to the list\n",
    "        metrics_list.append(metrics)\n",
    "        recall_list.append(recalls_bal)\n",
    "\n",
    "        # print(f\"Precision score (original data): {prec_orig:.4f}\")\n",
    "        # print(f\"Precision score (generated data): {prec_bal:.4f}\")\n",
    "        # print(f\"Recall score (original data): {recall_orig:.4f}\")\n",
    "        # print(f\"Recall score (generated data): {recalls_bal:.4f}\")\n",
    "        # print(f\"F1 score (original data): {f1_orig:.4f}\")\n",
    "        # print(f\"F1 score (generated data): {f1_bal:.4f}\")\n",
    "        # print(\"Classification Report (original data):\\n\", classification_report(y_test_orig, y_pred_orig))\n",
    "        # print(\"Classification Report (generated data):\\n\", classification_report(y_test_orig, y_pred_bal))\n",
    "\n",
    "\n",
    "        # print(f\"Number of fake samples generated: {len(augmented_df)-len(real_df)}\")\n",
    "    import matplotlib.pyplot as plt\n",
    "\n",
    "    # Create the plot\n",
    "    plt.plot(epoch_list, recall_list, marker='o', linestyle='-', color='b', label='Recall Score (Minor Class)')\n",
    "    # plt.plot(batch_size_list, major_class_data_recall_score_list, marker='o', linestyle='-', color='r', label='Recall Score (Major Class)')\n",
    "    # Adding title and labels\n",
    "    plt.title('Recall Score vs epochs on Autoencoder \\n at 100% Augmentation Ratio (AutoDiffandForest)')\n",
    "    plt.xlabel('Epochs')\n",
    "    plt.ylabel('Recall Score (Augmented Data)')\n",
    "    plt.legend(loc=\"upper left\")\n",
    "\n",
    "    # Show the grid\n",
    "    plt.grid()\n",
    "\n",
    "    # Display the plot\n",
    "    \n",
    "    diagram_name=f'Recall Score vs epochs on Autoencoder for {dataset} dataset(AutoDiffandForest).png'\n",
    "    plt.savefig(diagram_name)\n",
    "    plt.show()\n",
    "    \n",
    "    \n",
    "import pandas as pd\n",
    "metrics_df = pd.DataFrame(metrics_list)\n",
    "\n",
    "# Save the DataFrame to a CSV file\n",
    "metrics_df.to_csv(\"Auto_Diff_Forest_Different No. of Epochs at 100 percent augmentaion ratio.csv\", index=False)\n",
    "\n",
    "# Print the DataFrame\n",
    "print(metrics_df)"
   ]
  },
  {
   "cell_type": "code",
   "execution_count": 6,
   "metadata": {},
   "outputs": [
    {
     "name": "stdout",
     "output_type": "stream",
     "text": [
      "Recall Score for AutoDiff Autoencoder & ForestDIffusion for creditcard_sampled dataset\n"
     ]
    },
    {
     "data": {
      "application/vnd.jupyter.widget-view+json": {
       "model_id": "e9639eef7a52421994a02a7728feb16e",
       "version_major": 2,
       "version_minor": 0
      },
      "text/plain": [
       "  0%|          | 0/100 [00:00<?, ?it/s]"
      ]
     },
     "metadata": {},
     "output_type": "display_data"
    },
    {
     "name": "stdout",
     "output_type": "stream",
     "text": [
      "Class distribution before augmentation: {0: 4000, 1: 50}\n",
      "Class distribution after augmentation: {0.0: 4000, 1.0: 100}\n",
      "Recall Score for AutoDiff Autoencoder & ForestDIffusion for creditcard_sampled dataset\n"
     ]
    },
    {
     "data": {
      "application/vnd.jupyter.widget-view+json": {
       "model_id": "e52dbffecc3a4376b3d259d28806f57e",
       "version_major": 2,
       "version_minor": 0
      },
      "text/plain": [
       "  0%|          | 0/400 [00:00<?, ?it/s]"
      ]
     },
     "metadata": {},
     "output_type": "display_data"
    },
    {
     "name": "stdout",
     "output_type": "stream",
     "text": [
      "Class distribution before augmentation: {0: 4000, 1: 50}\n",
      "Class distribution after augmentation: {0.0: 4000, 1.0: 100}\n",
      "Recall Score for AutoDiff Autoencoder & ForestDIffusion for creditcard_sampled dataset\n"
     ]
    },
    {
     "data": {
      "application/vnd.jupyter.widget-view+json": {
       "model_id": "19441c83a5ac48ffbabcdd3b9c274664",
       "version_major": 2,
       "version_minor": 0
      },
      "text/plain": [
       "  0%|          | 0/700 [00:00<?, ?it/s]"
      ]
     },
     "metadata": {},
     "output_type": "display_data"
    },
    {
     "name": "stdout",
     "output_type": "stream",
     "text": [
      "Class distribution before augmentation: {0: 4000, 1: 50}\n",
      "Class distribution after augmentation: {0.0: 4000, 1.0: 100}\n",
      "Recall Score for AutoDiff Autoencoder & ForestDIffusion for creditcard_sampled dataset\n"
     ]
    },
    {
     "data": {
      "application/vnd.jupyter.widget-view+json": {
       "model_id": "2d5d3724a658416287e531fa1d0df4a2",
       "version_major": 2,
       "version_minor": 0
      },
      "text/plain": [
       "  0%|          | 0/1000 [00:00<?, ?it/s]"
      ]
     },
     "metadata": {},
     "output_type": "display_data"
    },
    {
     "name": "stdout",
     "output_type": "stream",
     "text": [
      "Class distribution before augmentation: {0: 4000, 1: 50}\n",
      "Class distribution after augmentation: {0.0: 4000, 1.0: 100}\n",
      "Recall Score for AutoDiff Autoencoder & ForestDIffusion for creditcard_sampled dataset\n"
     ]
    },
    {
     "data": {
      "application/vnd.jupyter.widget-view+json": {
       "model_id": "db17e6d711b84644b758d1ba7515659d",
       "version_major": 2,
       "version_minor": 0
      },
      "text/plain": [
       "  0%|          | 0/1500 [00:00<?, ?it/s]"
      ]
     },
     "metadata": {},
     "output_type": "display_data"
    },
    {
     "name": "stdout",
     "output_type": "stream",
     "text": [
      "Class distribution before augmentation: {0: 4000, 1: 50}\n",
      "Class distribution after augmentation: {0.0: 4000, 1.0: 100}\n",
      "Recall Score for AutoDiff Autoencoder & ForestDIffusion for creditcard_sampled dataset\n"
     ]
    },
    {
     "data": {
      "application/vnd.jupyter.widget-view+json": {
       "model_id": "0a0876b6204446e9b3447a6ebfd19f1d",
       "version_major": 2,
       "version_minor": 0
      },
      "text/plain": [
       "  0%|          | 0/2000 [00:00<?, ?it/s]"
      ]
     },
     "metadata": {},
     "output_type": "display_data"
    },
    {
     "name": "stdout",
     "output_type": "stream",
     "text": [
      "Class distribution before augmentation: {0: 4000, 1: 50}\n",
      "Class distribution after augmentation: {0.0: 4000, 1.0: 100}\n",
      "Recall Score for AutoDiff Autoencoder & ForestDIffusion for creditcard_sampled dataset\n"
     ]
    },
    {
     "data": {
      "application/vnd.jupyter.widget-view+json": {
       "model_id": "be7c166e43754a08a1ff8a77557941af",
       "version_major": 2,
       "version_minor": 0
      },
      "text/plain": [
       "  0%|          | 0/2500 [00:00<?, ?it/s]"
      ]
     },
     "metadata": {},
     "output_type": "display_data"
    },
    {
     "name": "stdout",
     "output_type": "stream",
     "text": [
      "Class distribution before augmentation: {0: 4000, 1: 50}\n",
      "Class distribution after augmentation: {0.0: 4000, 1.0: 100}\n",
      "Recall Score for AutoDiff Autoencoder & ForestDIffusion for creditcard_sampled dataset\n"
     ]
    },
    {
     "data": {
      "application/vnd.jupyter.widget-view+json": {
       "model_id": "6520e33ab193434aafbca3aeea104abb",
       "version_major": 2,
       "version_minor": 0
      },
      "text/plain": [
       "  0%|          | 0/3000 [00:00<?, ?it/s]"
      ]
     },
     "metadata": {},
     "output_type": "display_data"
    },
    {
     "name": "stdout",
     "output_type": "stream",
     "text": [
      "Class distribution before augmentation: {0: 4000, 1: 50}\n",
      "Class distribution after augmentation: {0.0: 4000, 1.0: 100}\n",
      "Recall Score for AutoDiff Autoencoder & ForestDIffusion for creditcard_sampled dataset\n"
     ]
    },
    {
     "data": {
      "application/vnd.jupyter.widget-view+json": {
       "model_id": "14e2233ba070463dbfa4db0d19275128",
       "version_major": 2,
       "version_minor": 0
      },
      "text/plain": [
       "  0%|          | 0/3500 [00:00<?, ?it/s]"
      ]
     },
     "metadata": {},
     "output_type": "display_data"
    },
    {
     "name": "stdout",
     "output_type": "stream",
     "text": [
      "Class distribution before augmentation: {0: 4000, 1: 50}\n",
      "Class distribution after augmentation: {0.0: 4000, 1.0: 100}\n",
      "Recall Score for AutoDiff Autoencoder & ForestDIffusion for creditcard_sampled dataset\n"
     ]
    },
    {
     "data": {
      "application/vnd.jupyter.widget-view+json": {
       "model_id": "e2cd24cc2ecc49a2a7d515fa92f482b7",
       "version_major": 2,
       "version_minor": 0
      },
      "text/plain": [
       "  0%|          | 0/5000 [00:00<?, ?it/s]"
      ]
     },
     "metadata": {},
     "output_type": "display_data"
    },
    {
     "name": "stdout",
     "output_type": "stream",
     "text": [
      "Class distribution before augmentation: {0: 4000, 1: 50}\n",
      "Class distribution after augmentation: {0.0: 4000, 1.0: 100}\n",
      "Recall Score for AutoDiff Autoencoder & ForestDIffusion for creditcard_sampled dataset\n"
     ]
    },
    {
     "data": {
      "application/vnd.jupyter.widget-view+json": {
       "model_id": "4549609d3d9a4170ad46d876dbf8227f",
       "version_major": 2,
       "version_minor": 0
      },
      "text/plain": [
       "  0%|          | 0/10000 [00:00<?, ?it/s]"
      ]
     },
     "metadata": {},
     "output_type": "display_data"
    },
    {
     "name": "stdout",
     "output_type": "stream",
     "text": [
      "Class distribution before augmentation: {0: 4000, 1: 50}\n",
      "Class distribution after augmentation: {0.0: 4000, 1.0: 100}\n"
     ]
    },
    {
     "data": {
      "image/png": "[encoded data removed]",
      "text/plain": [
       "<Figure size 640x480 with 1 Axes>"
      ]
     },
     "metadata": {},
     "output_type": "display_data"
    },
    {
     "name": "stdout",
     "output_type": "stream",
     "text": [
      "               Dataset Epochs on Auto Encoder  Recall_Original  \\\n",
      "0   creditcard_sampled                    100         0.764706   \n",
      "1   creditcard_sampled                    400         0.764706   \n",
      "2   creditcard_sampled                    700         0.764706   \n",
      "3   creditcard_sampled                   1000         0.764706   \n",
      "4   creditcard_sampled                   1500         0.764706   \n",
      "5   creditcard_sampled                   2000         0.764706   \n",
      "6   creditcard_sampled                   2500         0.764706   \n",
      "7   creditcard_sampled                   3000         0.764706   \n",
      "8   creditcard_sampled                   3500         0.764706   \n",
      "9   creditcard_sampled                   5000         0.764706   \n",
      "10  creditcard_sampled                  10000         0.764706   \n",
      "\n",
      "    Recall_Generated  \n",
      "0           0.823529  \n",
      "1           0.823529  \n",
      "2           0.882353  \n",
      "3           0.823529  \n",
      "4           0.823529  \n",
      "5           0.882353  \n",
      "6           0.882353  \n",
      "7           0.882353  \n",
      "8           0.882353  \n",
      "9           0.823529  \n",
      "10          0.882353  \n"
     ]
    }
   ],
   "source": [
    "strings_set = ['creditcard_sampled']\n",
    "\n",
    "Model = 'AutoDiff'\n",
    "metrics_list = []\n",
    "\n",
    "epoch_list = [100, 400, 700, 1000,1500,2000,2500,3000,3500,5000,10000]\n",
    "\n",
    "sample_size_percent = 100\n",
    "for dataset in strings_set:\n",
    "    recall_list = []\n",
    "    for epoch in epoch_list:\n",
    "        \n",
    "        print(f\"Recall Score for AutoDiff Autoencoder & ForestDIffusion for {dataset} dataset\")\n",
    "        file_path = f'..\\\\..\\\\..\\\\Datasets\\\\Original Data\\\\{dataset}.csv'\n",
    "        # Read dataframe\n",
    "        # print(file_path)\n",
    "        real_df = pd.read_csv(file_path)\n",
    "        #real_df = real_df.drop('url', axis=1)\n",
    "        # # Step 2: Inspect the data and check for class imbalance\n",
    "        # # Assuming the last column is the label, and the rest are features\n",
    "        X = real_df.iloc[:, :-1].values  # Features\n",
    "        y = real_df.iloc[:, -1].values  # Labels (binary classification)\n",
    "        #  # Separate the minority class\n",
    "        # Find the minority class\n",
    "        \n",
    "        real_minortiy = real_df[y == 1]\n",
    "\n",
    "        threshold = 0.01 # Threshold for mixed-type variables\n",
    "        parser = pce.DataFrameParser().fit(real_minortiy, threshold)\n",
    "        ################################################################################################################\n",
    "        # Auto-encoder hyper-parameters\n",
    "        device = 'cuda' #@param {'type':'string'}\n",
    "        n_epochs = epoch #@param {'type':'integer'}\n",
    "        eps = 1e-5 #@param {type:\"number\"}\n",
    "        weight_decay = 1e-6 #@param {'type':'number'}\n",
    "        maximum_learning_rate = 1e-2 #@param {'type':'number'}\n",
    "        lr = 2e-4 #@param {'type':'number'}\n",
    "        hidden_size = 250\n",
    "        num_layers = 3\n",
    "        batch_size = real_minortiy.shape[0] # Full batch\n",
    "\n",
    "        ds = ae.train_autoencoder(real_minortiy, hidden_size, num_layers, lr, weight_decay, n_epochs, batch_size, threshold)\n",
    "        latent_features = ds[1].detach()\n",
    "\n",
    "        from ForestDiffusion import ForestDiffusionModel\n",
    "\n",
    "\n",
    "        # Convert to NumPy array\n",
    "        array = latent_features.detach().cpu().numpy()\n",
    "        forest_model = ForestDiffusionModel(array, label_y=None, n_t=50, duplicate_K=100, bin_indexes=[], cat_indexes=[], int_indexes=[], diffusion_type='flow', n_jobs=-1)\n",
    "        minority_fake = forest_model.generate(batch_size=len(real_minortiy)) # Adjust the batch size to create a balanced dataset\n",
    "        sample=torch.tensor(minority_fake, dtype=torch.float32)\n",
    "        sample.shape\n",
    "        gen_output = ds[0](sample, ds[2], ds[3])\n",
    "        gen_df = pce.convert_to_table(real_minortiy, gen_output, threshold)\n",
    "\n",
    "        output_directory =  f'..\\\\..\\\\..\\\\Datasets\\\\Synthetic Data\\\\'\n",
    "        filename = f'{Model}+Forest_{dataset}_Synthetic.csv'\n",
    "        output_file = os.path.join(output_directory, filename)\n",
    "        # gen_df.to_csv(output_file, index=False) \n",
    "\n",
    "\n",
    "        # Select a random sample of the generated data\n",
    "        num_samples_to_generate = len(real_minortiy)*sample_size_percent // 100\n",
    "        selected_samples = gen_df.sample(n=num_samples_to_generate, random_state=42)  # For reproducibility\n",
    "        # Syn _df will be the dataset after augmentation\n",
    "        syn_df = pd.concat([real_df, selected_samples], ignore_index=True)\n",
    "\n",
    "\n",
    "        augmented_output_directory =  f'..\\\\..\\\\..\\\\Datasets\\\\Augmented Data\\\\'\n",
    "        filename = f'{Model}+Forest_{dataset}_Augmented.csv'\n",
    "        augmented_output_file = os.path.join(augmented_output_directory, filename)\n",
    "        # syn_df.to_csv(augmented_output_file, index=False) \n",
    "\n",
    "        import pandas as pd\n",
    "        from sklearn.model_selection import train_test_split\n",
    "        from sklearn.metrics import classification_report, precision_score, recall_score, f1_score\n",
    "        import numpy as np\n",
    "        import matplotlib.pyplot as plt\n",
    "        from ForestDiffusion import ForestDiffusionModel\n",
    "        from sklearn.ensemble import RandomForestClassifier\n",
    "        from sklearn.metrics import recall_score, f1_score\n",
    "\n",
    "        # real_df = pd.read_csv(filename)\n",
    "        # syn_filename = f'{string}/{Model}_{string}_Augmented.csv'\n",
    "\n",
    "        # augmented_df = pd.read_csv(syn_filename)\n",
    "        augmented_df=syn_df\n",
    "\n",
    "        X = real_df.iloc[:, :-1].values  # Features\n",
    "        y = real_df.iloc[:, -1].values \n",
    "        # Check and print the original class distribution\n",
    "        unique, counts = np.unique(y, return_counts=True)\n",
    "        class_dist_before = dict(zip(unique, counts))\n",
    "        print(f\"Class distribution before augmentation: {class_dist_before}\")# Labels (binary classification)\n",
    "\n",
    "        X_balanced = augmented_df.iloc[:, :-1].values  # Features\n",
    "        y_balanced = augmented_df.iloc[:, -1].values  # Labels (binary classification)\n",
    "\n",
    "        # Check and print the Augmented class distribution\n",
    "        unique, counts = np.unique(y_balanced, return_counts=True)\n",
    "        class_dist_after = dict(zip(unique, counts))\n",
    "        print(f\"Class distribution after augmentation: {class_dist_after}\")\n",
    "\n",
    "        # Step 6: Split the dataset into training and test sets (original and balanced)\n",
    "        X_train_orig, X_test_orig, y_train_orig, y_test_orig = train_test_split(X, y, test_size=0.3, random_state=42)\n",
    "        X_train_bal, X_test_bal, y_train_bal, y_test_bal = train_test_split(X_balanced, y_balanced, test_size=0.3, random_state=42)\n",
    "\n",
    "        # Step 7: Train a simple classifier on both original and generated datasets\n",
    "        clf_orig = RandomForestClassifier(random_state=42)\n",
    "        clf_orig.fit(X_train_orig, y_train_orig)\n",
    "\n",
    "        clf_bal = RandomForestClassifier(random_state=42)\n",
    "        clf_bal.fit(X_train_bal, y_train_bal)\n",
    "\n",
    "        # Step 8: Predict and calculate recall and F1 scores\n",
    "        y_pred_orig = clf_orig.predict(X_test_orig)\n",
    "        y_pred_bal = clf_bal.predict(X_test_orig)\n",
    "\n",
    "        prec_orig = precision_score(y_test_orig, y_pred_orig)\n",
    "        prec_bal = precision_score(y_test_orig, y_pred_bal)\n",
    "        \n",
    "        recall_orig = recall_score(y_test_orig, y_pred_orig)\n",
    "        recalls_bal = recall_score(y_test_orig, y_pred_bal)\n",
    "\n",
    "        # f1_orig = f1_score(y_test_orig, y_pred_orig)\n",
    "        # f1_bal = f1_score(y_test_orig, y_pred_bal)\n",
    "\n",
    "        # Step 9: Print and store the performance metrics\n",
    "        # Store metrics in a dictionary\n",
    "        metrics = {\n",
    "        \"Dataset\": dataset,\n",
    "        \"Epochs on Auto Encoder\":f'{epoch}',\n",
    "        \"Recall_Original\": recall_orig,\n",
    "        \"Recall_Generated\": recalls_bal,\n",
    "        \n",
    "        }\n",
    "\n",
    "        # Append the dictionary to the list\n",
    "        metrics_list.append(metrics)\n",
    "        recall_list.append(recalls_bal)\n",
    "\n",
    "        # print(f\"Precision score (original data): {prec_orig:.4f}\")\n",
    "        # print(f\"Precision score (generated data): {prec_bal:.4f}\")\n",
    "        # print(f\"Recall score (original data): {recall_orig:.4f}\")\n",
    "        # print(f\"Recall score (generated data): {recalls_bal:.4f}\")\n",
    "        # print(f\"F1 score (original data): {f1_orig:.4f}\")\n",
    "        # print(f\"F1 score (generated data): {f1_bal:.4f}\")\n",
    "        # print(\"Classification Report (original data):\\n\", classification_report(y_test_orig, y_pred_orig))\n",
    "        # print(\"Classification Report (generated data):\\n\", classification_report(y_test_orig, y_pred_bal))\n",
    "\n",
    "\n",
    "        # print(f\"Number of fake samples generated: {len(augmented_df)-len(real_df)}\")\n",
    "    import matplotlib.pyplot as plt\n",
    "\n",
    "    # Create the plot\n",
    "    plt.plot(epoch_list, recall_list, marker='o', linestyle='-', color='b', label='Recall Score (Minor Class)')\n",
    "    # plt.plot(batch_size_list, major_class_data_recall_score_list, marker='o', linestyle='-', color='r', label='Recall Score (Major Class)')\n",
    "    # Adding title and labels\n",
    "    plt.title('Recall Score vs epochs on Autoencoder \\n at 100% Augmentation Ratio (AutoDiffandForest)')\n",
    "    plt.xlabel('Epochs')\n",
    "    plt.ylabel('Recall Score (Augmented Data)')\n",
    "    plt.legend(loc=\"upper left\")\n",
    "\n",
    "    # Show the grid\n",
    "    plt.grid()\n",
    "\n",
    "    # Display the plot\n",
    "    \n",
    "    diagram_name=f'Recall Score vs epochs on Autoencoder for {dataset} dataset(AutoDiffandForest).png'\n",
    "    plt.savefig(diagram_name)\n",
    "    plt.show()\n",
    "    \n",
    "    \n",
    "import pandas as pd\n",
    "metrics_df = pd.DataFrame(metrics_list)\n",
    "\n",
    "# Save the DataFrame to a CSV file\n",
    "metrics_df.to_csv(\"Auto_Diff_Forest_Different No. of Epochs at 100 percent augmentaion ratio.csv\", index=False)\n",
    "\n",
    "# Print the DataFrame\n",
    "print(metrics_df)"
   ]
  },
  {
   "cell_type": "code",
   "execution_count": 7,
   "metadata": {},
   "outputs": [
    {
     "name": "stdout",
     "output_type": "stream",
     "text": [
      "Recall Score for AutoDiff Autoencoder & ForestDIffusion for creditcard_sampled dataset\n"
     ]
    },
    {
     "data": {
      "application/vnd.jupyter.widget-view+json": {
       "model_id": "530b90a9d2ff4d07aa599f3860770c37",
       "version_major": 2,
       "version_minor": 0
      },
      "text/plain": [
       "  0%|          | 0/100 [00:00<?, ?it/s]"
      ]
     },
     "metadata": {},
     "output_type": "display_data"
    },
    {
     "name": "stdout",
     "output_type": "stream",
     "text": [
      "Class distribution before augmentation: {0: 4000, 1: 50}\n",
      "Class distribution after augmentation: {0.0: 4000, 1.0: 100}\n",
      "Recall Score for AutoDiff Autoencoder & ForestDIffusion for creditcard_sampled dataset\n"
     ]
    },
    {
     "data": {
      "application/vnd.jupyter.widget-view+json": {
       "model_id": "85de75a5f01f4807a3d2297520414c6e",
       "version_major": 2,
       "version_minor": 0
      },
      "text/plain": [
       "  0%|          | 0/400 [00:00<?, ?it/s]"
      ]
     },
     "metadata": {},
     "output_type": "display_data"
    },
    {
     "name": "stdout",
     "output_type": "stream",
     "text": [
      "Class distribution before augmentation: {0: 4000, 1: 50}\n",
      "Class distribution after augmentation: {0.0: 4000, 1.0: 100}\n",
      "Recall Score for AutoDiff Autoencoder & ForestDIffusion for creditcard_sampled dataset\n"
     ]
    },
    {
     "data": {
      "application/vnd.jupyter.widget-view+json": {
       "model_id": "d2df8feff8064ed6a0df2b583818c2f3",
       "version_major": 2,
       "version_minor": 0
      },
      "text/plain": [
       "  0%|          | 0/700 [00:00<?, ?it/s]"
      ]
     },
     "metadata": {},
     "output_type": "display_data"
    },
    {
     "name": "stdout",
     "output_type": "stream",
     "text": [
      "Class distribution before augmentation: {0: 4000, 1: 50}\n",
      "Class distribution after augmentation: {0.0: 4000, 1.0: 100}\n",
      "Recall Score for AutoDiff Autoencoder & ForestDIffusion for creditcard_sampled dataset\n"
     ]
    },
    {
     "data": {
      "application/vnd.jupyter.widget-view+json": {
       "model_id": "6af66d3e15fb4432bafaccff78886ac6",
       "version_major": 2,
       "version_minor": 0
      },
      "text/plain": [
       "  0%|          | 0/1000 [00:00<?, ?it/s]"
      ]
     },
     "metadata": {},
     "output_type": "display_data"
    },
    {
     "name": "stdout",
     "output_type": "stream",
     "text": [
      "Class distribution before augmentation: {0: 4000, 1: 50}\n",
      "Class distribution after augmentation: {0.0: 4000, 1.0: 100}\n",
      "Recall Score for AutoDiff Autoencoder & ForestDIffusion for creditcard_sampled dataset\n"
     ]
    },
    {
     "data": {
      "application/vnd.jupyter.widget-view+json": {
       "model_id": "612746f0657b415299c20c36228307aa",
       "version_major": 2,
       "version_minor": 0
      },
      "text/plain": [
       "  0%|          | 0/1500 [00:00<?, ?it/s]"
      ]
     },
     "metadata": {},
     "output_type": "display_data"
    },
    {
     "name": "stdout",
     "output_type": "stream",
     "text": [
      "Class distribution before augmentation: {0: 4000, 1: 50}\n",
      "Class distribution after augmentation: {0.0: 4000, 1.0: 100}\n",
      "Recall Score for AutoDiff Autoencoder & ForestDIffusion for creditcard_sampled dataset\n"
     ]
    },
    {
     "data": {
      "application/vnd.jupyter.widget-view+json": {
       "model_id": "d96babce65524bad8365ff9e48ca1ab8",
       "version_major": 2,
       "version_minor": 0
      },
      "text/plain": [
       "  0%|          | 0/2000 [00:00<?, ?it/s]"
      ]
     },
     "metadata": {},
     "output_type": "display_data"
    },
    {
     "name": "stdout",
     "output_type": "stream",
     "text": [
      "Class distribution before augmentation: {0: 4000, 1: 50}\n",
      "Class distribution after augmentation: {0.0: 4000, 1.0: 100}\n",
      "Recall Score for AutoDiff Autoencoder & ForestDIffusion for creditcard_sampled dataset\n"
     ]
    },
    {
     "data": {
      "application/vnd.jupyter.widget-view+json": {
       "model_id": "b802560198bc40208ebedebeed61324f",
       "version_major": 2,
       "version_minor": 0
      },
      "text/plain": [
       "  0%|          | 0/2500 [00:00<?, ?it/s]"
      ]
     },
     "metadata": {},
     "output_type": "display_data"
    },
    {
     "name": "stdout",
     "output_type": "stream",
     "text": [
      "Class distribution before augmentation: {0: 4000, 1: 50}\n",
      "Class distribution after augmentation: {0.0: 4000, 1.0: 100}\n",
      "Recall Score for AutoDiff Autoencoder & ForestDIffusion for creditcard_sampled dataset\n"
     ]
    },
    {
     "data": {
      "application/vnd.jupyter.widget-view+json": {
       "model_id": "530ef8b7d2a4415ba6c7ab32f3b09a69",
       "version_major": 2,
       "version_minor": 0
      },
      "text/plain": [
       "  0%|          | 0/3000 [00:00<?, ?it/s]"
      ]
     },
     "metadata": {},
     "output_type": "display_data"
    },
    {
     "name": "stdout",
     "output_type": "stream",
     "text": [
      "Class distribution before augmentation: {0: 4000, 1: 50}\n",
      "Class distribution after augmentation: {0.0: 4000, 1.0: 100}\n",
      "Recall Score for AutoDiff Autoencoder & ForestDIffusion for creditcard_sampled dataset\n"
     ]
    },
    {
     "data": {
      "application/vnd.jupyter.widget-view+json": {
       "model_id": "8b7e0907cdca40ed8836a9fce2571ab3",
       "version_major": 2,
       "version_minor": 0
      },
      "text/plain": [
       "  0%|          | 0/3500 [00:00<?, ?it/s]"
      ]
     },
     "metadata": {},
     "output_type": "display_data"
    },
    {
     "name": "stdout",
     "output_type": "stream",
     "text": [
      "Class distribution before augmentation: {0: 4000, 1: 50}\n",
      "Class distribution after augmentation: {0.0: 4000, 1.0: 100}\n",
      "Recall Score for AutoDiff Autoencoder & ForestDIffusion for creditcard_sampled dataset\n"
     ]
    },
    {
     "data": {
      "application/vnd.jupyter.widget-view+json": {
       "model_id": "5cdcdabfb57c42eab5d032c90484c4d4",
       "version_major": 2,
       "version_minor": 0
      },
      "text/plain": [
       "  0%|          | 0/5000 [00:00<?, ?it/s]"
      ]
     },
     "metadata": {},
     "output_type": "display_data"
    },
    {
     "name": "stdout",
     "output_type": "stream",
     "text": [
      "Class distribution before augmentation: {0: 4000, 1: 50}\n",
      "Class distribution after augmentation: {0.0: 4000, 1.0: 100}\n",
      "Recall Score for AutoDiff Autoencoder & ForestDIffusion for creditcard_sampled dataset\n"
     ]
    },
    {
     "data": {
      "application/vnd.jupyter.widget-view+json": {
       "model_id": "d1e89d4ed9d64313b88b078053ecb488",
       "version_major": 2,
       "version_minor": 0
      },
      "text/plain": [
       "  0%|          | 0/10000 [00:00<?, ?it/s]"
      ]
     },
     "metadata": {},
     "output_type": "display_data"
    },
    {
     "name": "stdout",
     "output_type": "stream",
     "text": [
      "Class distribution before augmentation: {0: 4000, 1: 50}\n",
      "Class distribution after augmentation: {0.0: 4000, 1.0: 100}\n"
     ]
    },
    {
     "data": {
      "image/png": "[encoded data removed]",
      "text/plain": [
       "<Figure size 640x480 with 1 Axes>"
      ]
     },
     "metadata": {},
     "output_type": "display_data"
    },
    {
     "name": "stdout",
     "output_type": "stream",
     "text": [
      "               Dataset Epochs on Auto Encoder  Recall_Original  \\\n",
      "0   creditcard_sampled                    100         0.764706   \n",
      "1   creditcard_sampled                    400         0.764706   \n",
      "2   creditcard_sampled                    700         0.764706   \n",
      "3   creditcard_sampled                   1000         0.764706   \n",
      "4   creditcard_sampled                   1500         0.764706   \n",
      "5   creditcard_sampled                   2000         0.764706   \n",
      "6   creditcard_sampled                   2500         0.764706   \n",
      "7   creditcard_sampled                   3000         0.764706   \n",
      "8   creditcard_sampled                   3500         0.764706   \n",
      "9   creditcard_sampled                   5000         0.764706   \n",
      "10  creditcard_sampled                  10000         0.764706   \n",
      "\n",
      "    Recall_Generated  \n",
      "0           0.823529  \n",
      "1           0.882353  \n",
      "2           0.823529  \n",
      "3           0.823529  \n",
      "4           0.823529  \n",
      "5           0.823529  \n",
      "6           0.882353  \n",
      "7           0.882353  \n",
      "8           0.882353  \n",
      "9           0.823529  \n",
      "10          0.882353  \n"
     ]
    }
   ],
   "source": [
    "strings_set = ['creditcard_sampled']\n",
    "\n",
    "Model = 'AutoDiff'\n",
    "metrics_list = []\n",
    "\n",
    "epoch_list = [100, 400, 700, 1000,1500,2000,2500,3000,3500,5000,10000]\n",
    "\n",
    "sample_size_percent = 100\n",
    "for dataset in strings_set:\n",
    "    recall_list = []\n",
    "    for epoch in epoch_list:\n",
    "        \n",
    "        print(f\"Recall Score for AutoDiff Autoencoder & ForestDIffusion for {dataset} dataset\")\n",
    "        file_path = f'..\\\\..\\\\..\\\\Datasets\\\\Original Data\\\\{dataset}.csv'\n",
    "        # Read dataframe\n",
    "        # print(file_path)\n",
    "        real_df = pd.read_csv(file_path)\n",
    "        #real_df = real_df.drop('url', axis=1)\n",
    "        # # Step 2: Inspect the data and check for class imbalance\n",
    "        # # Assuming the last column is the label, and the rest are features\n",
    "        X = real_df.iloc[:, :-1].values  # Features\n",
    "        y = real_df.iloc[:, -1].values  # Labels (binary classification)\n",
    "        #  # Separate the minority class\n",
    "        # Find the minority class\n",
    "        \n",
    "        real_minortiy = real_df[y == 1]\n",
    "\n",
    "        threshold = 0.01 # Threshold for mixed-type variables\n",
    "        parser = pce.DataFrameParser().fit(real_minortiy, threshold)\n",
    "        ################################################################################################################\n",
    "        # Auto-encoder hyper-parameters\n",
    "        device = 'cuda' #@param {'type':'string'}\n",
    "        n_epochs = epoch #@param {'type':'integer'}\n",
    "        eps = 1e-5 #@param {type:\"number\"}\n",
    "        weight_decay = 1e-6 #@param {'type':'number'}\n",
    "        maximum_learning_rate = 1e-2 #@param {'type':'number'}\n",
    "        lr = 2e-4 #@param {'type':'number'}\n",
    "        hidden_size = 250\n",
    "        num_layers = 3\n",
    "        batch_size = real_minortiy.shape[0] # Full batch\n",
    "\n",
    "        ds = ae.train_autoencoder(real_minortiy, hidden_size, num_layers, lr, weight_decay, n_epochs, batch_size, threshold)\n",
    "        latent_features = ds[1].detach()\n",
    "\n",
    "        from ForestDiffusion import ForestDiffusionModel\n",
    "\n",
    "\n",
    "        # Convert to NumPy array\n",
    "        array = latent_features.detach().cpu().numpy()\n",
    "        forest_model = ForestDiffusionModel(array, label_y=None, n_t=50, duplicate_K=100, bin_indexes=[], cat_indexes=[], int_indexes=[], diffusion_type='flow', n_jobs=-1)\n",
    "        minority_fake = forest_model.generate(batch_size=len(real_minortiy)) # Adjust the batch size to create a balanced dataset\n",
    "        sample=torch.tensor(minority_fake, dtype=torch.float32)\n",
    "        sample.shape\n",
    "        gen_output = ds[0](sample, ds[2], ds[3])\n",
    "        gen_df = pce.convert_to_table(real_minortiy, gen_output, threshold)\n",
    "\n",
    "        output_directory =  f'..\\\\..\\\\..\\\\Datasets\\\\Synthetic Data\\\\'\n",
    "        filename = f'{Model}+Forest_{dataset}_Synthetic.csv'\n",
    "        output_file = os.path.join(output_directory, filename)\n",
    "        # gen_df.to_csv(output_file, index=False) \n",
    "\n",
    "\n",
    "        # Select a random sample of the generated data\n",
    "        num_samples_to_generate = len(real_minortiy)*sample_size_percent // 100\n",
    "        selected_samples = gen_df.sample(n=num_samples_to_generate, random_state=42)  # For reproducibility\n",
    "        # Syn _df will be the dataset after augmentation\n",
    "        syn_df = pd.concat([real_df, selected_samples], ignore_index=True)\n",
    "\n",
    "\n",
    "        augmented_output_directory =  f'..\\\\..\\\\..\\\\Datasets\\\\Augmented Data\\\\'\n",
    "        filename = f'{Model}+Forest_{dataset}_Augmented.csv'\n",
    "        augmented_output_file = os.path.join(augmented_output_directory, filename)\n",
    "        # syn_df.to_csv(augmented_output_file, index=False) \n",
    "\n",
    "        import pandas as pd\n",
    "        from sklearn.model_selection import train_test_split\n",
    "        from sklearn.metrics import classification_report, precision_score, recall_score, f1_score\n",
    "        import numpy as np\n",
    "        import matplotlib.pyplot as plt\n",
    "        from ForestDiffusion import ForestDiffusionModel\n",
    "        from sklearn.ensemble import RandomForestClassifier\n",
    "        from sklearn.metrics import recall_score, f1_score\n",
    "\n",
    "        # real_df = pd.read_csv(filename)\n",
    "        # syn_filename = f'{string}/{Model}_{string}_Augmented.csv'\n",
    "\n",
    "        # augmented_df = pd.read_csv(syn_filename)\n",
    "        augmented_df=syn_df\n",
    "\n",
    "        X = real_df.iloc[:, :-1].values  # Features\n",
    "        y = real_df.iloc[:, -1].values \n",
    "        # Check and print the original class distribution\n",
    "        unique, counts = np.unique(y, return_counts=True)\n",
    "        class_dist_before = dict(zip(unique, counts))\n",
    "        print(f\"Class distribution before augmentation: {class_dist_before}\")# Labels (binary classification)\n",
    "\n",
    "        X_balanced = augmented_df.iloc[:, :-1].values  # Features\n",
    "        y_balanced = augmented_df.iloc[:, -1].values  # Labels (binary classification)\n",
    "\n",
    "        # Check and print the Augmented class distribution\n",
    "        unique, counts = np.unique(y_balanced, return_counts=True)\n",
    "        class_dist_after = dict(zip(unique, counts))\n",
    "        print(f\"Class distribution after augmentation: {class_dist_after}\")\n",
    "\n",
    "        # Step 6: Split the dataset into training and test sets (original and balanced)\n",
    "        X_train_orig, X_test_orig, y_train_orig, y_test_orig = train_test_split(X, y, test_size=0.3, random_state=42)\n",
    "        X_train_bal, X_test_bal, y_train_bal, y_test_bal = train_test_split(X_balanced, y_balanced, test_size=0.3, random_state=42)\n",
    "\n",
    "        # Step 7: Train a simple classifier on both original and generated datasets\n",
    "        clf_orig = RandomForestClassifier(random_state=42)\n",
    "        clf_orig.fit(X_train_orig, y_train_orig)\n",
    "\n",
    "        clf_bal = RandomForestClassifier(random_state=42)\n",
    "        clf_bal.fit(X_train_bal, y_train_bal)\n",
    "\n",
    "        # Step 8: Predict and calculate recall and F1 scores\n",
    "        y_pred_orig = clf_orig.predict(X_test_orig)\n",
    "        y_pred_bal = clf_bal.predict(X_test_orig)\n",
    "\n",
    "        prec_orig = precision_score(y_test_orig, y_pred_orig)\n",
    "        prec_bal = precision_score(y_test_orig, y_pred_bal)\n",
    "        \n",
    "        recall_orig = recall_score(y_test_orig, y_pred_orig)\n",
    "        recalls_bal = recall_score(y_test_orig, y_pred_bal)\n",
    "\n",
    "        # f1_orig = f1_score(y_test_orig, y_pred_orig)\n",
    "        # f1_bal = f1_score(y_test_orig, y_pred_bal)\n",
    "\n",
    "        # Step 9: Print and store the performance metrics\n",
    "        # Store metrics in a dictionary\n",
    "        metrics = {\n",
    "        \"Dataset\": dataset,\n",
    "        \"Epochs on Auto Encoder\":f'{epoch}',\n",
    "        \"Recall_Original\": recall_orig,\n",
    "        \"Recall_Generated\": recalls_bal,\n",
    "        \n",
    "        }\n",
    "\n",
    "        # Append the dictionary to the list\n",
    "        metrics_list.append(metrics)\n",
    "        recall_list.append(recalls_bal)\n",
    "\n",
    "        # print(f\"Precision score (original data): {prec_orig:.4f}\")\n",
    "        # print(f\"Precision score (generated data): {prec_bal:.4f}\")\n",
    "        # print(f\"Recall score (original data): {recall_orig:.4f}\")\n",
    "        # print(f\"Recall score (generated data): {recalls_bal:.4f}\")\n",
    "        # print(f\"F1 score (original data): {f1_orig:.4f}\")\n",
    "        # print(f\"F1 score (generated data): {f1_bal:.4f}\")\n",
    "        # print(\"Classification Report (original data):\\n\", classification_report(y_test_orig, y_pred_orig))\n",
    "        # print(\"Classification Report (generated data):\\n\", classification_report(y_test_orig, y_pred_bal))\n",
    "\n",
    "\n",
    "        # print(f\"Number of fake samples generated: {len(augmented_df)-len(real_df)}\")\n",
    "    import matplotlib.pyplot as plt\n",
    "\n",
    "    # Create the plot\n",
    "    plt.plot(epoch_list, recall_list, marker='o', linestyle='-', color='b', label='Recall Score (Minor Class)')\n",
    "    # plt.plot(batch_size_list, major_class_data_recall_score_list, marker='o', linestyle='-', color='r', label='Recall Score (Major Class)')\n",
    "    # Adding title and labels\n",
    "    plt.title('Recall Score vs epochs on Autoencoder \\n at 100% Augmentation Ratio (AutoDiffandForest)')\n",
    "    plt.xlabel('Epochs')\n",
    "    plt.ylabel('Recall Score (Augmented Data)')\n",
    "    plt.legend(loc=\"upper left\")\n",
    "\n",
    "    # Show the grid\n",
    "    plt.grid()\n",
    "\n",
    "    # Display the plot\n",
    "    \n",
    "    diagram_name=f'Recall Score vs epochs on Autoencoder for {dataset} dataset(AutoDiffandForest).png'\n",
    "    plt.savefig(diagram_name)\n",
    "    plt.show()\n",
    "    \n",
    "    \n",
    "import pandas as pd\n",
    "metrics_df = pd.DataFrame(metrics_list)\n",
    "\n",
    "# Save the DataFrame to a CSV file\n",
    "metrics_df.to_csv(\"Auto_Diff_Forest_Different No. of Epochs at 100 percent augmentaion ratio.csv\", index=False)\n",
    "\n",
    "# Print the DataFrame\n",
    "print(metrics_df)"
   ]
  },
  {
   "cell_type": "code",
   "execution_count": null,
   "metadata": {},
   "outputs": [
    {
     "name": "stdout",
     "output_type": "stream",
     "text": [
      "Recall Score for AutoDiff Autoencoder & ForestDIffusion for spambase dataset\n"
     ]
    },
    {
     "data": {
      "application/vnd.jupyter.widget-view+json": {
       "model_id": "65b1eac5eed745e281315284a6f09eae",
       "version_major": 2,
       "version_minor": 0
      },
      "text/plain": [
       "  0%|          | 0/100 [00:00<?, ?it/s]"
      ]
     },
     "metadata": {},
     "output_type": "display_data"
    }
   ],
   "source": [
    "strings_set = ['spambase']\n",
    "\n",
    "Model = 'AutoDiff'\n",
    "metrics_list = []\n",
    "\n",
    "epoch_list = [100, 400, 700, 1000,1500,2000,2500,3000,3500,5000,10000]\n",
    "\n",
    "sample_size_percent = 100\n",
    "for dataset in strings_set:\n",
    "    recall_list = []\n",
    "    for epoch in epoch_list:\n",
    "        \n",
    "        print(f\"Recall Score for AutoDiff Autoencoder & ForestDIffusion for {dataset} dataset\")\n",
    "        file_path = f'..\\\\..\\\\..\\\\Datasets\\\\Original Data\\\\{dataset}.csv'\n",
    "        # Read dataframe\n",
    "        # print(file_path)\n",
    "        real_df = pd.read_csv(file_path)\n",
    "        #real_df = real_df.drop('url', axis=1)\n",
    "        # # Step 2: Inspect the data and check for class imbalance\n",
    "        # # Assuming the last column is the label, and the rest are features\n",
    "        X = real_df.iloc[:, :-1].values  # Features\n",
    "        y = real_df.iloc[:, -1].values  # Labels (binary classification)\n",
    "        #  # Separate the minority class\n",
    "        # Find the minority class\n",
    "        \n",
    "        real_minortiy = real_df[y == 1]\n",
    "\n",
    "        threshold = 0.01 # Threshold for mixed-type variables\n",
    "        parser = pce.DataFrameParser().fit(real_minortiy, threshold)\n",
    "        ################################################################################################################\n",
    "        # Auto-encoder hyper-parameters\n",
    "        device = 'cuda' #@param {'type':'string'}\n",
    "        n_epochs = epoch #@param {'type':'integer'}\n",
    "        eps = 1e-5 #@param {type:\"number\"}\n",
    "        weight_decay = 1e-6 #@param {'type':'number'}\n",
    "        maximum_learning_rate = 1e-2 #@param {'type':'number'}\n",
    "        lr = 2e-4 #@param {'type':'number'}\n",
    "        hidden_size = 250\n",
    "        num_layers = 3\n",
    "        batch_size = real_minortiy.shape[0] # Full batch\n",
    "\n",
    "        ds = ae.train_autoencoder(real_minortiy, hidden_size, num_layers, lr, weight_decay, n_epochs, batch_size, threshold)\n",
    "        latent_features = ds[1].detach()\n",
    "\n",
    "        from ForestDiffusion import ForestDiffusionModel\n",
    "\n",
    "\n",
    "        # Convert to NumPy array\n",
    "        array = latent_features.detach().cpu().numpy()\n",
    "        forest_model = ForestDiffusionModel(array, label_y=None, n_t=50, duplicate_K=100, bin_indexes=[], cat_indexes=[], int_indexes=[], diffusion_type='flow', n_jobs=-1)\n",
    "        minority_fake = forest_model.generate(batch_size=len(real_minortiy)) # Adjust the batch size to create a balanced dataset\n",
    "        sample=torch.tensor(minority_fake, dtype=torch.float32)\n",
    "        sample.shape\n",
    "        gen_output = ds[0](sample, ds[2], ds[3])\n",
    "        gen_df = pce.convert_to_table(real_minortiy, gen_output, threshold)\n",
    "\n",
    "        output_directory =  f'..\\\\..\\\\..\\\\Datasets\\\\Synthetic Data\\\\'\n",
    "        filename = f'{Model}+Forest_{dataset}_Synthetic.csv'\n",
    "        output_file = os.path.join(output_directory, filename)\n",
    "        # gen_df.to_csv(output_file, index=False) \n",
    "\n",
    "\n",
    "        # Select a random sample of the generated data\n",
    "        num_samples_to_generate = len(real_minortiy)*sample_size_percent // 100\n",
    "        selected_samples = gen_df.sample(n=num_samples_to_generate, random_state=42)  # For reproducibility\n",
    "        # Syn _df will be the dataset after augmentation\n",
    "        syn_df = pd.concat([real_df, selected_samples], ignore_index=True)\n",
    "\n",
    "\n",
    "        augmented_output_directory =  f'..\\\\..\\\\..\\\\Datasets\\\\Augmented Data\\\\'\n",
    "        filename = f'{Model}+Forest_{dataset}_Augmented.csv'\n",
    "        augmented_output_file = os.path.join(augmented_output_directory, filename)\n",
    "        # syn_df.to_csv(augmented_output_file, index=False) \n",
    "\n",
    "        import pandas as pd\n",
    "        from sklearn.model_selection import train_test_split\n",
    "        from sklearn.metrics import classification_report, precision_score, recall_score, f1_score\n",
    "        import numpy as np\n",
    "        import matplotlib.pyplot as plt\n",
    "        from ForestDiffusion import ForestDiffusionModel\n",
    "        from sklearn.ensemble import RandomForestClassifier\n",
    "        from sklearn.metrics import recall_score, f1_score\n",
    "\n",
    "        # real_df = pd.read_csv(filename)\n",
    "        # syn_filename = f'{string}/{Model}_{string}_Augmented.csv'\n",
    "\n",
    "        # augmented_df = pd.read_csv(syn_filename)\n",
    "        augmented_df=syn_df\n",
    "\n",
    "        X = real_df.iloc[:, :-1].values  # Features\n",
    "        y = real_df.iloc[:, -1].values \n",
    "        # Check and print the original class distribution\n",
    "        unique, counts = np.unique(y, return_counts=True)\n",
    "        class_dist_before = dict(zip(unique, counts))\n",
    "        print(f\"Class distribution before augmentation: {class_dist_before}\")# Labels (binary classification)\n",
    "\n",
    "        X_balanced = augmented_df.iloc[:, :-1].values  # Features\n",
    "        y_balanced = augmented_df.iloc[:, -1].values  # Labels (binary classification)\n",
    "\n",
    "        # Check and print the Augmented class distribution\n",
    "        unique, counts = np.unique(y_balanced, return_counts=True)\n",
    "        class_dist_after = dict(zip(unique, counts))\n",
    "        print(f\"Class distribution after augmentation: {class_dist_after}\")\n",
    "\n",
    "        # Step 6: Split the dataset into training and test sets (original and balanced)\n",
    "        X_train_orig, X_test_orig, y_train_orig, y_test_orig = train_test_split(X, y, test_size=0.3, random_state=42)\n",
    "        X_train_bal, X_test_bal, y_train_bal, y_test_bal = train_test_split(X_balanced, y_balanced, test_size=0.3, random_state=42)\n",
    "\n",
    "        # Step 7: Train a simple classifier on both original and generated datasets\n",
    "        clf_orig = RandomForestClassifier(random_state=42)\n",
    "        clf_orig.fit(X_train_orig, y_train_orig)\n",
    "\n",
    "        clf_bal = RandomForestClassifier(random_state=42)\n",
    "        clf_bal.fit(X_train_bal, y_train_bal)\n",
    "\n",
    "        # Step 8: Predict and calculate recall and F1 scores\n",
    "        y_pred_orig = clf_orig.predict(X_test_orig)\n",
    "        y_pred_bal = clf_bal.predict(X_test_orig)\n",
    "\n",
    "        prec_orig = precision_score(y_test_orig, y_pred_orig)\n",
    "        prec_bal = precision_score(y_test_orig, y_pred_bal)\n",
    "        \n",
    "        recall_orig = recall_score(y_test_orig, y_pred_orig)\n",
    "        recalls_bal = recall_score(y_test_orig, y_pred_bal)\n",
    "\n",
    "        # f1_orig = f1_score(y_test_orig, y_pred_orig)\n",
    "        # f1_bal = f1_score(y_test_orig, y_pred_bal)\n",
    "\n",
    "        # Step 9: Print and store the performance metrics\n",
    "        # Store metrics in a dictionary\n",
    "        metrics = {\n",
    "        \"Dataset\": dataset,\n",
    "        \"Epochs on Auto Encoder\":f'{epoch}',\n",
    "        \"Recall_Original\": recall_orig,\n",
    "        \"Recall_Generated\": recalls_bal,\n",
    "        \n",
    "        }\n",
    "\n",
    "        # Append the dictionary to the list\n",
    "        metrics_list.append(metrics)\n",
    "        recall_list.append(recalls_bal)\n",
    "\n",
    "        # print(f\"Precision score (original data): {prec_orig:.4f}\")\n",
    "        # print(f\"Precision score (generated data): {prec_bal:.4f}\")\n",
    "        # print(f\"Recall score (original data): {recall_orig:.4f}\")\n",
    "        # print(f\"Recall score (generated data): {recalls_bal:.4f}\")\n",
    "        # print(f\"F1 score (original data): {f1_orig:.4f}\")\n",
    "        # print(f\"F1 score (generated data): {f1_bal:.4f}\")\n",
    "        # print(\"Classification Report (original data):\\n\", classification_report(y_test_orig, y_pred_orig))\n",
    "        # print(\"Classification Report (generated data):\\n\", classification_report(y_test_orig, y_pred_bal))\n",
    "\n",
    "\n",
    "        # print(f\"Number of fake samples generated: {len(augmented_df)-len(real_df)}\")\n",
    "    import matplotlib.pyplot as plt\n",
    "\n",
    "    # Create the plot\n",
    "    plt.plot(epoch_list, recall_list, marker='o', linestyle='-', color='b', label='Recall Score (Minor Class)')\n",
    "    # plt.plot(batch_size_list, major_class_data_recall_score_list, marker='o', linestyle='-', color='r', label='Recall Score (Major Class)')\n",
    "    # Adding title and labels\n",
    "    plt.title('Recall Score vs epochs on Autoencoder \\n at 100% Augmentation Ratio (AutoDiffandForest)')\n",
    "    plt.xlabel('Epochs')\n",
    "    plt.ylabel('Recall Score (Augmented Data)')\n",
    "    plt.legend(loc=\"upper left\")\n",
    "\n",
    "    # Show the grid\n",
    "    plt.grid()\n",
    "\n",
    "    # Display the plot\n",
    "    \n",
    "    diagram_name=f'Recall Score vs epochs on Autoencoder for {dataset} dataset(AutoDiffandForest).png'\n",
    "    plt.savefig(diagram_name)\n",
    "    plt.show()\n",
    "    \n",
    "    \n",
    "import pandas as pd\n",
    "metrics_df = pd.DataFrame(metrics_list)\n",
    "\n",
    "# Save the DataFrame to a CSV file\n",
    "metrics_df.to_csv(\"Auto_Diff_Forest_Different No. of Epochs at 100 percent augmentaion ratio.csv\", index=False)\n",
    "\n",
    "# Print the DataFrame\n",
    "print(metrics_df)"
   ]
  },
  {
   "cell_type": "code",
   "execution_count": null,
   "metadata": {},
   "outputs": [
    {
     "data": {
      "image/png": "[encoded data removed]",
      "text/plain": [
       "<Figure size 640x480 with 1 Axes>"
      ]
     },
     "metadata": {},
     "output_type": "display_data"
    }
   ],
   "source": [
    "import matplotlib.pyplot as plt\n",
    "epoch_list_list = [100, 400, 700, 1000,1500,2000,2500]\n",
    "recall_list = [2, 3, 4, 5, 6, 7, 8]\n",
    "# Create the plot\n",
    "plt.plot(epoch_list_list, recall_list, marker='o', linestyle='-', color='b', label='Recall Score (Minor Class)')\n",
    "# plt.plot(batch_size_list, major_class_data_recall_score_list, marker='o', linestyle='-', color='r', label='Recall Score (Major Class)')\n",
    "# Adding title and labels\n",
    "plt.title('Recall Score vs epochs on Autoencoder \\n at 100% Augmentation Ratio (AutoDiffandForest)')\n",
    "plt.xlabel('Epochs')\n",
    "plt.ylabel('Recall Score (Augmented Data)')\n",
    "plt.legend(loc=\"upper left\")\n",
    "\n",
    "# Show the grid\n",
    "plt.grid()\n",
    "\n",
    "# Display the plot\n",
    "\n",
    "diagram_name=f'Recall Score vs epochs on Autoencoder for dataset(AutoDiffandForest).png'\n",
    "# plt.savefig(diagram_name)\n",
    "plt.show()"
   ]
  },
  {
   "cell_type": "code",
   "execution_count": 6,
   "metadata": {},
   "outputs": [
    {
     "name": "stdout",
     "output_type": "stream",
     "text": [
      "     Dataset  Epochs_on_Auto_Encoder  Recall_Original  Recall_Generated\n",
      "0   diabetes                     100           0.6625            0.7875\n",
      "1   diabetes                     400           0.6625            0.8500\n",
      "2   diabetes                     700           0.6625            0.8750\n",
      "3   diabetes                    1000           0.6625            0.8750\n",
      "4   diabetes                    1500           0.6625            0.8750\n",
      "5   diabetes                    2000           0.6625            0.8750\n",
      "6   diabetes                    2500           0.6625            0.8500\n",
      "7   diabetes                    3000           0.6625            0.8750\n",
      "8   diabetes                    3500           0.6625            0.9000\n",
      "9   diabetes                    5000           0.6625            0.8625\n",
      "10  diabetes                   10000           0.6625            0.9000\n",
      "     Dataset  Epochs_on_Auto_Encoder  Recall_Original  Recall_Generated\n",
      "0   diabetes                     100           0.6625            0.7875\n",
      "1   diabetes                     400           0.6625            0.8500\n",
      "2   diabetes                     700           0.6625            0.8750\n",
      "3   diabetes                    1000           0.6625            0.8750\n",
      "4   diabetes                    1500           0.6625            0.8750\n",
      "5   diabetes                    2000           0.6625            0.8750\n",
      "6   diabetes                    2500           0.6625            0.8500\n",
      "7   diabetes                    3000           0.6625            0.8750\n",
      "8   diabetes                    3500           0.6625            0.9000\n",
      "9   diabetes                    5000           0.6625            0.8625\n",
      "10  diabetes                   10000           0.6625            0.9000\n"
     ]
    }
   ],
   "source": [
    "import pandas as pd\n",
    "from io import StringIO\n",
    "metric_df =pd.DataFrame()\n",
    "# Your space-separated data\n",
    "data = \"\"\"\n",
    "Dataset Epochs_on_Auto_Encoder Recall_Original Recall_Generated\n",
    "diabetes 100 0.6625 0.7875\n",
    "diabetes 400 0.6625 0.8500\n",
    "diabetes 700 0.6625 0.8750\n",
    "diabetes 1000 0.6625 0.8750\n",
    "diabetes 1500 0.6625 0.8750\n",
    "diabetes 2000 0.6625 0.8750\n",
    "diabetes 2500 0.6625 0.8500\n",
    "diabetes 3000 0.6625 0.8750\n",
    "diabetes 3500 0.6625 0.9000\n",
    "diabetes 5000 0.6625 0.8625\n",
    "diabetes 10000 0.6625 0.9000\n",
    "\"\"\"\n",
    "\n",
    "# Read the data into a pandas DataFrame\n",
    "df = pd.read_csv(StringIO(data), delim_whitespace=True)\n",
    "\n",
    "# Save as a CSV file\n",
    "#df.to_csv(\"space_separated_data.csv\", index=False)\n",
    "\n",
    "# Output\n",
    "# print(df)\n",
    "metric_df=pd.concat([metric_df,df])\n",
    "print(metric_df)\n"
   ]
  }
 ],
 "metadata": {
  "kernelspec": {
   "display_name": "env",
   "language": "python",
   "name": "python3"
  },
  "language_info": {
   "codemirror_mode": {
    "name": "ipython",
    "version": 3
   },
   "file_extension": ".py",
   "mimetype": "text/x-python",
   "name": "python",
   "nbconvert_exporter": "python",
   "pygments_lexer": "ipython3",
   "version": "3.11.9"
  }
 },
 "nbformat": 4,
 "nbformat_minor": 2
}
