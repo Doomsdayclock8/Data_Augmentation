{
 "cells": [
  {
   "cell_type": "markdown",
   "metadata": {},
   "source": [
    "## observing how increasing epochs on autoencoder change the precision , recall ,F1 score"
   ]
  },
  {
   "cell_type": "markdown",
   "metadata": {},
   "source": [
    "### using Diabetes dataset"
   ]
  },
  {
   "cell_type": "code",
   "execution_count": null,
   "metadata": {},
   "outputs": [
    {
     "name": "stdout",
     "output_type": "stream",
     "text": [
      "C:\\Users\\Tawfique\\Thesis\\Data_Augmentation\\Datasets\\diabetes.csv\n"
     ]
    },
    {
     "data": {
      "application/vnd.jupyter.widget-view+json": {
       "model_id": "9f591dd0dacc4c5d991871c86fb6119f",
       "version_major": 2,
       "version_minor": 0
      },
      "text/plain": [
       "  0%|          | 0/1000 [00:00<?, ?it/s]"
      ]
     },
     "metadata": {},
     "output_type": "display_data"
    },
    {
     "name": "stdout",
     "output_type": "stream",
     "text": [
      "Class distribution before augmentation: {0: 500, 1: 268}\n",
      "Class distribution before augmentation: {0: 500, 1: 268}\n",
      "Recall score (original data): 0.6625\n",
      "Recall score (generated data): 0.8375\n",
      "F1 score (original data): 0.6503\n",
      "F1 score (generated data): 0.7791\n",
      "Classification Report (original data):\n",
      "               precision    recall  f1-score   support\n",
      "\n",
      "           0       0.82      0.80      0.81       151\n",
      "           1       0.64      0.66      0.65        80\n",
      "\n",
      "    accuracy                           0.75       231\n",
      "   macro avg       0.73      0.73      0.73       231\n",
      "weighted avg       0.76      0.75      0.75       231\n",
      "\n",
      "Classification Report (generated data):\n",
      "               precision    recall  f1-score   support\n",
      "\n",
      "           0       0.91      0.83      0.87       151\n",
      "           1       0.73      0.84      0.78        80\n",
      "\n",
      "    accuracy                           0.84       231\n",
      "   macro avg       0.82      0.84      0.82       231\n",
      "weighted avg       0.84      0.84      0.84       231\n",
      "\n",
      "Number of fake samples generated: 100\n",
      "C:\\Users\\Tawfique\\Thesis\\Data_Augmentation\\Datasets\\diabetes.csv\n"
     ]
    },
    {
     "data": {
      "application/vnd.jupyter.widget-view+json": {
       "model_id": "865cf7a7f11a423ca09b4311ddc467a5",
       "version_major": 2,
       "version_minor": 0
      },
      "text/plain": [
       "  0%|          | 0/1200 [00:00<?, ?it/s]"
      ]
     },
     "metadata": {},
     "output_type": "display_data"
    },
    {
     "name": "stdout",
     "output_type": "stream",
     "text": [
      "Class distribution before augmentation: {0: 500, 1: 268}\n",
      "Class distribution before augmentation: {0: 500, 1: 268}\n",
      "Recall score (original data): 0.6625\n",
      "Recall score (generated data): 0.8250\n",
      "F1 score (original data): 0.6503\n",
      "F1 score (generated data): 0.7630\n",
      "Classification Report (original data):\n",
      "               precision    recall  f1-score   support\n",
      "\n",
      "           0       0.82      0.80      0.81       151\n",
      "           1       0.64      0.66      0.65        80\n",
      "\n",
      "    accuracy                           0.75       231\n",
      "   macro avg       0.73      0.73      0.73       231\n",
      "weighted avg       0.76      0.75      0.75       231\n",
      "\n",
      "Classification Report (generated data):\n",
      "               precision    recall  f1-score   support\n",
      "\n",
      "           0       0.90      0.82      0.86       151\n",
      "           1       0.71      0.82      0.76        80\n",
      "\n",
      "    accuracy                           0.82       231\n",
      "   macro avg       0.80      0.82      0.81       231\n",
      "weighted avg       0.83      0.82      0.83       231\n",
      "\n",
      "Number of fake samples generated: 100\n",
      "C:\\Users\\Tawfique\\Thesis\\Data_Augmentation\\Datasets\\diabetes.csv\n"
     ]
    },
    {
     "data": {
      "application/vnd.jupyter.widget-view+json": {
       "model_id": "059e48656f5d4d6b9dcc7559f5e81afc",
       "version_major": 2,
       "version_minor": 0
      },
      "text/plain": [
       "  0%|          | 0/1400 [00:00<?, ?it/s]"
      ]
     },
     "metadata": {},
     "output_type": "display_data"
    },
    {
     "name": "stdout",
     "output_type": "stream",
     "text": [
      "Class distribution before augmentation: {0: 500, 1: 268}\n",
      "Class distribution before augmentation: {0: 500, 1: 268}\n",
      "Recall score (original data): 0.6625\n",
      "Recall score (generated data): 0.8500\n",
      "F1 score (original data): 0.6503\n",
      "F1 score (generated data): 0.8047\n",
      "Classification Report (original data):\n",
      "               precision    recall  f1-score   support\n",
      "\n",
      "           0       0.82      0.80      0.81       151\n",
      "           1       0.64      0.66      0.65        80\n",
      "\n",
      "    accuracy                           0.75       231\n",
      "   macro avg       0.73      0.73      0.73       231\n",
      "weighted avg       0.76      0.75      0.75       231\n",
      "\n",
      "Classification Report (generated data):\n",
      "               precision    recall  f1-score   support\n",
      "\n",
      "           0       0.92      0.86      0.89       151\n",
      "           1       0.76      0.85      0.80        80\n",
      "\n",
      "    accuracy                           0.86       231\n",
      "   macro avg       0.84      0.86      0.85       231\n",
      "weighted avg       0.86      0.86      0.86       231\n",
      "\n",
      "Number of fake samples generated: 100\n",
      "C:\\Users\\Tawfique\\Thesis\\Data_Augmentation\\Datasets\\diabetes.csv\n"
     ]
    },
    {
     "data": {
      "application/vnd.jupyter.widget-view+json": {
       "model_id": "66c8b0e7df5b47dea76a4ff4b7df084b",
       "version_major": 2,
       "version_minor": 0
      },
      "text/plain": [
       "  0%|          | 0/1600 [00:00<?, ?it/s]"
      ]
     },
     "metadata": {},
     "output_type": "display_data"
    },
    {
     "name": "stdout",
     "output_type": "stream",
     "text": [
      "Class distribution before augmentation: {0: 500, 1: 268}\n",
      "Class distribution before augmentation: {0: 500, 1: 268}\n",
      "Recall score (original data): 0.6625\n",
      "Recall score (generated data): 0.8375\n",
      "F1 score (original data): 0.6503\n",
      "F1 score (generated data): 0.7836\n",
      "Classification Report (original data):\n",
      "               precision    recall  f1-score   support\n",
      "\n",
      "           0       0.82      0.80      0.81       151\n",
      "           1       0.64      0.66      0.65        80\n",
      "\n",
      "    accuracy                           0.75       231\n",
      "   macro avg       0.73      0.73      0.73       231\n",
      "weighted avg       0.76      0.75      0.75       231\n",
      "\n",
      "Classification Report (generated data):\n",
      "               precision    recall  f1-score   support\n",
      "\n",
      "           0       0.91      0.84      0.87       151\n",
      "           1       0.74      0.84      0.78        80\n",
      "\n",
      "    accuracy                           0.84       231\n",
      "   macro avg       0.82      0.84      0.83       231\n",
      "weighted avg       0.85      0.84      0.84       231\n",
      "\n",
      "Number of fake samples generated: 100\n",
      "C:\\Users\\Tawfique\\Thesis\\Data_Augmentation\\Datasets\\diabetes.csv\n"
     ]
    },
    {
     "data": {
      "application/vnd.jupyter.widget-view+json": {
       "model_id": "1a861643688440339a23388909b0d47b",
       "version_major": 2,
       "version_minor": 0
      },
      "text/plain": [
       "  0%|          | 0/1800 [00:00<?, ?it/s]"
      ]
     },
     "metadata": {},
     "output_type": "display_data"
    },
    {
     "name": "stdout",
     "output_type": "stream",
     "text": [
      "Class distribution before augmentation: {0: 500, 1: 268}\n",
      "Class distribution before augmentation: {0: 500, 1: 268}\n",
      "Recall score (original data): 0.6625\n",
      "Recall score (generated data): 0.8125\n",
      "F1 score (original data): 0.6503\n",
      "F1 score (generated data): 0.7692\n",
      "Classification Report (original data):\n",
      "               precision    recall  f1-score   support\n",
      "\n",
      "           0       0.82      0.80      0.81       151\n",
      "           1       0.64      0.66      0.65        80\n",
      "\n",
      "    accuracy                           0.75       231\n",
      "   macro avg       0.73      0.73      0.73       231\n",
      "weighted avg       0.76      0.75      0.75       231\n",
      "\n",
      "Classification Report (generated data):\n",
      "               precision    recall  f1-score   support\n",
      "\n",
      "           0       0.89      0.84      0.87       151\n",
      "           1       0.73      0.81      0.77        80\n",
      "\n",
      "    accuracy                           0.83       231\n",
      "   macro avg       0.81      0.83      0.82       231\n",
      "weighted avg       0.84      0.83      0.83       231\n",
      "\n",
      "Number of fake samples generated: 100\n",
      "C:\\Users\\Tawfique\\Thesis\\Data_Augmentation\\Datasets\\diabetes.csv\n"
     ]
    },
    {
     "data": {
      "application/vnd.jupyter.widget-view+json": {
       "model_id": "827452701ccb47578a134f205815cf5c",
       "version_major": 2,
       "version_minor": 0
      },
      "text/plain": [
       "  0%|          | 0/2000 [00:00<?, ?it/s]"
      ]
     },
     "metadata": {},
     "output_type": "display_data"
    },
    {
     "name": "stdout",
     "output_type": "stream",
     "text": [
      "Class distribution before augmentation: {0: 500, 1: 268}\n",
      "Class distribution before augmentation: {0: 500, 1: 268}\n",
      "Recall score (original data): 0.6625\n",
      "Recall score (generated data): 0.8500\n",
      "F1 score (original data): 0.6503\n",
      "F1 score (generated data): 0.7953\n",
      "Classification Report (original data):\n",
      "               precision    recall  f1-score   support\n",
      "\n",
      "           0       0.82      0.80      0.81       151\n",
      "           1       0.64      0.66      0.65        80\n",
      "\n",
      "    accuracy                           0.75       231\n",
      "   macro avg       0.73      0.73      0.73       231\n",
      "weighted avg       0.76      0.75      0.75       231\n",
      "\n",
      "Classification Report (generated data):\n",
      "               precision    recall  f1-score   support\n",
      "\n",
      "           0       0.91      0.85      0.88       151\n",
      "           1       0.75      0.85      0.80        80\n",
      "\n",
      "    accuracy                           0.85       231\n",
      "   macro avg       0.83      0.85      0.84       231\n",
      "weighted avg       0.86      0.85      0.85       231\n",
      "\n",
      "Number of fake samples generated: 100\n",
      "C:\\Users\\Tawfique\\Thesis\\Data_Augmentation\\Datasets\\diabetes.csv\n"
     ]
    },
    {
     "data": {
      "application/vnd.jupyter.widget-view+json": {
       "model_id": "efd0da267d62440b944515f7bc5d4ac4",
       "version_major": 2,
       "version_minor": 0
      },
      "text/plain": [
       "  0%|          | 0/2200 [00:00<?, ?it/s]"
      ]
     },
     "metadata": {},
     "output_type": "display_data"
    },
    {
     "name": "stdout",
     "output_type": "stream",
     "text": [
      "Class distribution before augmentation: {0: 500, 1: 268}\n",
      "Class distribution before augmentation: {0: 500, 1: 268}\n",
      "Recall score (original data): 0.6625\n",
      "Recall score (generated data): 0.8500\n",
      "F1 score (original data): 0.6503\n",
      "F1 score (generated data): 0.7861\n",
      "Classification Report (original data):\n",
      "               precision    recall  f1-score   support\n",
      "\n",
      "           0       0.82      0.80      0.81       151\n",
      "           1       0.64      0.66      0.65        80\n",
      "\n",
      "    accuracy                           0.75       231\n",
      "   macro avg       0.73      0.73      0.73       231\n",
      "weighted avg       0.76      0.75      0.75       231\n",
      "\n",
      "Classification Report (generated data):\n",
      "               precision    recall  f1-score   support\n",
      "\n",
      "           0       0.91      0.83      0.87       151\n",
      "           1       0.73      0.85      0.79        80\n",
      "\n",
      "    accuracy                           0.84       231\n",
      "   macro avg       0.82      0.84      0.83       231\n",
      "weighted avg       0.85      0.84      0.84       231\n",
      "\n",
      "Number of fake samples generated: 100\n",
      "C:\\Users\\Tawfique\\Thesis\\Data_Augmentation\\Datasets\\diabetes.csv\n"
     ]
    },
    {
     "data": {
      "application/vnd.jupyter.widget-view+json": {
       "model_id": "9cbbf9f1937647a4950624c83b560866",
       "version_major": 2,
       "version_minor": 0
      },
      "text/plain": [
       "  0%|          | 0/2400 [00:00<?, ?it/s]"
      ]
     },
     "metadata": {},
     "output_type": "display_data"
    },
    {
     "name": "stderr",
     "output_type": "stream",
     "text": [
      "c:\\Users\\Tawfique\\Thesis\\Llama3_8B\\Llama-3.1-8B-Instruct\\LlamaENVpip\\Lib\\site-packages\\joblib\\externals\\loky\\process_executor.py:752: UserWarning: A worker stopped while some jobs were given to the executor. This can be caused by a too short worker timeout or by a memory leak.\n",
      "  warnings.warn(\n"
     ]
    },
    {
     "name": "stdout",
     "output_type": "stream",
     "text": [
      "Class distribution before augmentation: {0: 500, 1: 268}\n",
      "Class distribution before augmentation: {0: 500, 1: 268}\n",
      "Recall score (original data): 0.6625\n",
      "Recall score (generated data): 0.8500\n",
      "F1 score (original data): 0.6503\n",
      "F1 score (generated data): 0.7861\n",
      "Classification Report (original data):\n",
      "               precision    recall  f1-score   support\n",
      "\n",
      "           0       0.82      0.80      0.81       151\n",
      "           1       0.64      0.66      0.65        80\n",
      "\n",
      "    accuracy                           0.75       231\n",
      "   macro avg       0.73      0.73      0.73       231\n",
      "weighted avg       0.76      0.75      0.75       231\n",
      "\n",
      "Classification Report (generated data):\n",
      "               precision    recall  f1-score   support\n",
      "\n",
      "           0       0.91      0.83      0.87       151\n",
      "           1       0.73      0.85      0.79        80\n",
      "\n",
      "    accuracy                           0.84       231\n",
      "   macro avg       0.82      0.84      0.83       231\n",
      "weighted avg       0.85      0.84      0.84       231\n",
      "\n",
      "Number of fake samples generated: 100\n",
      "C:\\Users\\Tawfique\\Thesis\\Data_Augmentation\\Datasets\\diabetes.csv\n"
     ]
    },
    {
     "data": {
      "application/vnd.jupyter.widget-view+json": {
       "model_id": "525c68028511440283613bc86fa80a06",
       "version_major": 2,
       "version_minor": 0
      },
      "text/plain": [
       "  0%|          | 0/2600 [00:00<?, ?it/s]"
      ]
     },
     "metadata": {},
     "output_type": "display_data"
    },
    {
     "name": "stdout",
     "output_type": "stream",
     "text": [
      "Class distribution before augmentation: {0: 500, 1: 268}\n",
      "Class distribution before augmentation: {0: 500, 1: 268}\n",
      "Recall score (original data): 0.6625\n",
      "Recall score (generated data): 0.8625\n",
      "F1 score (original data): 0.6503\n",
      "F1 score (generated data): 0.8023\n",
      "Classification Report (original data):\n",
      "               precision    recall  f1-score   support\n",
      "\n",
      "           0       0.82      0.80      0.81       151\n",
      "           1       0.64      0.66      0.65        80\n",
      "\n",
      "    accuracy                           0.75       231\n",
      "   macro avg       0.73      0.73      0.73       231\n",
      "weighted avg       0.76      0.75      0.75       231\n",
      "\n",
      "Classification Report (generated data):\n",
      "               precision    recall  f1-score   support\n",
      "\n",
      "           0       0.92      0.85      0.88       151\n",
      "           1       0.75      0.86      0.80        80\n",
      "\n",
      "    accuracy                           0.85       231\n",
      "   macro avg       0.84      0.86      0.84       231\n",
      "weighted avg       0.86      0.85      0.85       231\n",
      "\n",
      "Number of fake samples generated: 100\n",
      "C:\\Users\\Tawfique\\Thesis\\Data_Augmentation\\Datasets\\diabetes.csv\n"
     ]
    },
    {
     "data": {
      "application/vnd.jupyter.widget-view+json": {
       "model_id": "89685a5f0a9041bcbd1b387c2710370c",
       "version_major": 2,
       "version_minor": 0
      },
      "text/plain": [
       "  0%|          | 0/2800 [00:00<?, ?it/s]"
      ]
     },
     "metadata": {},
     "output_type": "display_data"
    },
    {
     "name": "stdout",
     "output_type": "stream",
     "text": [
      "Class distribution before augmentation: {0: 500, 1: 268}\n",
      "Class distribution before augmentation: {0: 500, 1: 268}\n",
      "Recall score (original data): 0.6625\n",
      "Recall score (generated data): 0.8250\n",
      "F1 score (original data): 0.6503\n",
      "F1 score (generated data): 0.7811\n",
      "Classification Report (original data):\n",
      "               precision    recall  f1-score   support\n",
      "\n",
      "           0       0.82      0.80      0.81       151\n",
      "           1       0.64      0.66      0.65        80\n",
      "\n",
      "    accuracy                           0.75       231\n",
      "   macro avg       0.73      0.73      0.73       231\n",
      "weighted avg       0.76      0.75      0.75       231\n",
      "\n",
      "Classification Report (generated data):\n",
      "               precision    recall  f1-score   support\n",
      "\n",
      "           0       0.90      0.85      0.87       151\n",
      "           1       0.74      0.82      0.78        80\n",
      "\n",
      "    accuracy                           0.84       231\n",
      "   macro avg       0.82      0.84      0.83       231\n",
      "weighted avg       0.85      0.84      0.84       231\n",
      "\n",
      "Number of fake samples generated: 100\n",
      "C:\\Users\\Tawfique\\Thesis\\Data_Augmentation\\Datasets\\diabetes.csv\n"
     ]
    },
    {
     "data": {
      "application/vnd.jupyter.widget-view+json": {
       "model_id": "6efe13a405c741369aaedb4753120fea",
       "version_major": 2,
       "version_minor": 0
      },
      "text/plain": [
       "  0%|          | 0/3000 [00:00<?, ?it/s]"
      ]
     },
     "metadata": {},
     "output_type": "display_data"
    },
    {
     "name": "stdout",
     "output_type": "stream",
     "text": [
      "Class distribution before augmentation: {0: 500, 1: 268}\n",
      "Class distribution before augmentation: {0: 500, 1: 268}\n",
      "Recall score (original data): 0.6625\n",
      "Recall score (generated data): 0.8250\n",
      "F1 score (original data): 0.6503\n",
      "F1 score (generated data): 0.7630\n",
      "Classification Report (original data):\n",
      "               precision    recall  f1-score   support\n",
      "\n",
      "           0       0.82      0.80      0.81       151\n",
      "           1       0.64      0.66      0.65        80\n",
      "\n",
      "    accuracy                           0.75       231\n",
      "   macro avg       0.73      0.73      0.73       231\n",
      "weighted avg       0.76      0.75      0.75       231\n",
      "\n",
      "Classification Report (generated data):\n",
      "               precision    recall  f1-score   support\n",
      "\n",
      "           0       0.90      0.82      0.86       151\n",
      "           1       0.71      0.82      0.76        80\n",
      "\n",
      "    accuracy                           0.82       231\n",
      "   macro avg       0.80      0.82      0.81       231\n",
      "weighted avg       0.83      0.82      0.83       231\n",
      "\n",
      "Number of fake samples generated: 100\n",
      "C:\\Users\\Tawfique\\Thesis\\Data_Augmentation\\Datasets\\diabetes.csv\n"
     ]
    },
    {
     "data": {
      "application/vnd.jupyter.widget-view+json": {
       "model_id": "412bb3c44f7c4d5c978ee2432fe7e15f",
       "version_major": 2,
       "version_minor": 0
      },
      "text/plain": [
       "  0%|          | 0/3200 [00:00<?, ?it/s]"
      ]
     },
     "metadata": {},
     "output_type": "display_data"
    },
    {
     "name": "stdout",
     "output_type": "stream",
     "text": [
      "Class distribution before augmentation: {0: 500, 1: 268}\n",
      "Class distribution before augmentation: {0: 500, 1: 268}\n",
      "Recall score (original data): 0.6625\n",
      "Recall score (generated data): 0.8250\n",
      "F1 score (original data): 0.6503\n",
      "F1 score (generated data): 0.7719\n",
      "Classification Report (original data):\n",
      "               precision    recall  f1-score   support\n",
      "\n",
      "           0       0.82      0.80      0.81       151\n",
      "           1       0.64      0.66      0.65        80\n",
      "\n",
      "    accuracy                           0.75       231\n",
      "   macro avg       0.73      0.73      0.73       231\n",
      "weighted avg       0.76      0.75      0.75       231\n",
      "\n",
      "Classification Report (generated data):\n",
      "               precision    recall  f1-score   support\n",
      "\n",
      "           0       0.90      0.83      0.87       151\n",
      "           1       0.73      0.82      0.77        80\n",
      "\n",
      "    accuracy                           0.83       231\n",
      "   macro avg       0.81      0.83      0.82       231\n",
      "weighted avg       0.84      0.83      0.83       231\n",
      "\n",
      "Number of fake samples generated: 100\n",
      "C:\\Users\\Tawfique\\Thesis\\Data_Augmentation\\Datasets\\diabetes.csv\n"
     ]
    },
    {
     "data": {
      "application/vnd.jupyter.widget-view+json": {
       "model_id": "9d46a54f13ad49dc93c979ef4cc0f344",
       "version_major": 2,
       "version_minor": 0
      },
      "text/plain": [
       "  0%|          | 0/3400 [00:00<?, ?it/s]"
      ]
     },
     "metadata": {},
     "output_type": "display_data"
    },
    {
     "name": "stdout",
     "output_type": "stream",
     "text": [
      "Class distribution before augmentation: {0: 500, 1: 268}\n",
      "Class distribution before augmentation: {0: 500, 1: 268}\n",
      "Recall score (original data): 0.6625\n",
      "Recall score (generated data): 0.8250\n",
      "F1 score (original data): 0.6503\n",
      "F1 score (generated data): 0.7543\n",
      "Classification Report (original data):\n",
      "               precision    recall  f1-score   support\n",
      "\n",
      "           0       0.82      0.80      0.81       151\n",
      "           1       0.64      0.66      0.65        80\n",
      "\n",
      "    accuracy                           0.75       231\n",
      "   macro avg       0.73      0.73      0.73       231\n",
      "weighted avg       0.76      0.75      0.75       231\n",
      "\n",
      "Classification Report (generated data):\n",
      "               precision    recall  f1-score   support\n",
      "\n",
      "           0       0.90      0.81      0.85       151\n",
      "           1       0.69      0.82      0.75        80\n",
      "\n",
      "    accuracy                           0.81       231\n",
      "   macro avg       0.80      0.82      0.80       231\n",
      "weighted avg       0.83      0.81      0.82       231\n",
      "\n",
      "Number of fake samples generated: 100\n",
      "C:\\Users\\Tawfique\\Thesis\\Data_Augmentation\\Datasets\\diabetes.csv\n"
     ]
    },
    {
     "data": {
      "application/vnd.jupyter.widget-view+json": {
       "model_id": "ddb60112d5ea4b338f2ca55b50dc12cb",
       "version_major": 2,
       "version_minor": 0
      },
      "text/plain": [
       "  0%|          | 0/3600 [00:00<?, ?it/s]"
      ]
     },
     "metadata": {},
     "output_type": "display_data"
    },
    {
     "name": "stdout",
     "output_type": "stream",
     "text": [
      "Class distribution before augmentation: {0: 500, 1: 268}\n",
      "Class distribution before augmentation: {0: 500, 1: 268}\n",
      "Recall score (original data): 0.6625\n",
      "Recall score (generated data): 0.8125\n",
      "F1 score (original data): 0.6503\n",
      "F1 score (generated data): 0.7647\n",
      "Classification Report (original data):\n",
      "               precision    recall  f1-score   support\n",
      "\n",
      "           0       0.82      0.80      0.81       151\n",
      "           1       0.64      0.66      0.65        80\n",
      "\n",
      "    accuracy                           0.75       231\n",
      "   macro avg       0.73      0.73      0.73       231\n",
      "weighted avg       0.76      0.75      0.75       231\n",
      "\n",
      "Classification Report (generated data):\n",
      "               precision    recall  f1-score   support\n",
      "\n",
      "           0       0.89      0.83      0.86       151\n",
      "           1       0.72      0.81      0.76        80\n",
      "\n",
      "    accuracy                           0.83       231\n",
      "   macro avg       0.81      0.82      0.81       231\n",
      "weighted avg       0.83      0.83      0.83       231\n",
      "\n",
      "Number of fake samples generated: 100\n",
      "C:\\Users\\Tawfique\\Thesis\\Data_Augmentation\\Datasets\\diabetes.csv\n"
     ]
    },
    {
     "data": {
      "application/vnd.jupyter.widget-view+json": {
       "model_id": "05b351e42aa24fd794bf0e7c1ef660ae",
       "version_major": 2,
       "version_minor": 0
      },
      "text/plain": [
       "  0%|          | 0/3800 [00:00<?, ?it/s]"
      ]
     },
     "metadata": {},
     "output_type": "display_data"
    },
    {
     "name": "stdout",
     "output_type": "stream",
     "text": [
      "Class distribution before augmentation: {0: 500, 1: 268}\n",
      "Class distribution before augmentation: {0: 500, 1: 268}\n",
      "Recall score (original data): 0.6625\n",
      "Recall score (generated data): 0.8500\n",
      "F1 score (original data): 0.6503\n",
      "F1 score (generated data): 0.7907\n",
      "Classification Report (original data):\n",
      "               precision    recall  f1-score   support\n",
      "\n",
      "           0       0.82      0.80      0.81       151\n",
      "           1       0.64      0.66      0.65        80\n",
      "\n",
      "    accuracy                           0.75       231\n",
      "   macro avg       0.73      0.73      0.73       231\n",
      "weighted avg       0.76      0.75      0.75       231\n",
      "\n",
      "Classification Report (generated data):\n",
      "               precision    recall  f1-score   support\n",
      "\n",
      "           0       0.91      0.84      0.88       151\n",
      "           1       0.74      0.85      0.79        80\n",
      "\n",
      "    accuracy                           0.84       231\n",
      "   macro avg       0.83      0.85      0.83       231\n",
      "weighted avg       0.85      0.84      0.85       231\n",
      "\n",
      "Number of fake samples generated: 100\n",
      "C:\\Users\\Tawfique\\Thesis\\Data_Augmentation\\Datasets\\diabetes.csv\n"
     ]
    },
    {
     "data": {
      "application/vnd.jupyter.widget-view+json": {
       "model_id": "fce35b7881b0441dba78e4ace6cf8e86",
       "version_major": 2,
       "version_minor": 0
      },
      "text/plain": [
       "  0%|          | 0/4000 [00:00<?, ?it/s]"
      ]
     },
     "metadata": {},
     "output_type": "display_data"
    },
    {
     "name": "stdout",
     "output_type": "stream",
     "text": [
      "Class distribution before augmentation: {0: 500, 1: 268}\n",
      "Class distribution before augmentation: {0: 500, 1: 268}\n",
      "Recall score (original data): 0.6625\n",
      "Recall score (generated data): 0.8500\n",
      "F1 score (original data): 0.6503\n",
      "F1 score (generated data): 0.7771\n",
      "Classification Report (original data):\n",
      "               precision    recall  f1-score   support\n",
      "\n",
      "           0       0.82      0.80      0.81       151\n",
      "           1       0.64      0.66      0.65        80\n",
      "\n",
      "    accuracy                           0.75       231\n",
      "   macro avg       0.73      0.73      0.73       231\n",
      "weighted avg       0.76      0.75      0.75       231\n",
      "\n",
      "Classification Report (generated data):\n",
      "               precision    recall  f1-score   support\n",
      "\n",
      "           0       0.91      0.82      0.86       151\n",
      "           1       0.72      0.85      0.78        80\n",
      "\n",
      "    accuracy                           0.83       231\n",
      "   macro avg       0.81      0.84      0.82       231\n",
      "weighted avg       0.84      0.83      0.83       231\n",
      "\n",
      "Number of fake samples generated: 100\n",
      "C:\\Users\\Tawfique\\Thesis\\Data_Augmentation\\Datasets\\diabetes.csv\n"
     ]
    },
    {
     "data": {
      "application/vnd.jupyter.widget-view+json": {
       "model_id": "08396e37ab0a4ed4b6d6b4dcacef163d",
       "version_major": 2,
       "version_minor": 0
      },
      "text/plain": [
       "  0%|          | 0/4200 [00:00<?, ?it/s]"
      ]
     },
     "metadata": {},
     "output_type": "display_data"
    },
    {
     "name": "stdout",
     "output_type": "stream",
     "text": [
      "Class distribution before augmentation: {0: 500, 1: 268}\n",
      "Class distribution before augmentation: {0: 500, 1: 268}\n",
      "Recall score (original data): 0.6625\n",
      "Recall score (generated data): 0.8375\n",
      "F1 score (original data): 0.6503\n",
      "F1 score (generated data): 0.7836\n",
      "Classification Report (original data):\n",
      "               precision    recall  f1-score   support\n",
      "\n",
      "           0       0.82      0.80      0.81       151\n",
      "           1       0.64      0.66      0.65        80\n",
      "\n",
      "    accuracy                           0.75       231\n",
      "   macro avg       0.73      0.73      0.73       231\n",
      "weighted avg       0.76      0.75      0.75       231\n",
      "\n",
      "Classification Report (generated data):\n",
      "               precision    recall  f1-score   support\n",
      "\n",
      "           0       0.91      0.84      0.87       151\n",
      "           1       0.74      0.84      0.78        80\n",
      "\n",
      "    accuracy                           0.84       231\n",
      "   macro avg       0.82      0.84      0.83       231\n",
      "weighted avg       0.85      0.84      0.84       231\n",
      "\n",
      "Number of fake samples generated: 100\n",
      "C:\\Users\\Tawfique\\Thesis\\Data_Augmentation\\Datasets\\diabetes.csv\n"
     ]
    },
    {
     "data": {
      "application/vnd.jupyter.widget-view+json": {
       "model_id": "fe8d051830ee4b898bc2554c2d7d1322",
       "version_major": 2,
       "version_minor": 0
      },
      "text/plain": [
       "  0%|          | 0/4400 [00:00<?, ?it/s]"
      ]
     },
     "metadata": {},
     "output_type": "display_data"
    },
    {
     "name": "stdout",
     "output_type": "stream",
     "text": [
      "Class distribution before augmentation: {0: 500, 1: 268}\n",
      "Class distribution before augmentation: {0: 500, 1: 268}\n",
      "Recall score (original data): 0.6625\n",
      "Recall score (generated data): 0.8375\n",
      "F1 score (original data): 0.6503\n",
      "F1 score (generated data): 0.7882\n",
      "Classification Report (original data):\n",
      "               precision    recall  f1-score   support\n",
      "\n",
      "           0       0.82      0.80      0.81       151\n",
      "           1       0.64      0.66      0.65        80\n",
      "\n",
      "    accuracy                           0.75       231\n",
      "   macro avg       0.73      0.73      0.73       231\n",
      "weighted avg       0.76      0.75      0.75       231\n",
      "\n",
      "Classification Report (generated data):\n",
      "               precision    recall  f1-score   support\n",
      "\n",
      "           0       0.91      0.85      0.88       151\n",
      "           1       0.74      0.84      0.79        80\n",
      "\n",
      "    accuracy                           0.84       231\n",
      "   macro avg       0.83      0.84      0.83       231\n",
      "weighted avg       0.85      0.84      0.85       231\n",
      "\n",
      "Number of fake samples generated: 100\n",
      "C:\\Users\\Tawfique\\Thesis\\Data_Augmentation\\Datasets\\diabetes.csv\n"
     ]
    },
    {
     "data": {
      "application/vnd.jupyter.widget-view+json": {
       "model_id": "2bb2b6ba880a438d93093562c79739ec",
       "version_major": 2,
       "version_minor": 0
      },
      "text/plain": [
       "  0%|          | 0/4600 [00:00<?, ?it/s]"
      ]
     },
     "metadata": {},
     "output_type": "display_data"
    },
    {
     "name": "stdout",
     "output_type": "stream",
     "text": [
      "Class distribution before augmentation: {0: 500, 1: 268}\n",
      "Class distribution before augmentation: {0: 500, 1: 268}\n",
      "Recall score (original data): 0.6625\n",
      "Recall score (generated data): 0.8500\n",
      "F1 score (original data): 0.6503\n",
      "F1 score (generated data): 0.7861\n",
      "Classification Report (original data):\n",
      "               precision    recall  f1-score   support\n",
      "\n",
      "           0       0.82      0.80      0.81       151\n",
      "           1       0.64      0.66      0.65        80\n",
      "\n",
      "    accuracy                           0.75       231\n",
      "   macro avg       0.73      0.73      0.73       231\n",
      "weighted avg       0.76      0.75      0.75       231\n",
      "\n",
      "Classification Report (generated data):\n",
      "               precision    recall  f1-score   support\n",
      "\n",
      "           0       0.91      0.83      0.87       151\n",
      "           1       0.73      0.85      0.79        80\n",
      "\n",
      "    accuracy                           0.84       231\n",
      "   macro avg       0.82      0.84      0.83       231\n",
      "weighted avg       0.85      0.84      0.84       231\n",
      "\n",
      "Number of fake samples generated: 100\n",
      "C:\\Users\\Tawfique\\Thesis\\Data_Augmentation\\Datasets\\diabetes.csv\n"
     ]
    },
    {
     "data": {
      "application/vnd.jupyter.widget-view+json": {
       "model_id": "bfbf9c54d8c44b69a651778a577eb073",
       "version_major": 2,
       "version_minor": 0
      },
      "text/plain": [
       "  0%|          | 0/4800 [00:00<?, ?it/s]"
      ]
     },
     "metadata": {},
     "output_type": "display_data"
    },
    {
     "name": "stdout",
     "output_type": "stream",
     "text": [
      "Class distribution before augmentation: {0: 500, 1: 268}\n",
      "Class distribution before augmentation: {0: 500, 1: 268}\n",
      "Recall score (original data): 0.6625\n",
      "Recall score (generated data): 0.8500\n",
      "F1 score (original data): 0.6503\n",
      "F1 score (generated data): 0.7907\n",
      "Classification Report (original data):\n",
      "               precision    recall  f1-score   support\n",
      "\n",
      "           0       0.82      0.80      0.81       151\n",
      "           1       0.64      0.66      0.65        80\n",
      "\n",
      "    accuracy                           0.75       231\n",
      "   macro avg       0.73      0.73      0.73       231\n",
      "weighted avg       0.76      0.75      0.75       231\n",
      "\n",
      "Classification Report (generated data):\n",
      "               precision    recall  f1-score   support\n",
      "\n",
      "           0       0.91      0.84      0.88       151\n",
      "           1       0.74      0.85      0.79        80\n",
      "\n",
      "    accuracy                           0.84       231\n",
      "   macro avg       0.83      0.85      0.83       231\n",
      "weighted avg       0.85      0.84      0.85       231\n",
      "\n",
      "Number of fake samples generated: 100\n",
      "C:\\Users\\Tawfique\\Thesis\\Data_Augmentation\\Datasets\\diabetes.csv\n"
     ]
    },
    {
     "data": {
      "application/vnd.jupyter.widget-view+json": {
       "model_id": "2c025f645434478b97d04be153fe4b8f",
       "version_major": 2,
       "version_minor": 0
      },
      "text/plain": [
       "  0%|          | 0/5000 [00:00<?, ?it/s]"
      ]
     },
     "metadata": {},
     "output_type": "display_data"
    },
    {
     "name": "stdout",
     "output_type": "stream",
     "text": [
      "Class distribution before augmentation: {0: 500, 1: 268}\n",
      "Class distribution before augmentation: {0: 500, 1: 268}\n",
      "Recall score (original data): 0.6625\n",
      "Recall score (generated data): 0.8375\n",
      "F1 score (original data): 0.6503\n",
      "F1 score (generated data): 0.7929\n",
      "Classification Report (original data):\n",
      "               precision    recall  f1-score   support\n",
      "\n",
      "           0       0.82      0.80      0.81       151\n",
      "           1       0.64      0.66      0.65        80\n",
      "\n",
      "    accuracy                           0.75       231\n",
      "   macro avg       0.73      0.73      0.73       231\n",
      "weighted avg       0.76      0.75      0.75       231\n",
      "\n",
      "Classification Report (generated data):\n",
      "               precision    recall  f1-score   support\n",
      "\n",
      "           0       0.91      0.85      0.88       151\n",
      "           1       0.75      0.84      0.79        80\n",
      "\n",
      "    accuracy                           0.85       231\n",
      "   macro avg       0.83      0.85      0.84       231\n",
      "weighted avg       0.85      0.85      0.85       231\n",
      "\n",
      "Number of fake samples generated: 100\n"
     ]
    }
   ],
   "source": [
    "import sys\n",
    "import os\n",
    "\n",
    "# Define the path to your folder\n",
    "folder_path = r\"C:\\Users\\Tawfique\\Thesis\\Data_Augmentation\\Models\\AutoDiffusion\"\n",
    "\n",
    "# Add the folder to sys.path\n",
    "sys.path.append(folder_path)\n",
    "import numpy as np\n",
    "#import process_edited as pce\n",
    "import process_GQ as pce\n",
    "import autoencoder as ae\n",
    "import diffusion as diff\n",
    "import TabDDPMdiff as TabDiff\n",
    "import pandas as pd\n",
    "import torch\n",
    "import os\n",
    "import time\n",
    "import numpy as np\n",
    "import pandas as pd\n",
    "from sklearn.model_selection import train_test_split\n",
    "from sklearn.metrics import classification_report, precision_score, recall_score, f1_score\n",
    "import numpy as np\n",
    "import matplotlib.pyplot as plt\n",
    "from ForestDiffusion import ForestDiffusionModel\n",
    "from sklearn.ensemble import RandomForestClassifier\n",
    "from sklearn.metrics import recall_score, f1_score\n",
    "\n",
    "\n",
    "# strings_set = {'abalone', 'adult', 'Churn_Modelling','faults', 'indian_liver_patient', \n",
    "#                'insurance', 'News', 'Obesity', 'Shoppers', 'Titanic', 'wilt', 'Bean', 'nursery', 'Magic', 'HTRU'}\n",
    "Model = 'AutoDiff'\n",
    "dataset='diabetes'\n",
    "file_path = f'..\\\\..\\\\..\\\\Datasets\\\\Original Data\\\\{dataset}.csv'\n",
    "\n",
    "recalls_bal_list = []\n",
    "f1_bal_list = []\n",
    "prec_bal_list=[]\n",
    "\n",
    "for epoch_rng in range (0,21):\n",
    "    # Read dataframe\n",
    "    # print(filename)\n",
    "    real_df = pd.read_csv(file_path)\n",
    "    #real_df = real_df.drop('url', axis=1)\n",
    "    # # Step 2: Inspect the data and check for class imbalance\n",
    "    # # Assuming the last column is the label, and the rest are features\n",
    "    X = real_df.iloc[:, :-1].values  # Features\n",
    "    y = real_df.iloc[:, -1].values  # Labels (binary classification)\n",
    "    #  # Separate the minority class\n",
    "    real_minortiy = real_df[y == 1]\n",
    "    \n",
    "    threshold = 0.01 # Threshold for mixed-type variables\n",
    "    parser = pce.DataFrameParser().fit(real_minortiy, threshold)\n",
    "    ################################################################################################################\n",
    "    # Auto-encoder hyper-parameters\n",
    "    device = 'cuda' #@param {'type':'string'}\n",
    "    n_epochs = 1000+epoch_rng*200 #@param {'type':'integer'}\n",
    "    eps = 1e-5 #@param {type:\"number\"}\n",
    "    weight_decay = 1e-6 #@param {'type':'number'}\n",
    "    maximum_learning_rate = 1e-2 #@param {'type':'number'}\n",
    "    lr = 2e-4 #@param {'type':'number'}\n",
    "    hidden_size = 250\n",
    "    num_layers = 3\n",
    "    batch_size = 50\n",
    "\n",
    "    ds = ae.train_autoencoder(real_minortiy, hidden_size, num_layers, lr, weight_decay, n_epochs, batch_size, threshold)\n",
    "    latent_features = ds[1].detach()\n",
    "\n",
    "    # Convert to NumPy array\n",
    "    array = latent_features.detach().cpu().numpy()\n",
    "    forest_model = ForestDiffusionModel(array, label_y=None, n_t=50, duplicate_K=100, bin_indexes=[], cat_indexes=[], int_indexes=[], diffusion_type='flow', n_jobs=-1)\n",
    "    minority_fake = forest_model.generate(batch_size=len(real_minortiy))  # Adjust the batch size to create a balanced dataset\n",
    "    sample=torch.tensor(minority_fake, dtype=torch.float32)\n",
    "    gen_output = ds[0](sample, ds[2], ds[3])\n",
    "    gen_df = pce.convert_to_table(real_minortiy, gen_output, threshold)\n",
    "    selected_samples = gen_df.sample(n=min(100,gen_df.shape[0]), random_state=42)  # For reproducibility\n",
    "    # Syn _df will be the dataset after augmentation\n",
    "    syn_df = pd.concat([real_df, selected_samples], ignore_index=True)\n",
    "    # augmented_df = pd.read_csv(syn_filename)\n",
    "    augmented_df=syn_df\n",
    "\n",
    "    X = real_df.iloc[:, :-1].values  # Features\n",
    "    y = real_df.iloc[:, -1].values \n",
    "    # Check and print the original class distribution\n",
    "    unique, counts = np.unique(y, return_counts=True)\n",
    "    class_dist_before = dict(zip(unique, counts))\n",
    "    print(f\"Class distribution before augmentation: {class_dist_before}\")# Labels (binary classification)\n",
    "\n",
    "    X_balanced = augmented_df.iloc[:, :-1].values  # Features\n",
    "    y_balanced = augmented_df.iloc[:, -1].values  # Labels (binary classification)\n",
    "\n",
    "    # Check and print the Augmented class distribution\n",
    "    unique, counts = np.unique(y_balanced, return_counts=True)\n",
    "    class_dist_after = dict(zip(unique, counts))\n",
    "    print(f\"Class distribution after augmentation: {class_dist_after}\")\n",
    "\n",
    "    # Step 6: Split the dataset into training and test sets (original and balanced)\n",
    "    X_train_orig, X_test_orig, y_train_orig, y_test_orig = train_test_split(X, y, test_size=0.3, random_state=42)\n",
    "    X_train_bal, X_test_bal, y_train_bal, y_test_bal = train_test_split(X_balanced, y_balanced, test_size=0.3, random_state=42)\n",
    "\n",
    "    # Step 7: Train a simple classifier on both original and generated datasets\n",
    "    clf_orig = RandomForestClassifier(random_state=42)\n",
    "    clf_orig.fit(X_train_orig, y_train_orig)\n",
    "    \n",
    "\n",
    "    clf_bal = RandomForestClassifier(random_state=42)\n",
    "    clf_bal.fit(X_train_bal, y_train_bal)\n",
    "\n",
    "    # Step 8: Predict and calculate recall and F1 scores\n",
    "    y_pred_orig = clf_orig.predict(X_test_orig)\n",
    "    y_pred_bal = clf_bal.predict(X_test_orig)\n",
    "\n",
    "    prec_orig = precision_score(y_test_orig, y_pred_orig)\n",
    "    prec_bal = precision_score(y_test_orig, y_pred_bal)\n",
    "    prec_bal_list.append(prec_bal)\n",
    "    \n",
    "    \n",
    "    recall_orig = recall_score(y_test_orig, y_pred_orig)\n",
    "    recalls_bal = recall_score(y_test_orig, y_pred_bal)\n",
    "    recalls_bal_list.append(recalls_bal)\n",
    "\n",
    "    f1_orig = f1_score(y_test_orig, y_pred_orig)\n",
    "    f1_bal = f1_score(y_test_orig, y_pred_bal)\n",
    "    f1_bal_list.append(f1_bal)\n",
    "    \n",
    "    \n",
    "\n",
    "    # Step 9: Print the performance metrics\n",
    "    print(f\"Precision score (original data): {prec_orig:.4f}\")\n",
    "    print(f\"Precision score (generated data): {prec_bal:.4f}\")\n",
    "    print(f\"Recall score (original data): {recall_orig:.4f}\")\n",
    "    print(f\"Recall score (generated data): {recalls_bal:.4f}\")\n",
    "    print(f\"F1 score (original data): {f1_orig:.4f}\")\n",
    "    print(f\"F1 score (generated data): {f1_bal:.4f}\")\n",
    "    print(\"Classification Report (original data):\\n\", classification_report(y_test_orig, y_pred_orig))\n",
    "    print(\"Classification Report (generated data):\\n\", classification_report(y_test_orig, y_pred_bal))\n",
    "\n",
    "\n",
    "    print(f\"Number of fake samples generated: {len(augmented_df)-len(real_df)}\")"
   ]
  },
  {
   "cell_type": "code",
   "execution_count": null,
   "metadata": {},
   "outputs": [],
   "source": [
    "import matplotlib.pyplot as plt\n",
    "epoch_list=[]\n",
    "for epoch_val in range (1000,5001,200):\n",
    "    epoch_list.append(epoch_val)\n"
   ]
  },
  {
   "cell_type": "code",
   "execution_count": 15,
   "metadata": {},
   "outputs": [
    {
     "data": {
      "image/png": "[encoded data removed]",
      "text/plain": [
       "<Figure size 640x480 with 1 Axes>"
      ]
     },
     "metadata": {},
     "output_type": "display_data"
    }
   ],
   "source": [
    "# Plotting\n",
    "plt.plot(epoch_list, prec_bal_list, marker='o', linestyle='-', color='b', label='precison vs epoch')\n",
    "plt.axhline(y=0.7356, color='r', linestyle='--', label='Forest precision')\n",
    "plt.title('(Autoencoder+Forest)precison score vs epochs in autoencoder stage')  # Add a title\n",
    "plt.xlabel('Epochs')  # Add label to X-axis\n",
    "plt.ylabel('Precision score')  # Add label to Y-axis\n",
    "plt.legend()  # Add legend\n",
    "plt.grid(True)  # Add grid lines\n",
    "plt.show()"
   ]
  },
  {
   "cell_type": "code",
   "execution_count": 16,
   "metadata": {},
   "outputs": [
    {
     "data": {
      "image/png": "[encoded data removed]",
      "text/plain": [
       "<Figure size 640x480 with 1 Axes>"
      ]
     },
     "metadata": {},
     "output_type": "display_data"
    }
   ],
   "source": [
    "# Plotting\n",
    "plt.plot(epoch_list, recalls_bal_list, marker='o', linestyle='-', color='b', label='Recall vs epoch')\n",
    "plt.axhline(y=0.8, color='r', linestyle='--', label='Forest recall')\n",
    "plt.title('(Autoencoder+Forest)recall score vs epochs in autoencoder stage')  # Add a title\n",
    "plt.xlabel('Epochs')  # Add label to X-axis\n",
    "plt.ylabel('Recall score')  # Add label to Y-axis\n",
    "plt.legend()  # Add legend\n",
    "plt.grid(True)  # Add grid lines\n",
    "plt.show()"
   ]
  },
  {
   "cell_type": "code",
   "execution_count": null,
   "metadata": {},
   "outputs": [
    {
     "data": {
      "image/png": "[encoded data removed]",
      "text/plain": [
       "<Figure size 640x480 with 1 Axes>"
      ]
     },
     "metadata": {},
     "output_type": "display_data"
    }
   ],
   "source": [
    "# Plotting\n",
    "plt.plot(epoch_list, f1_bal_list, marker='o', linestyle='-', color='b', label='F1 vs epoch')\n",
    "plt.axhline(y=0.7665, color='r', linestyle='--', label='Forest F1')\n",
    "plt.title('(Autoencoder+Forest)F1 score vs epochs in autoencoder stage')  # Add a title\n",
    "plt.xlabel('Epochs')  # Add label to X-axis\n",
    "plt.ylabel('F1 score')  # Add label to Y-axis\n",
    "plt.legend()  # Add legend\n",
    "plt.grid(True)  # Add grid lines\n",
    "plt.show()"
   ]
  }
 ],
 "metadata": {
  "kernelspec": {
   "display_name": "LlamaENVpip",
   "language": "python",
   "name": "python3"
  },
  "language_info": {
   "codemirror_mode": {
    "name": "ipython",
    "version": 3
   },
   "file_extension": ".py",
   "mimetype": "text/x-python",
   "name": "python",
   "nbconvert_exporter": "python",
   "pygments_lexer": "ipython3",
   "version": "3.11.10"
  }
 },
 "nbformat": 4,
 "nbformat_minor": 2
}
