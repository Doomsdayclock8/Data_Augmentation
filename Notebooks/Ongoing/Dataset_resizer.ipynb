{
 "cells": [
  {
   "cell_type": "code",
   "execution_count": 1,
   "metadata": {},
   "outputs": [
    {
     "name": "stdout",
     "output_type": "stream",
     "text": [
      "Sampled data saved to 'creditcard_sampled.csv'.\n"
     ]
    }
   ],
   "source": [
    "import pandas as pd\n",
    "\n",
    "# Step 1: Load the original dataset\n",
    "df = pd.read_csv('creditcard.csv')  # Assuming your dataset is stored as 'creditcard.csv'\n",
    "\n",
    "# Step 2: Separate minority and majority classes (assuming 'Class' is the target column)\n",
    "minority_class = df[df['Class'] == 1]  # Minority class (label 1)\n",
    "majority_class = df[df['Class'] == 0]  # Majority class (label 0)\n",
    "\n",
    "# Step 3: Sample 50 instances from the minority class and 4000 instances from the majority class\n",
    "minority_sample = minority_class.sample(n=50, random_state=42)\n",
    "majority_sample = majority_class.sample(n=4000, random_state=42)\n",
    "\n",
    "# Step 4: Combine the samples into a new DataFrame\n",
    "sampled_df = pd.concat([minority_sample, majority_sample])\n",
    "\n",
    "# Step 5: Shuffle the combined DataFrame (optional but recommended)\n",
    "sampled_df = sampled_df.sample(frac=1, random_state=42).reset_index(drop=True)\n",
    "\n",
    "# Step 6: Save the sampled data into a CSV file\n",
    "sampled_df.to_csv('creditcard_sampled.csv', index=False)\n",
    "\n",
    "print(\"Sampled data saved to 'creditcard_sampled.csv'.\")\n"
   ]
  }
 ],
 "metadata": {
  "kernelspec": {
   "display_name": "LlamaENVpip",
   "language": "python",
   "name": "python3"
  },
  "language_info": {
   "codemirror_mode": {
    "name": "ipython",
    "version": 3
   },
   "file_extension": ".py",
   "mimetype": "text/x-python",
   "name": "python",
   "nbconvert_exporter": "python",
   "pygments_lexer": "ipython3",
   "version": "3.11.10"
  }
 },
 "nbformat": 4,
 "nbformat_minor": 2
}
