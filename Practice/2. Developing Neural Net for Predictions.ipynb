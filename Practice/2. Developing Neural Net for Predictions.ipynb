{
 "cells": [
  {
   "cell_type": "markdown",
   "metadata": {},
   "source": [
    "# Neural Network in Torch"
   ]
  },
  {
   "cell_type": "markdown",
   "metadata": {},
   "source": [
    "## Aproach 1\n",
    "- Prediction: Manually\n",
    "- Gradients Computation: Manually\n",
    "- Loss Computation: Manually\n",
    "- Parameter updates: Manually"
   ]
  },
  {
   "cell_type": "code",
   "execution_count": 3,
   "metadata": {},
   "outputs": [
    {
     "name": "stdout",
     "output_type": "stream",
     "text": [
      "Prediction before training: f(5)=0.000\n",
      "epoch 1: w=1.200, loss=30.00000000\n",
      "epoch 2: w=1.680, loss=4.79999924\n",
      "epoch 3: w=1.872, loss=0.76800019\n",
      "epoch 4: w=1.949, loss=0.12288000\n",
      "epoch 5: w=1.980, loss=0.01966083\n",
      "epoch 6: w=1.992, loss=0.00314574\n",
      "epoch 7: w=1.997, loss=0.00050331\n",
      "epoch 8: w=1.999, loss=0.00008053\n",
      "epoch 9: w=1.999, loss=0.00001288\n",
      "epoch 10: w=2.000, loss=0.00000206\n",
      "Prediction after training: f(5)=9.999\n"
     ]
    }
   ],
   "source": [
    "import numpy as np\n",
    "# initialize x, y and w\n",
    "x=np.array([1,2,3,4],dtype=np.float32)\n",
    "y=np.array([2,4,6,8],dtype=np.float32)\n",
    "w=0.0\n",
    "# model prediction via forward pass\n",
    "def forward(x):\n",
    "    return w*x\n",
    "# loss calculation\n",
    "def loss(y,y_predicted):\n",
    "    return ((y_predicted-y)**2).mean()\n",
    "# gradient calculation\n",
    "def gradient(x,y,y_predicted):\n",
    "    return np.dot(2*x,y_predicted-y).mean()\n",
    "print(f'Prediction before training: f(5)={forward(5):.3f}')\n",
    "# training\n",
    "learning_rate=0.01\n",
    "n_iters=10\n",
    "for epoch in range(n_iters):\n",
    "    y_pred=forward(x)\n",
    "    l=loss(y,y_pred)\n",
    "    dw=gradient(x,y,y_pred)\n",
    "    w-=learning_rate*dw\n",
    "    if epoch%1==0:\n",
    "        print(f'epoch {epoch+1}: w={w:.3f}, loss={l:.8f}')\n",
    "\n",
    "print(f'Prediction after training: f(5)={forward(5):.3f}')\n"
   ]
  },
  {
   "cell_type": "markdown",
   "metadata": {},
   "source": [
    "## Approach 2\n",
    "- Prediction: Manually*\n",
    "- Gradients Computation: Autograd\n",
    "- Loss Computation: Manually\n",
    "- Parameter updates: Manually"
   ]
  },
  {
   "cell_type": "code",
   "execution_count": 8,
   "metadata": {},
   "outputs": [
    {
     "name": "stdout",
     "output_type": "stream",
     "text": [
      "Prediction before training: f(5)=0.000\n",
      "epoch 1: w=0.300, loss=30.00000000\n",
      "epoch 11: w=1.665, loss=1.16278565\n",
      "epoch 21: w=1.934, loss=0.04506890\n",
      "epoch 31: w=1.987, loss=0.00174685\n",
      "epoch 41: w=1.997, loss=0.00006770\n",
      "epoch 51: w=1.999, loss=0.00000262\n",
      "epoch 61: w=2.000, loss=0.00000010\n",
      "epoch 71: w=2.000, loss=0.00000000\n",
      "epoch 81: w=2.000, loss=0.00000000\n",
      "epoch 91: w=2.000, loss=0.00000000\n",
      "Prediction after training: f(5)=10.000\n"
     ]
    }
   ],
   "source": [
    "import torch\n",
    "# initialize x, y and w\n",
    "x=torch.tensor([1,2,3,4],dtype=torch.float32)\n",
    "y=torch.tensor([2,4,6,8],dtype=torch.float32)\n",
    "w=torch.tensor(0.0,dtype=torch.float32,requires_grad=True)\n",
    "# model prediction via forward pass\n",
    "def forward(x):\n",
    "    return w*x\n",
    "# loss calculation\n",
    "def loss(y,y_predicted):\n",
    "    return ((y_predicted-y)**2).mean()\n",
    "# gradient calculation\n",
    "# gradient will be calculated automatically \n",
    "# using autograd when we call loss.backward()\n",
    "# w has requires_grad=True --> autograd will track all operations on w\n",
    "# --> calling loss.backward() will calculate the gradient of loss w.r.t w\n",
    "# --> will be stored in w.grad\n",
    "print(f'Prediction before training: f(5)={forward(5):.3f}')\n",
    "# training\n",
    "learning_rate=0.01\n",
    "n_iters=100\n",
    "# this process is slow for autograd because it is dynamic, meaning it keeps track of all operations on tensors\n",
    "# so it is slower than numpy\n",
    "# so more epochs are needed\n",
    "for epoch in range(n_iters):\n",
    "    y_pred=forward(x)\n",
    "    l=loss(y,y_pred)\n",
    "    l.backward()# calculate gradient of loss w.r.t w\n",
    "    # grad is stored in w.grad\n",
    "    with torch.no_grad():\n",
    "        w -= learning_rate * w.grad \n",
    "        w.grad.zero_()\n",
    "    if epoch%10==0:\n",
    "        print(f'epoch {epoch+1}: w={w:.3f}, loss={l:.8f}')\n",
    "\n",
    "print(f'Prediction after training: f(5)={forward(5):.3f}')\n"
   ]
  },
  {
   "cell_type": "markdown",
   "metadata": {},
   "source": [
    "## Appraoch 3\n",
    "- Prediction: Manually\n",
    "- Gradients Computation: Autograd\n",
    "- Loss Computation: PyTorch Loss\n",
    "- Parameter updates: PyTorch Optimizer"
   ]
  },
  {
   "cell_type": "code",
   "execution_count": 12,
   "metadata": {},
   "outputs": [
    {
     "name": "stdout",
     "output_type": "stream",
     "text": [
      "Prediction before training: f(5)=0.000\n",
      "epoch 1: w=0.300, loss=30.00000000\n",
      "epoch 11: w=1.665, loss=1.16278565\n",
      "epoch 21: w=1.934, loss=0.04506890\n",
      "epoch 31: w=1.987, loss=0.00174685\n",
      "epoch 41: w=1.997, loss=0.00006770\n",
      "epoch 51: w=1.999, loss=0.00000262\n",
      "epoch 61: w=2.000, loss=0.00000010\n",
      "epoch 71: w=2.000, loss=0.00000000\n",
      "epoch 81: w=2.000, loss=0.00000000\n",
      "epoch 91: w=2.000, loss=0.00000000\n",
      "Prediction after training: f(5)=10.000\n"
     ]
    }
   ],
   "source": [
    "import torch\n",
    "# initialize x, y and w\n",
    "x=torch.tensor([1,2,3,4],dtype=torch.float32)\n",
    "y=torch.tensor([2,4,6,8],dtype=torch.float32)\n",
    "w=torch.tensor(0.0,dtype=torch.float32,requires_grad=True)\n",
    "# model prediction via forward pass\n",
    "def forward(x):\n",
    "    return w*x\n",
    "# loss calculation\n",
    "loss=torch.nn.MSELoss()\n",
    "#parameter upfates/optmization\n",
    "optimizer=torch.optim.SGD([w],lr=0.01)\n",
    "print(f'Prediction before training: f(5)={forward(5):.3f}')\n",
    "# training\n",
    "n_iters=100\n",
    "for epoch in range(n_iters):\n",
    "    y_pred=forward(x)\n",
    "    l=loss(y,y_pred)\n",
    "    l.backward()# calculate gradient of loss w.r.t w\n",
    "                # grad is stored in w.grad\n",
    "    # update weights                        #Previously:\n",
    "    optimizer.step()                        # with torch.no_grad():\n",
    "    # empty gradients                       #     w -= learning_rate * w.grad \n",
    "    optimizer.zero_grad()                     #     w.grad.zero_()                                  \n",
    "    if epoch%10==0:\n",
    "        print(f'epoch {epoch+1}: w={w:.3f}, loss={l:.8f}')\n",
    "\n",
    "print(f'Prediction after training: f(5)={forward(5):.3f}')"
   ]
  },
  {
   "cell_type": "markdown",
   "metadata": {},
   "source": [
    "## Approach 4\n",
    "- Prediction: PyTorch Model\n",
    "- Gradients Computation: Autograd\n",
    "- Loss Computation: PyTorch Loss\n",
    "- Parameter updates: PyTorch Optimizer"
   ]
  },
  {
   "cell_type": "code",
   "execution_count": null,
   "metadata": {},
   "outputs": [
    {
     "name": "stdout",
     "output_type": "stream",
     "text": [
      "Prediction before training: f(5)=-1.875\n",
      "epoch 1: w=2.000, loss=38.68419266\n",
      "epoch 11: w=2.000, loss=1.34160626\n",
      "epoch 21: w=2.000, loss=0.35563082\n",
      "epoch 31: w=2.000, loss=0.31144208\n",
      "epoch 41: w=2.000, loss=0.29270688\n",
      "epoch 51: w=2.000, loss=0.27565396\n",
      "epoch 61: w=2.000, loss=0.25960913\n",
      "epoch 71: w=2.000, loss=0.24449866\n",
      "epoch 81: w=2.000, loss=0.23026747\n",
      "epoch 91: w=2.000, loss=0.21686473\n",
      "Prediction after training: f(5)=9.225\n"
     ]
    }
   ],
   "source": [
    "import torch\n",
    "import torch.nn as nn\n",
    "# initialize x, y and w\n",
    "x=torch.tensor([[1],[2],[3],[4]],dtype=torch.float32)\n",
    "y=torch.tensor([[2],[4],[6],[8]],dtype=torch.float32)\n",
    "# model must have no. of feature and instances defined\n",
    "n_samples,n_features=x.shape\n",
    "input_size=n_features\n",
    "output_size=n_features\n",
    "# model prediction via forward pass\n",
    "model = nn.Linear(input_size,output_size)\n",
    "# loss calculation\n",
    "loss=torch.nn.MSELoss()\n",
    "#parameter upfates/optmization\n",
    "optimizer=torch.optim.SGD(model.parameters(),lr=0.01)\n",
    "\n",
    "\n",
    "#x test is defined as tensor so that it can work with model\n",
    "x_test=torch.tensor([5],dtype=torch.float32)\n",
    "# for better visualization, express predict as a scalar\n",
    "print(f'Prediction before training: f(5)={model(x_test).item():.3f}')\n",
    "# training\n",
    "n_iters=100\n",
    "for epoch in range(n_iters):\n",
    "    y_pred=model(x) # use model to predict\n",
    "    l=loss(y,y_pred)\n",
    "    l.backward()# calculate gradient of loss w.r.t w\n",
    "                # grad is stored in w.grad\n",
    "    # update weights                        #Previously:\n",
    "    optimizer.step()                        # with torch.no_grad():\n",
    "    # empty gradients                       #     w -= learning_rate * w.grad \n",
    "    optimizer.zero_grad()                     #     w.grad.zero_()                                  \n",
    "    if epoch%10==0:\n",
    "        print(f'epoch {epoch+1}: w={w:.3f}, loss={l:.8f}')\n",
    "\n",
    "print(f'Prediction after training: f(5)={model(x_test).item():.3f}')\n",
    "\n",
    "# didn't need to create the model for ourself\n",
    "# optimization is faster\n"
   ]
  },
  {
   "cell_type": "markdown",
   "metadata": {},
   "source": [
    "## Present case 4 as a model"
   ]
  },
  {
   "cell_type": "code",
   "execution_count": null,
   "metadata": {},
   "outputs": [],
   "source": [
    "class LinearRegression(nn.module):\n",
    "    def __init__(self,input_dim,output_dim):\n",
    "        super(LinearRegression,self).__init__()\n",
    "        self.lin=nn.Linear(input_dim,output_dim)\n",
    "    def forward(self,x):\n",
    "        return self.lin(x)\n",
    "model=LinearRegression(input_size,output_size)"
   ]
  }
 ],
 "metadata": {
  "kernelspec": {
   "display_name": "LlamaENVpip",
   "language": "python",
   "name": "python3"
  },
  "language_info": {
   "codemirror_mode": {
    "name": "ipython",
    "version": 3
   },
   "file_extension": ".py",
   "mimetype": "text/x-python",
   "name": "python",
   "nbconvert_exporter": "python",
   "pygments_lexer": "ipython3",
   "version": "3.11.10"
  }
 },
 "nbformat": 4,
 "nbformat_minor": 2
}
