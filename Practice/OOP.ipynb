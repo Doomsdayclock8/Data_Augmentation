{
 "cells": [
  {
   "cell_type": "markdown",
   "metadata": {},
   "source": [
    "#### Use of Super"
   ]
  },
  {
   "cell_type": "code",
   "execution_count": 1,
   "metadata": {},
   "outputs": [],
   "source": [
    "class Sigma():\n",
    "    def __init__(self, name,age,penis):\n",
    "        self.name = name\n",
    "        self.age = age\n",
    "        self.penis=penis\n",
    "        \n",
    "    def __str__(self):\n",
    "        return f'{self.name} is {self.age} years old'"
   ]
  },
  {
   "cell_type": "code",
   "execution_count": 11,
   "metadata": {},
   "outputs": [
    {
     "name": "stdout",
     "output_type": "stream",
     "text": [
      "dreamybull is 27 years old\n"
     ]
    }
   ],
   "source": [
    "dreamybull =Sigma('dreamybull',27,8.3)\n",
    "print(d)\n"
   ]
  },
  {
   "cell_type": "code",
   "execution_count": 18,
   "metadata": {},
   "outputs": [],
   "source": [
    "class ambatukum(Sigma):\n",
    "    def __init__(self,name,age,penis,aura,pseudopower):\n",
    "        super().__init__(name,age,penis)\n",
    "        self.pseudo = pseudopower\n",
    "        self.aura = aura\n",
    "    def __str__(self):\n",
    "        return f'{self.name} is {self.age} years old, his aura is {self.aura} & his pseudopower is {self.pseudo}'\n",
    "    "
   ]
  },
  {
   "cell_type": "code",
   "execution_count": 19,
   "metadata": {},
   "outputs": [
    {
     "name": "stdout",
     "output_type": "stream",
     "text": [
      "yesking is 30 years old, his aura is 10000 & his pseudopower is 50000000\n"
     ]
    }
   ],
   "source": [
    "yesking=ambatukum('yesking',30,10,10000,50000000)\n",
    "print(yesking)"
   ]
  },
  {
   "cell_type": "code",
   "execution_count": 20,
   "metadata": {},
   "outputs": [
    {
     "data": {
      "text/plain": [
       "(0, 0)"
      ]
     },
     "execution_count": 20,
     "metadata": {},
     "output_type": "execute_result"
    }
   ],
   "source": [
    "import pandas as pd\n",
    "a=pd.DataFrame()\n",
    "a.shape"
   ]
  }
 ],
 "metadata": {
  "kernelspec": {
   "display_name": "LlamaENVpip",
   "language": "python",
   "name": "python3"
  },
  "language_info": {
   "codemirror_mode": {
    "name": "ipython",
    "version": 3
   },
   "file_extension": ".py",
   "mimetype": "text/x-python",
   "name": "python",
   "nbconvert_exporter": "python",
   "pygments_lexer": "ipython3",
   "version": "3.11.10"
  }
 },
 "nbformat": 4,
 "nbformat_minor": 2
}
